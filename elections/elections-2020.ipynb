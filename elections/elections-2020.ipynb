{
 "cells": [
  {
   "cell_type": "code",
   "execution_count": 1,
   "metadata": {},
   "outputs": [],
   "source": [
    "import pandas as pd\n",
    "import numpy as np\n",
    "from tqdm import tqdm"
   ]
  },
  {
   "cell_type": "code",
   "execution_count": 2,
   "metadata": {},
   "outputs": [
    {
     "data": {
      "text/html": [
       "<div>\n",
       "<style scoped>\n",
       "    .dataframe tbody tr th:only-of-type {\n",
       "        vertical-align: middle;\n",
       "    }\n",
       "\n",
       "    .dataframe tbody tr th {\n",
       "        vertical-align: top;\n",
       "    }\n",
       "\n",
       "    .dataframe thead th {\n",
       "        text-align: right;\n",
       "    }\n",
       "</style>\n",
       "<table border=\"1\" class=\"dataframe\">\n",
       "  <thead>\n",
       "    <tr style=\"text-align: right;\">\n",
       "      <th></th>\n",
       "      <th>year</th>\n",
       "      <th>state</th>\n",
       "      <th>state_po</th>\n",
       "      <th>county_name</th>\n",
       "      <th>county_fips</th>\n",
       "      <th>office</th>\n",
       "      <th>candidate</th>\n",
       "      <th>party</th>\n",
       "      <th>candidatevotes</th>\n",
       "      <th>totalvotes</th>\n",
       "      <th>version</th>\n",
       "      <th>mode</th>\n",
       "      <th>dem_ratio</th>\n",
       "      <th>county-state</th>\n",
       "    </tr>\n",
       "  </thead>\n",
       "  <tbody>\n",
       "    <tr>\n",
       "      <th>15</th>\n",
       "      <td>2012</td>\n",
       "      <td>SOUTH DAKOTA</td>\n",
       "      <td>SD</td>\n",
       "      <td>SHANNON</td>\n",
       "      <td>46113.0</td>\n",
       "      <td>US PRESIDENT</td>\n",
       "      <td>BARACK OBAMA</td>\n",
       "      <td>DEMOCRAT</td>\n",
       "      <td>2937</td>\n",
       "      <td>3145</td>\n",
       "      <td>20220315</td>\n",
       "      <td>TOTAL</td>\n",
       "      <td>0.933863</td>\n",
       "      <td>SHANNON - SD</td>\n",
       "    </tr>\n",
       "    <tr>\n",
       "      <th>16</th>\n",
       "      <td>2020</td>\n",
       "      <td>RHODE ISLAND</td>\n",
       "      <td>RI</td>\n",
       "      <td>FEDERAL PRECINCT</td>\n",
       "      <td>NaN</td>\n",
       "      <td>US PRESIDENT</td>\n",
       "      <td>JOSEPH R BIDEN JR</td>\n",
       "      <td>DEMOCRAT</td>\n",
       "      <td>1276</td>\n",
       "      <td>1374</td>\n",
       "      <td>20220315</td>\n",
       "      <td>TOTAL</td>\n",
       "      <td>0.928675</td>\n",
       "      <td>FEDERAL PRECINCT - RI</td>\n",
       "    </tr>\n",
       "    <tr>\n",
       "      <th>17</th>\n",
       "      <td>2008</td>\n",
       "      <td>DISTRICT OF COLUMBIA</td>\n",
       "      <td>DC</td>\n",
       "      <td>DISTRICT OF COLUMBIA</td>\n",
       "      <td>11001.0</td>\n",
       "      <td>US PRESIDENT</td>\n",
       "      <td>BARACK OBAMA</td>\n",
       "      <td>DEMOCRAT</td>\n",
       "      <td>245800</td>\n",
       "      <td>265853</td>\n",
       "      <td>20220315</td>\n",
       "      <td>TOTAL</td>\n",
       "      <td>0.924571</td>\n",
       "      <td>DISTRICT OF COLUMBIA - DC</td>\n",
       "    </tr>\n",
       "    <tr>\n",
       "      <th>18</th>\n",
       "      <td>2020</td>\n",
       "      <td>DISTRICT OF COLUMBIA</td>\n",
       "      <td>DC</td>\n",
       "      <td>DISTRICT OF COLUMBIA</td>\n",
       "      <td>11001.0</td>\n",
       "      <td>US PRESIDENT</td>\n",
       "      <td>JOSEPH R BIDEN JR</td>\n",
       "      <td>DEMOCRAT</td>\n",
       "      <td>317323</td>\n",
       "      <td>344356</td>\n",
       "      <td>20220315</td>\n",
       "      <td>TOTAL</td>\n",
       "      <td>0.921497</td>\n",
       "      <td>DISTRICT OF COLUMBIA - DC</td>\n",
       "    </tr>\n",
       "    <tr>\n",
       "      <th>19</th>\n",
       "      <td>2012</td>\n",
       "      <td>DISTRICT OF COLUMBIA</td>\n",
       "      <td>DC</td>\n",
       "      <td>DISTRICT OF COLUMBIA</td>\n",
       "      <td>11001.0</td>\n",
       "      <td>US PRESIDENT</td>\n",
       "      <td>BARACK OBAMA</td>\n",
       "      <td>DEMOCRAT</td>\n",
       "      <td>267070</td>\n",
       "      <td>293764</td>\n",
       "      <td>20220315</td>\n",
       "      <td>TOTAL</td>\n",
       "      <td>0.909131</td>\n",
       "      <td>DISTRICT OF COLUMBIA - DC</td>\n",
       "    </tr>\n",
       "    <tr>\n",
       "      <th>...</th>\n",
       "      <td>...</td>\n",
       "      <td>...</td>\n",
       "      <td>...</td>\n",
       "      <td>...</td>\n",
       "      <td>...</td>\n",
       "      <td>...</td>\n",
       "      <td>...</td>\n",
       "      <td>...</td>\n",
       "      <td>...</td>\n",
       "      <td>...</td>\n",
       "      <td>...</td>\n",
       "      <td>...</td>\n",
       "      <td>...</td>\n",
       "      <td>...</td>\n",
       "    </tr>\n",
       "    <tr>\n",
       "      <th>20901</th>\n",
       "      <td>2020</td>\n",
       "      <td>VIRGINIA</td>\n",
       "      <td>VA</td>\n",
       "      <td>WYTHE</td>\n",
       "      <td>51197.0</td>\n",
       "      <td>US PRESIDENT</td>\n",
       "      <td>JOSEPH R BIDEN JR</td>\n",
       "      <td>DEMOCRAT</td>\n",
       "      <td>0</td>\n",
       "      <td>15073</td>\n",
       "      <td>20220315</td>\n",
       "      <td>PROVISIONAL</td>\n",
       "      <td>0.000000</td>\n",
       "      <td>WYTHE - VA</td>\n",
       "    </tr>\n",
       "    <tr>\n",
       "      <th>20902</th>\n",
       "      <td>2020</td>\n",
       "      <td>VIRGINIA</td>\n",
       "      <td>VA</td>\n",
       "      <td>BUENA VISTA CITY</td>\n",
       "      <td>51530.0</td>\n",
       "      <td>US PRESIDENT</td>\n",
       "      <td>JOSEPH R BIDEN JR</td>\n",
       "      <td>DEMOCRAT</td>\n",
       "      <td>0</td>\n",
       "      <td>2776</td>\n",
       "      <td>20220315</td>\n",
       "      <td>PROVISIONAL</td>\n",
       "      <td>0.000000</td>\n",
       "      <td>BUENA VISTA CITY - VA</td>\n",
       "    </tr>\n",
       "    <tr>\n",
       "      <th>20903</th>\n",
       "      <td>2020</td>\n",
       "      <td>VIRGINIA</td>\n",
       "      <td>VA</td>\n",
       "      <td>COVINGTON CITY</td>\n",
       "      <td>51580.0</td>\n",
       "      <td>US PRESIDENT</td>\n",
       "      <td>JOSEPH R BIDEN JR</td>\n",
       "      <td>DEMOCRAT</td>\n",
       "      <td>0</td>\n",
       "      <td>2603</td>\n",
       "      <td>20220315</td>\n",
       "      <td>PROVISIONAL</td>\n",
       "      <td>0.000000</td>\n",
       "      <td>COVINGTON CITY - VA</td>\n",
       "    </tr>\n",
       "    <tr>\n",
       "      <th>20904</th>\n",
       "      <td>2020</td>\n",
       "      <td>VIRGINIA</td>\n",
       "      <td>VA</td>\n",
       "      <td>EMPORIA CITY</td>\n",
       "      <td>51595.0</td>\n",
       "      <td>US PRESIDENT</td>\n",
       "      <td>JOSEPH R BIDEN JR</td>\n",
       "      <td>DEMOCRAT</td>\n",
       "      <td>0</td>\n",
       "      <td>2384</td>\n",
       "      <td>20220315</td>\n",
       "      <td>PROVISIONAL</td>\n",
       "      <td>0.000000</td>\n",
       "      <td>EMPORIA CITY - VA</td>\n",
       "    </tr>\n",
       "    <tr>\n",
       "      <th>20905</th>\n",
       "      <td>2020</td>\n",
       "      <td>VIRGINIA</td>\n",
       "      <td>VA</td>\n",
       "      <td>GALAX CITY</td>\n",
       "      <td>51640.0</td>\n",
       "      <td>US PRESIDENT</td>\n",
       "      <td>JOSEPH R BIDEN JR</td>\n",
       "      <td>DEMOCRAT</td>\n",
       "      <td>0</td>\n",
       "      <td>2639</td>\n",
       "      <td>20220315</td>\n",
       "      <td>PROVISIONAL</td>\n",
       "      <td>0.000000</td>\n",
       "      <td>GALAX CITY - VA</td>\n",
       "    </tr>\n",
       "  </tbody>\n",
       "</table>\n",
       "<p>20891 rows × 14 columns</p>\n",
       "</div>"
      ],
      "text/plain": [
       "       year                 state state_po           county_name  county_fips  \\\n",
       "15     2012          SOUTH DAKOTA       SD               SHANNON      46113.0   \n",
       "16     2020          RHODE ISLAND       RI      FEDERAL PRECINCT          NaN   \n",
       "17     2008  DISTRICT OF COLUMBIA       DC  DISTRICT OF COLUMBIA      11001.0   \n",
       "18     2020  DISTRICT OF COLUMBIA       DC  DISTRICT OF COLUMBIA      11001.0   \n",
       "19     2012  DISTRICT OF COLUMBIA       DC  DISTRICT OF COLUMBIA      11001.0   \n",
       "...     ...                   ...      ...                   ...          ...   \n",
       "20901  2020              VIRGINIA       VA                 WYTHE      51197.0   \n",
       "20902  2020              VIRGINIA       VA      BUENA VISTA CITY      51530.0   \n",
       "20903  2020              VIRGINIA       VA        COVINGTON CITY      51580.0   \n",
       "20904  2020              VIRGINIA       VA          EMPORIA CITY      51595.0   \n",
       "20905  2020              VIRGINIA       VA            GALAX CITY      51640.0   \n",
       "\n",
       "             office          candidate     party  candidatevotes  totalvotes  \\\n",
       "15     US PRESIDENT       BARACK OBAMA  DEMOCRAT            2937        3145   \n",
       "16     US PRESIDENT  JOSEPH R BIDEN JR  DEMOCRAT            1276        1374   \n",
       "17     US PRESIDENT       BARACK OBAMA  DEMOCRAT          245800      265853   \n",
       "18     US PRESIDENT  JOSEPH R BIDEN JR  DEMOCRAT          317323      344356   \n",
       "19     US PRESIDENT       BARACK OBAMA  DEMOCRAT          267070      293764   \n",
       "...             ...                ...       ...             ...         ...   \n",
       "20901  US PRESIDENT  JOSEPH R BIDEN JR  DEMOCRAT               0       15073   \n",
       "20902  US PRESIDENT  JOSEPH R BIDEN JR  DEMOCRAT               0        2776   \n",
       "20903  US PRESIDENT  JOSEPH R BIDEN JR  DEMOCRAT               0        2603   \n",
       "20904  US PRESIDENT  JOSEPH R BIDEN JR  DEMOCRAT               0        2384   \n",
       "20905  US PRESIDENT  JOSEPH R BIDEN JR  DEMOCRAT               0        2639   \n",
       "\n",
       "        version         mode  dem_ratio               county-state  \n",
       "15     20220315        TOTAL   0.933863               SHANNON - SD  \n",
       "16     20220315        TOTAL   0.928675      FEDERAL PRECINCT - RI  \n",
       "17     20220315        TOTAL   0.924571  DISTRICT OF COLUMBIA - DC  \n",
       "18     20220315        TOTAL   0.921497  DISTRICT OF COLUMBIA - DC  \n",
       "19     20220315        TOTAL   0.909131  DISTRICT OF COLUMBIA - DC  \n",
       "...         ...          ...        ...                        ...  \n",
       "20901  20220315  PROVISIONAL   0.000000                 WYTHE - VA  \n",
       "20902  20220315  PROVISIONAL   0.000000      BUENA VISTA CITY - VA  \n",
       "20903  20220315  PROVISIONAL   0.000000        COVINGTON CITY - VA  \n",
       "20904  20220315  PROVISIONAL   0.000000          EMPORIA CITY - VA  \n",
       "20905  20220315  PROVISIONAL   0.000000            GALAX CITY - VA  \n",
       "\n",
       "[20891 rows x 14 columns]"
      ]
     },
     "execution_count": 2,
     "metadata": {},
     "output_type": "execute_result"
    }
   ],
   "source": [
    "df_source = pd.read_csv(\"county-elections-2020.csv\")\n",
    "df_source.dropna(subset=[\"dem_ratio\"], inplace=True)\n",
    "df_source"
   ]
  },
  {
   "cell_type": "code",
   "execution_count": 3,
   "metadata": {},
   "outputs": [
    {
     "data": {
      "text/plain": [
       "3193"
      ]
     },
     "execution_count": 3,
     "metadata": {},
     "output_type": "execute_result"
    }
   ],
   "source": [
    "counties = df_source[\"county-state\"].unique()\n",
    "len(counties)"
   ]
  },
  {
   "cell_type": "code",
   "execution_count": 4,
   "metadata": {},
   "outputs": [
    {
     "data": {
      "text/html": [
       "<div>\n",
       "<style scoped>\n",
       "    .dataframe tbody tr th:only-of-type {\n",
       "        vertical-align: middle;\n",
       "    }\n",
       "\n",
       "    .dataframe tbody tr th {\n",
       "        vertical-align: top;\n",
       "    }\n",
       "\n",
       "    .dataframe thead th {\n",
       "        text-align: right;\n",
       "    }\n",
       "</style>\n",
       "<table border=\"1\" class=\"dataframe\">\n",
       "  <thead>\n",
       "    <tr style=\"text-align: right;\">\n",
       "      <th></th>\n",
       "      <th>county</th>\n",
       "    </tr>\n",
       "  </thead>\n",
       "  <tbody>\n",
       "    <tr>\n",
       "      <th>0</th>\n",
       "      <td>SHANNON - SD</td>\n",
       "    </tr>\n",
       "    <tr>\n",
       "      <th>1</th>\n",
       "      <td>FEDERAL PRECINCT - RI</td>\n",
       "    </tr>\n",
       "    <tr>\n",
       "      <th>2</th>\n",
       "      <td>DISTRICT OF COLUMBIA - DC</td>\n",
       "    </tr>\n",
       "    <tr>\n",
       "      <th>3</th>\n",
       "      <td>BRONX - NY</td>\n",
       "    </tr>\n",
       "    <tr>\n",
       "      <th>4</th>\n",
       "      <td>PETERSBURG - VA</td>\n",
       "    </tr>\n",
       "    <tr>\n",
       "      <th>...</th>\n",
       "      <td>...</td>\n",
       "    </tr>\n",
       "    <tr>\n",
       "      <th>3188</th>\n",
       "      <td>KING - TX</td>\n",
       "    </tr>\n",
       "    <tr>\n",
       "      <th>3189</th>\n",
       "      <td>HANSFORD - TX</td>\n",
       "    </tr>\n",
       "    <tr>\n",
       "      <th>3190</th>\n",
       "      <td>OCHILTREE - TX</td>\n",
       "    </tr>\n",
       "    <tr>\n",
       "      <th>3191</th>\n",
       "      <td>GLASSCOCK - TX</td>\n",
       "    </tr>\n",
       "    <tr>\n",
       "      <th>3192</th>\n",
       "      <td>STATEWIDE WRITEIN - CT</td>\n",
       "    </tr>\n",
       "  </tbody>\n",
       "</table>\n",
       "<p>3193 rows × 1 columns</p>\n",
       "</div>"
      ],
      "text/plain": [
       "                         county\n",
       "0                  SHANNON - SD\n",
       "1         FEDERAL PRECINCT - RI\n",
       "2     DISTRICT OF COLUMBIA - DC\n",
       "3                    BRONX - NY\n",
       "4               PETERSBURG - VA\n",
       "...                         ...\n",
       "3188                  KING - TX\n",
       "3189              HANSFORD - TX\n",
       "3190             OCHILTREE - TX\n",
       "3191             GLASSCOCK - TX\n",
       "3192     STATEWIDE WRITEIN - CT\n",
       "\n",
       "[3193 rows x 1 columns]"
      ]
     },
     "execution_count": 4,
     "metadata": {},
     "output_type": "execute_result"
    }
   ],
   "source": [
    "df_counties = pd.DataFrame.from_dict({\"county\": counties})\n",
    "df_counties"
   ]
  },
  {
   "cell_type": "code",
   "execution_count": 5,
   "metadata": {},
   "outputs": [
    {
     "data": {
      "text/plain": [
       "{0: 2000, 1: 2004, 2: 2008, 3: 2012, 4: 2016, 5: 2020}"
      ]
     },
     "execution_count": 5,
     "metadata": {},
     "output_type": "execute_result"
    }
   ],
   "source": [
    "YEARS = [2000, 2004, 2008, 2012, 2016, 2020]\n",
    "YEARS_DICT = dict(zip(np.arange(len(YEARS)), YEARS))\n",
    "YEARS_DICT"
   ]
  },
  {
   "cell_type": "code",
   "execution_count": 6,
   "metadata": {},
   "outputs": [
    {
     "data": {
      "text/plain": [
       "0.031446541"
      ]
     },
     "execution_count": 6,
     "metadata": {},
     "output_type": "execute_result"
    }
   ],
   "source": [
    "df_source[(df_source['county-state'] == 'KING - TX') & (df_source['year'] == 2016)]['dem_ratio'].values[0]"
   ]
  },
  {
   "cell_type": "code",
   "execution_count": 29,
   "metadata": {},
   "outputs": [
    {
     "name": "stderr",
     "output_type": "stream",
     "text": [
      "100%|██████████| 3193/3193 [00:02<00:00, 1553.57it/s]\n",
      "100%|██████████| 3193/3193 [00:02<00:00, 1556.35it/s]\n",
      "100%|██████████| 3193/3193 [00:02<00:00, 1537.34it/s]\n",
      "100%|██████████| 3193/3193 [00:02<00:00, 1503.38it/s]\n",
      "100%|██████████| 3193/3193 [00:02<00:00, 1515.60it/s]\n",
      "100%|██████████| 3193/3193 [00:02<00:00, 1509.25it/s]\n"
     ]
    }
   ],
   "source": [
    "def county_year_query(county: str, year: int) -> float | None:\n",
    "    return df_source[\n",
    "        (df_source[\"county-state\"] == county) & (df_source[\"year\"] == year)\n",
    "    ]\n",
    "\n",
    "\n",
    "for year in YEARS:\n",
    "    dem_ratios = []\n",
    "    for county in tqdm(df_counties[\"county\"]):\n",
    "        query_result = county_year_query(county, year)\n",
    "\n",
    "        candidate_votes = sum(query_result[\"candidatevotes\"])\n",
    "        total_votes = sum(query_result[\"totalvotes\"])\n",
    "        if total_votes == 0:\n",
    "            dem_ratio = 0\n",
    "        else:\n",
    "            dem_ratio = candidate_votes / total_votes\n",
    "\n",
    "        # try:\n",
    "        #     dem_ratio = sum(query_result[\"candidatevotes\"]) / sum(\n",
    "        #         query_result[\"totalvotes\"]\n",
    "        #     )\n",
    "        # except ZeroDivisionError:\n",
    "        #     dem_ratio = None\n",
    "\n",
    "        dem_ratios.append(dem_ratio)\n",
    "    df_counties[f\"dr_{year}\"] = dem_ratios"
   ]
  },
  {
   "cell_type": "code",
   "execution_count": 30,
   "metadata": {},
   "outputs": [
    {
     "data": {
      "text/html": [
       "<div>\n",
       "<style scoped>\n",
       "    .dataframe tbody tr th:only-of-type {\n",
       "        vertical-align: middle;\n",
       "    }\n",
       "\n",
       "    .dataframe tbody tr th {\n",
       "        vertical-align: top;\n",
       "    }\n",
       "\n",
       "    .dataframe thead th {\n",
       "        text-align: right;\n",
       "    }\n",
       "</style>\n",
       "<table border=\"1\" class=\"dataframe\">\n",
       "  <thead>\n",
       "    <tr style=\"text-align: right;\">\n",
       "      <th></th>\n",
       "      <th>county</th>\n",
       "      <th>dr_2000</th>\n",
       "      <th>dr_2004</th>\n",
       "      <th>dr_2008</th>\n",
       "      <th>dr_2012</th>\n",
       "      <th>dr_2016</th>\n",
       "      <th>dr_2020</th>\n",
       "    </tr>\n",
       "  </thead>\n",
       "  <tbody>\n",
       "    <tr>\n",
       "      <th>0</th>\n",
       "      <td>SHANNON - SD</td>\n",
       "      <td>0.853559</td>\n",
       "      <td>0.846227</td>\n",
       "      <td>0.896500</td>\n",
       "      <td>0.933863</td>\n",
       "      <td>0.000000</td>\n",
       "      <td>0.000000</td>\n",
       "    </tr>\n",
       "    <tr>\n",
       "      <th>1</th>\n",
       "      <td>FEDERAL PRECINCT - RI</td>\n",
       "      <td>0.000000</td>\n",
       "      <td>0.000000</td>\n",
       "      <td>0.000000</td>\n",
       "      <td>0.804805</td>\n",
       "      <td>0.875000</td>\n",
       "      <td>0.928675</td>\n",
       "    </tr>\n",
       "    <tr>\n",
       "      <th>2</th>\n",
       "      <td>DISTRICT OF COLUMBIA - DC</td>\n",
       "      <td>0.851551</td>\n",
       "      <td>0.891839</td>\n",
       "      <td>0.924571</td>\n",
       "      <td>0.909131</td>\n",
       "      <td>0.908638</td>\n",
       "      <td>0.921497</td>\n",
       "    </tr>\n",
       "    <tr>\n",
       "      <th>3</th>\n",
       "      <td>BRONX - NY</td>\n",
       "      <td>0.862856</td>\n",
       "      <td>0.807567</td>\n",
       "      <td>0.887158</td>\n",
       "      <td>0.902145</td>\n",
       "      <td>0.885173</td>\n",
       "      <td>0.821866</td>\n",
       "    </tr>\n",
       "    <tr>\n",
       "      <th>4</th>\n",
       "      <td>PETERSBURG - VA</td>\n",
       "      <td>0.791087</td>\n",
       "      <td>0.810277</td>\n",
       "      <td>0.886358</td>\n",
       "      <td>0.897850</td>\n",
       "      <td>0.871972</td>\n",
       "      <td>0.000000</td>\n",
       "    </tr>\n",
       "    <tr>\n",
       "      <th>...</th>\n",
       "      <td>...</td>\n",
       "      <td>...</td>\n",
       "      <td>...</td>\n",
       "      <td>...</td>\n",
       "      <td>...</td>\n",
       "      <td>...</td>\n",
       "      <td>...</td>\n",
       "    </tr>\n",
       "    <tr>\n",
       "      <th>3188</th>\n",
       "      <td>KING - TX</td>\n",
       "      <td>0.102190</td>\n",
       "      <td>0.115385</td>\n",
       "      <td>0.049080</td>\n",
       "      <td>0.034483</td>\n",
       "      <td>0.031447</td>\n",
       "      <td>0.050314</td>\n",
       "    </tr>\n",
       "    <tr>\n",
       "      <th>3189</th>\n",
       "      <td>HANSFORD - TX</td>\n",
       "      <td>0.094828</td>\n",
       "      <td>0.111784</td>\n",
       "      <td>0.114177</td>\n",
       "      <td>0.081040</td>\n",
       "      <td>0.087827</td>\n",
       "      <td>0.081094</td>\n",
       "    </tr>\n",
       "    <tr>\n",
       "      <th>3190</th>\n",
       "      <td>OCHILTREE - TX</td>\n",
       "      <td>0.084740</td>\n",
       "      <td>0.079005</td>\n",
       "      <td>0.078160</td>\n",
       "      <td>0.084531</td>\n",
       "      <td>0.091272</td>\n",
       "      <td>0.095691</td>\n",
       "    </tr>\n",
       "    <tr>\n",
       "      <th>3191</th>\n",
       "      <td>GLASSCOCK - TX</td>\n",
       "      <td>0.068301</td>\n",
       "      <td>0.082552</td>\n",
       "      <td>0.093357</td>\n",
       "      <td>0.076125</td>\n",
       "      <td>0.056291</td>\n",
       "      <td>0.059724</td>\n",
       "    </tr>\n",
       "    <tr>\n",
       "      <th>3192</th>\n",
       "      <td>STATEWIDE WRITEIN - CT</td>\n",
       "      <td>0.000000</td>\n",
       "      <td>0.000000</td>\n",
       "      <td>0.000000</td>\n",
       "      <td>0.000000</td>\n",
       "      <td>0.000000</td>\n",
       "      <td>0.000000</td>\n",
       "    </tr>\n",
       "  </tbody>\n",
       "</table>\n",
       "<p>3193 rows × 7 columns</p>\n",
       "</div>"
      ],
      "text/plain": [
       "                         county   dr_2000   dr_2004   dr_2008   dr_2012  \\\n",
       "0                  SHANNON - SD  0.853559  0.846227  0.896500  0.933863   \n",
       "1         FEDERAL PRECINCT - RI  0.000000  0.000000  0.000000  0.804805   \n",
       "2     DISTRICT OF COLUMBIA - DC  0.851551  0.891839  0.924571  0.909131   \n",
       "3                    BRONX - NY  0.862856  0.807567  0.887158  0.902145   \n",
       "4               PETERSBURG - VA  0.791087  0.810277  0.886358  0.897850   \n",
       "...                         ...       ...       ...       ...       ...   \n",
       "3188                  KING - TX  0.102190  0.115385  0.049080  0.034483   \n",
       "3189              HANSFORD - TX  0.094828  0.111784  0.114177  0.081040   \n",
       "3190             OCHILTREE - TX  0.084740  0.079005  0.078160  0.084531   \n",
       "3191             GLASSCOCK - TX  0.068301  0.082552  0.093357  0.076125   \n",
       "3192     STATEWIDE WRITEIN - CT  0.000000  0.000000  0.000000  0.000000   \n",
       "\n",
       "       dr_2016   dr_2020  \n",
       "0     0.000000  0.000000  \n",
       "1     0.875000  0.928675  \n",
       "2     0.908638  0.921497  \n",
       "3     0.885173  0.821866  \n",
       "4     0.871972  0.000000  \n",
       "...        ...       ...  \n",
       "3188  0.031447  0.050314  \n",
       "3189  0.087827  0.081094  \n",
       "3190  0.091272  0.095691  \n",
       "3191  0.056291  0.059724  \n",
       "3192  0.000000  0.000000  \n",
       "\n",
       "[3193 rows x 7 columns]"
      ]
     },
     "execution_count": 30,
     "metadata": {},
     "output_type": "execute_result"
    }
   ],
   "source": [
    "df_counties"
   ]
  },
  {
   "cell_type": "code",
   "execution_count": 44,
   "metadata": {},
   "outputs": [],
   "source": [
    "def calculate_trend(row) -> float:\n",
    "    weights = np.linspace(start=0.5, stop=1, endpoint=True, num=len(YEARS))\n",
    "    year_columns = [f\"dr_{year}\" for year in YEARS]\n",
    "\n",
    "    trend = 1\n",
    "\n",
    "    for year_idx, year in YEARS_DICT.items():\n",
    "        if year_idx == 0:\n",
    "            continue\n",
    "\n",
    "        if (row[year_columns[year_idx]] == 0) | (row[year_columns[year_idx - 1]] == 0):\n",
    "            continue\n",
    "\n",
    "        diff = row[year_columns[year_idx]] - row[year_columns[year_idx - 1]]\n",
    "        trend += weights[year_idx] * diff\n",
    "    \n",
    "    return trend"
   ]
  },
  {
   "cell_type": "code",
   "execution_count": 45,
   "metadata": {},
   "outputs": [
    {
     "name": "stderr",
     "output_type": "stream",
     "text": [
      "3193it [00:00, 23594.35it/s]\n"
     ]
    },
    {
     "data": {
      "text/html": [
       "<div>\n",
       "<style scoped>\n",
       "    .dataframe tbody tr th:only-of-type {\n",
       "        vertical-align: middle;\n",
       "    }\n",
       "\n",
       "    .dataframe tbody tr th {\n",
       "        vertical-align: top;\n",
       "    }\n",
       "\n",
       "    .dataframe thead th {\n",
       "        text-align: right;\n",
       "    }\n",
       "</style>\n",
       "<table border=\"1\" class=\"dataframe\">\n",
       "  <thead>\n",
       "    <tr style=\"text-align: right;\">\n",
       "      <th></th>\n",
       "      <th>county</th>\n",
       "      <th>dr_2000</th>\n",
       "      <th>dr_2004</th>\n",
       "      <th>dr_2008</th>\n",
       "      <th>dr_2012</th>\n",
       "      <th>dr_2016</th>\n",
       "      <th>dr_2020</th>\n",
       "      <th>trend_score</th>\n",
       "    </tr>\n",
       "  </thead>\n",
       "  <tbody>\n",
       "    <tr>\n",
       "      <th>0</th>\n",
       "      <td>SHANNON - SD</td>\n",
       "      <td>0.853559</td>\n",
       "      <td>0.846227</td>\n",
       "      <td>0.896500</td>\n",
       "      <td>0.933863</td>\n",
       "      <td>0.000000</td>\n",
       "      <td>0.000000</td>\n",
       "      <td>1.060683</td>\n",
       "    </tr>\n",
       "    <tr>\n",
       "      <th>1</th>\n",
       "      <td>FEDERAL PRECINCT - RI</td>\n",
       "      <td>0.000000</td>\n",
       "      <td>0.000000</td>\n",
       "      <td>0.000000</td>\n",
       "      <td>0.804805</td>\n",
       "      <td>0.875000</td>\n",
       "      <td>0.928675</td>\n",
       "      <td>1.116851</td>\n",
       "    </tr>\n",
       "    <tr>\n",
       "      <th>2</th>\n",
       "      <td>DISTRICT OF COLUMBIA - DC</td>\n",
       "      <td>0.851551</td>\n",
       "      <td>0.891839</td>\n",
       "      <td>0.924571</td>\n",
       "      <td>0.909131</td>\n",
       "      <td>0.908638</td>\n",
       "      <td>0.921497</td>\n",
       "      <td>1.047149</td>\n",
       "    </tr>\n",
       "    <tr>\n",
       "      <th>3</th>\n",
       "      <td>BRONX - NY</td>\n",
       "      <td>0.862856</td>\n",
       "      <td>0.807567</td>\n",
       "      <td>0.887158</td>\n",
       "      <td>0.902145</td>\n",
       "      <td>0.885173</td>\n",
       "      <td>0.821866</td>\n",
       "      <td>0.955948</td>\n",
       "    </tr>\n",
       "    <tr>\n",
       "      <th>4</th>\n",
       "      <td>PETERSBURG - VA</td>\n",
       "      <td>0.791087</td>\n",
       "      <td>0.810277</td>\n",
       "      <td>0.886358</td>\n",
       "      <td>0.897850</td>\n",
       "      <td>0.871972</td>\n",
       "      <td>0.000000</td>\n",
       "      <td>1.050674</td>\n",
       "    </tr>\n",
       "    <tr>\n",
       "      <th>...</th>\n",
       "      <td>...</td>\n",
       "      <td>...</td>\n",
       "      <td>...</td>\n",
       "      <td>...</td>\n",
       "      <td>...</td>\n",
       "      <td>...</td>\n",
       "      <td>...</td>\n",
       "      <td>...</td>\n",
       "    </tr>\n",
       "    <tr>\n",
       "      <th>3188</th>\n",
       "      <td>KING - TX</td>\n",
       "      <td>0.102190</td>\n",
       "      <td>0.115385</td>\n",
       "      <td>0.049080</td>\n",
       "      <td>0.034483</td>\n",
       "      <td>0.031447</td>\n",
       "      <td>0.050314</td>\n",
       "      <td>0.965961</td>\n",
       "    </tr>\n",
       "    <tr>\n",
       "      <th>3189</th>\n",
       "      <td>HANSFORD - TX</td>\n",
       "      <td>0.094828</td>\n",
       "      <td>0.111784</td>\n",
       "      <td>0.114177</td>\n",
       "      <td>0.081040</td>\n",
       "      <td>0.087827</td>\n",
       "      <td>0.081094</td>\n",
       "      <td>0.984715</td>\n",
       "    </tr>\n",
       "    <tr>\n",
       "      <th>3190</th>\n",
       "      <td>OCHILTREE - TX</td>\n",
       "      <td>0.084740</td>\n",
       "      <td>0.079005</td>\n",
       "      <td>0.078160</td>\n",
       "      <td>0.084531</td>\n",
       "      <td>0.091272</td>\n",
       "      <td>0.095691</td>\n",
       "      <td>1.011550</td>\n",
       "    </tr>\n",
       "    <tr>\n",
       "      <th>3191</th>\n",
       "      <td>GLASSCOCK - TX</td>\n",
       "      <td>0.068301</td>\n",
       "      <td>0.082552</td>\n",
       "      <td>0.093357</td>\n",
       "      <td>0.076125</td>\n",
       "      <td>0.056291</td>\n",
       "      <td>0.059724</td>\n",
       "      <td>0.987911</td>\n",
       "    </tr>\n",
       "    <tr>\n",
       "      <th>3192</th>\n",
       "      <td>STATEWIDE WRITEIN - CT</td>\n",
       "      <td>0.000000</td>\n",
       "      <td>0.000000</td>\n",
       "      <td>0.000000</td>\n",
       "      <td>0.000000</td>\n",
       "      <td>0.000000</td>\n",
       "      <td>0.000000</td>\n",
       "      <td>1.000000</td>\n",
       "    </tr>\n",
       "  </tbody>\n",
       "</table>\n",
       "<p>3193 rows × 8 columns</p>\n",
       "</div>"
      ],
      "text/plain": [
       "                         county   dr_2000   dr_2004   dr_2008   dr_2012  \\\n",
       "0                  SHANNON - SD  0.853559  0.846227  0.896500  0.933863   \n",
       "1         FEDERAL PRECINCT - RI  0.000000  0.000000  0.000000  0.804805   \n",
       "2     DISTRICT OF COLUMBIA - DC  0.851551  0.891839  0.924571  0.909131   \n",
       "3                    BRONX - NY  0.862856  0.807567  0.887158  0.902145   \n",
       "4               PETERSBURG - VA  0.791087  0.810277  0.886358  0.897850   \n",
       "...                         ...       ...       ...       ...       ...   \n",
       "3188                  KING - TX  0.102190  0.115385  0.049080  0.034483   \n",
       "3189              HANSFORD - TX  0.094828  0.111784  0.114177  0.081040   \n",
       "3190             OCHILTREE - TX  0.084740  0.079005  0.078160  0.084531   \n",
       "3191             GLASSCOCK - TX  0.068301  0.082552  0.093357  0.076125   \n",
       "3192     STATEWIDE WRITEIN - CT  0.000000  0.000000  0.000000  0.000000   \n",
       "\n",
       "       dr_2016   dr_2020  trend_score  \n",
       "0     0.000000  0.000000     1.060683  \n",
       "1     0.875000  0.928675     1.116851  \n",
       "2     0.908638  0.921497     1.047149  \n",
       "3     0.885173  0.821866     0.955948  \n",
       "4     0.871972  0.000000     1.050674  \n",
       "...        ...       ...          ...  \n",
       "3188  0.031447  0.050314     0.965961  \n",
       "3189  0.087827  0.081094     0.984715  \n",
       "3190  0.091272  0.095691     1.011550  \n",
       "3191  0.056291  0.059724     0.987911  \n",
       "3192  0.000000  0.000000     1.000000  \n",
       "\n",
       "[3193 rows x 8 columns]"
      ]
     },
     "execution_count": 45,
     "metadata": {},
     "output_type": "execute_result"
    }
   ],
   "source": [
    "trend_score = [calculate_trend(row) for row_idx, row in tqdm(df_counties.iterrows())]\n",
    "df_counties[\"trend_score\"] = trend_score\n",
    "df_counties"
   ]
  },
  {
   "cell_type": "code",
   "execution_count": 46,
   "metadata": {},
   "outputs": [],
   "source": [
    "df_counties.to_csv(\"democrat-ratio-by-county-2020.csv\")"
   ]
  },
  {
   "cell_type": "code",
   "execution_count": null,
   "metadata": {},
   "outputs": [
    {
     "data": {
      "application/vnd.plotly.v1+json": {
       "config": {
        "plotlyServerURL": "https://plot.ly"
       },
       "data": [
        {
         "customdata": [
          [
           "SHANNON - SD"
          ],
          [
           "FEDERAL PRECINCT - RI"
          ],
          [
           "DISTRICT OF COLUMBIA - DC"
          ],
          [
           "BRONX - NY"
          ],
          [
           "PETERSBURG - VA"
          ],
          [
           "PRINCE GEORGE'S - MD"
          ],
          [
           "JEFFERSON - MS"
          ],
          [
           "OGLALA LAKOTA - SD"
          ],
          [
           "CLAIBORNE - MS"
          ],
          [
           "BALTIMORE CITY - MD"
          ],
          [
           "MACON - AL"
          ],
          [
           "MENOMINEE - WI"
          ],
          [
           "NEW YORK - NY"
          ],
          [
           "STARR - TX"
          ],
          [
           "DISTRICT 99 - AK"
          ],
          [
           "PHILADELPHIA - PA"
          ],
          [
           "SAN FRANCISCO - CA"
          ],
          [
           "CLAYTON - GA"
          ],
          [
           "GREENE - AL"
          ],
          [
           "ZAVALA - TX"
          ],
          [
           "HOLMES - MS"
          ],
          [
           "ST. LOUIS CITY - MO"
          ],
          [
           "ORLEANS - LA"
          ],
          [
           "SIOUX - ND"
          ],
          [
           "MARIN - CA"
          ],
          [
           "TAOS - NM"
          ],
          [
           "HANCOCK - GA"
          ],
          [
           "KINGS - NY"
          ],
          [
           "SUFFOLK - MA"
          ],
          [
           "ALAMEDA - CA"
          ],
          [
           "DEKALB - GA"
          ],
          [
           "SAN MIGUEL - NM"
          ],
          [
           "CHARLOTTESVILLE - VA"
          ],
          [
           "DENVER - CO"
          ],
          [
           "DUVAL - TX"
          ],
          [
           "TUNICA - MS"
          ],
          [
           "MULTNOMAH - OR"
          ],
          [
           "ALLENDALE - SC"
          ],
          [
           "TODD - SD"
          ],
          [
           "RICHMOND - VA"
          ],
          [
           "SANTA CRUZ - CA"
          ],
          [
           "KANSAS CITY - MO"
          ],
          [
           "MAVERICK - TX"
          ],
          [
           "MORA - NM"
          ],
          [
           "NOXUBEE - MS"
          ],
          [
           "BROOKS - TX"
          ],
          [
           "ESSEX - NJ"
          ],
          [
           "JIM HOGG - TX"
          ],
          [
           "SAN MATEO - CA"
          ],
          [
           "DURHAM - NC"
          ],
          [
           "QUEENS - NY"
          ],
          [
           "HUDSON - NJ"
          ],
          [
           "BOULDER - CO"
          ],
          [
           "SUMTER - AL"
          ],
          [
           "DUKES - MA"
          ],
          [
           "SAN MIGUEL - CO"
          ],
          [
           "SANTA FE - NM"
          ],
          [
           "MAUI - HI"
          ],
          [
           "WEBB - TX"
          ],
          [
           "LOWNDES - AL"
          ],
          [
           "BULLOCK - AL"
          ],
          [
           "COOK - IL"
          ],
          [
           "HAWAII - HI"
          ],
          [
           "ARLINGTON - VA"
          ],
          [
           "BERKSHIRE - MA"
          ],
          [
           "MAINE UOCAVA - ME"
          ],
          [
           "ALEXANDRIA - VA"
          ],
          [
           "DANE - WI"
          ],
          [
           "CHITTENDEN - VT"
          ],
          [
           "PITKIN - CO"
          ],
          [
           "ROLETTE - ND"
          ],
          [
           "DIMMIT - TX"
          ],
          [
           "FALLS CHURCH - VA"
          ],
          [
           "KAUAI - HI"
          ],
          [
           "RIO ARRIBA - NM"
          ],
          [
           "KING - WA"
          ],
          [
           "PERRY - AL"
          ],
          [
           "HUMPHREYS - MS"
          ],
          [
           "MONTGOMERY - MD"
          ],
          [
           "SONOMA - CA"
          ],
          [
           "WILCOX - AL"
          ],
          [
           "BUFFALO - SD"
          ],
          [
           "WAYNE - MI"
          ],
          [
           "COAHOMA - MS"
          ],
          [
           "SAN JUAN - WA"
          ],
          [
           "HINDS - MS"
          ],
          [
           "FALLS CHURCH CITY - VA"
          ],
          [
           "COSTILLA - CO"
          ],
          [
           "WINDHAM - VT"
          ],
          [
           "SUNFLOWER - MS"
          ],
          [
           "TOMPKINS - NY"
          ],
          [
           "ORANGE - NC"
          ],
          [
           "SANTA CLARA - CA"
          ],
          [
           "WASHTENAW - MI"
          ],
          [
           "FRANKLIN - MA"
          ],
          [
           "MCKINLEY - NM"
          ],
          [
           "NORFOLK - VA"
          ],
          [
           "HERTFORD - NC"
          ],
          [
           "LOS ANGELES - CA"
          ],
          [
           "HAMPSHIRE - MA"
          ],
          [
           "CONTRA COSTA - CA"
          ],
          [
           "TRAVIS - TX"
          ],
          [
           "RAMSEY - MN"
          ],
          [
           "NANTUCKET - MA"
          ],
          [
           "LEFLORE - MS"
          ],
          [
           "ORANGEBURG - SC"
          ],
          [
           "ZAPATA - TX"
          ],
          [
           "QUITMAN - MS"
          ],
          [
           "PRESIDIO - TX"
          ],
          [
           "SANTA CRUZ - AZ"
          ],
          [
           "WILLACY - TX"
          ],
          [
           "WASHINGTON - VT"
          ],
          [
           "MIDDLESEX - MA"
          ],
          [
           "WASHINGTON - MS"
          ],
          [
           "GUADALUPE - NM"
          ],
          [
           "PORTSMOUTH - VA"
          ],
          [
           "HAMPTON - VA"
          ],
          [
           "HENNEPIN - MN"
          ],
          [
           "HIDALGO - TX"
          ],
          [
           "SHARKEY - MS"
          ],
          [
           "LAMOILLE - VT"
          ],
          [
           "WILKINSON - MS"
          ],
          [
           "GADSDEN - FL"
          ],
          [
           "JOHNSON - IA"
          ],
          [
           "HONOLULU - HI"
          ],
          [
           "ELLIOTT - KY"
          ],
          [
           "DALLAS - AL"
          ],
          [
           "WYANDOTTE - KS"
          ],
          [
           "NEW CASTLE - DE"
          ],
          [
           "MENDOCINO - CA"
          ],
          [
           "WILLIAMSBURG - SC"
          ],
          [
           "MONTEREY - CA"
          ],
          [
           "WARREN - NC"
          ],
          [
           "JACKSON - TN"
          ],
          [
           "YOLO - CA"
          ],
          [
           "CUYAHOGA - OH"
          ],
          [
           "JEFFERSON - WA"
          ],
          [
           "MERCER - NJ"
          ],
          [
           "DOUGHERTY - GA"
          ],
          [
           "MILWAUKEE - WI"
          ],
          [
           "EL PASO - TX"
          ],
          [
           "NAPA - CA"
          ],
          [
           "GLACIER - MT"
          ],
          [
           "FULTON - GA"
          ],
          [
           "WINDSOR - VT"
          ],
          [
           "SILVER BOW - MT"
          ],
          [
           "DISTRICT 33 - AK"
          ],
          [
           "ADDISON - VT"
          ],
          [
           "BOLIVAR - MS"
          ],
          [
           "DOUGLAS - KS"
          ],
          [
           "SUMMIT - CO"
          ],
          [
           "CHARLES CITY - VA"
          ],
          [
           "WILLIAMSBURG - VA"
          ],
          [
           "CAMDEN - NJ"
          ],
          [
           "IMPERIAL - CA"
          ],
          [
           "EDGECOMBE - NC"
          ],
          [
           "ASHLAND - WI"
          ],
          [
           "BENTON - OR"
          ],
          [
           "ALEXANDRIA CITY - VA"
          ],
          [
           "WESTCHESTER - NY"
          ],
          [
           "BROWARD - FL"
          ],
          [
           "BIG HORN - MT"
          ],
          [
           "KNOTT - KY"
          ],
          [
           "UNION - NJ"
          ],
          [
           "CHARLOTTESVILLE CITY - VA"
          ],
          [
           "NORTHAMPTON - NC"
          ],
          [
           "DISTRICT 36 - AK"
          ],
          [
           "BAMBERG - SC"
          ],
          [
           "MACON - GA"
          ],
          [
           "BLAINE - ID"
          ],
          [
           "LEE - SC"
          ],
          [
           "DEER LODGE - MT"
          ],
          [
           "HOOD RIVER - OR"
          ],
          [
           "APACHE - AZ"
          ],
          [
           "TALIAFERRO - GA"
          ],
          [
           "TROUSDALE - TN"
          ],
          [
           "IOWA - WI"
          ],
          [
           "LAKE - IN"
          ],
          [
           "ATHENS - OH"
          ],
          [
           "TETON - WY"
          ],
          [
           "HOUSTON - TN"
          ],
          [
           "PROVIDENCE - RI"
          ],
          [
           "RICHMOND - GA"
          ],
          [
           "EMPORIA - VA"
          ],
          [
           "NORFOLK - MA"
          ],
          [
           "SMITH - TN"
          ],
          [
           "MCDOWELL - WV"
          ],
          [
           "DEWEY - SD"
          ],
          [
           "LEE - AR"
          ],
          [
           "BERTIE - NC"
          ],
          [
           "BENSON - ND"
          ],
          [
           "HALIFAX - NC"
          ],
          [
           "INGHAM - MI"
          ],
          [
           "CLARKE - GA"
          ],
          [
           "DOUGLAS - WI"
          ],
          [
           "CUMBERLAND - ME"
          ],
          [
           "TALBOT - GA"
          ],
          [
           "PHILLIPS - AR"
          ],
          [
           "COOK - MN"
          ],
          [
           "MONROE - IN"
          ],
          [
           "WASHINGTON - OR"
          ],
          [
           "FLOYD - KY"
          ],
          [
           "BENNINGTON - VT"
          ],
          [
           "GENESEE - MI"
          ],
          [
           "FAIRFIELD - SC"
          ],
          [
           "RICHLAND - SC"
          ],
          [
           "SAINT LOUIS - MN"
          ],
          [
           "WOODRUFF - AR"
          ],
          [
           "HARTFORD - CT"
          ],
          [
           "JEFFERSON - AR"
          ],
          [
           "DISTRICT 20 - AK"
          ],
          [
           "DALLAS - TX"
          ],
          [
           "MONTGOMERY - AL"
          ],
          [
           "HUMBOLDT - CA"
          ],
          [
           "CAMERON - TX"
          ],
          [
           "LUCAS - OH"
          ],
          [
           "FRANKLIN - VA"
          ],
          [
           "FRANKLIN - OH"
          ],
          [
           "SANTA BARBARA - CA"
          ],
          [
           "STEWART - GA"
          ],
          [
           "CHARLES - MD"
          ],
          [
           "CULBERSON - TX"
          ],
          [
           "LIBERTY - GA"
          ],
          [
           "MARION - SC"
          ],
          [
           "GRUNDY - TN"
          ],
          [
           "ORANGE - VT"
          ],
          [
           "DISTRICT 3 - AK"
          ],
          [
           "BRISTOL - MA"
          ],
          [
           "DAVIDSON - TN"
          ],
          [
           "FAIRFAX - VA"
          ],
          [
           "SHELBY - TN"
          ],
          [
           "NEWPORT NEWS - VA"
          ],
          [
           "CLAY - GA"
          ],
          [
           "ALBANY - NY"
          ],
          [
           "ALPINE - CA"
          ],
          [
           "MARLBORO - SC"
          ],
          [
           "DISTRICT 40 - AK"
          ],
          [
           "KEMPER - MS"
          ],
          [
           "CIBOLA - NM"
          ],
          [
           "SOLANO - CA"
          ],
          [
           "NEWPORT - RI"
          ],
          [
           "VANCE - NC"
          ],
          [
           "GREENSVILLE - VA"
          ],
          [
           "MUSKEGON - MI"
          ],
          [
           "ROCK - WI"
          ],
          [
           "LAKE - TN"
          ],
          [
           "EAGLE - CO"
          ],
          [
           "MARION - IN"
          ],
          [
           "GUNNISON - CO"
          ],
          [
           "PASSAIC - NJ"
          ],
          [
           "EAST CARROLL - LA"
          ],
          [
           "MIAMI-DADE - FL"
          ],
          [
           "SAGUACHE - CO"
          ],
          [
           "FREDERICKSBURG - VA"
          ],
          [
           "LEON - FL"
          ],
          [
           "BRISTOL - RI"
          ],
          [
           "MAHONING - OH"
          ],
          [
           "MARTINSVILLE - VA"
          ],
          [
           "ST. JOHN THE BAPTIST - LA"
          ],
          [
           "HAMPTON - SC"
          ],
          [
           "CHICOT - AR"
          ],
          [
           "HOWARD - MD"
          ],
          [
           "MIDDLESEX - NJ"
          ],
          [
           "GRAND ISLE - VT"
          ],
          [
           "LACKAWANNA - PA"
          ],
          [
           "BAYFIELD - WI"
          ],
          [
           "GRAFTON - NH"
          ],
          [
           "CHESHIRE - NH"
          ],
          [
           "FAIRFIELD - CT"
          ],
          [
           "PORTAGE - WI"
          ],
          [
           "DELAWARE - PA"
          ],
          [
           "HUMPHREYS - TN"
          ],
          [
           "ESSEX - MA"
          ],
          [
           "ALACHUA - FL"
          ],
          [
           "LA SALLE - TX"
          ],
          [
           "BRUNSWICK - VA"
          ],
          [
           "ZIEBACH - SD"
          ],
          [
           "ROUTT - CO"
          ],
          [
           "MONTGOMERY - PA"
          ],
          [
           "ORLEANS - VT"
          ],
          [
           "HALE - AL"
          ],
          [
           "CARLTON - MN"
          ],
          [
           "TREMPEALEAU - WI"
          ],
          [
           "CRAWFORD - WI"
          ],
          [
           "ANSON - NC"
          ],
          [
           "BROOMFIELD - CO"
          ],
          [
           "LANE - OR"
          ],
          [
           "MECKLENBURG - NC"
          ],
          [
           "PALM BEACH - FL"
          ],
          [
           "LEXINGTON - VA"
          ],
          [
           "DISTRICT 32 - AK"
          ],
          [
           "HOWARD - IA"
          ],
          [
           "DISTRICT 17 - AK"
          ],
          [
           "JEFFERSON DAVIS - MS"
          ],
          [
           "GREEN - WI"
          ],
          [
           "NORMAN - MN"
          ],
          [
           "LAKE - CO"
          ],
          [
           "BOONE - WV"
          ],
          [
           "OSCEOLA - FL"
          ],
          [
           "MANASSAS PARK - VA"
          ],
          [
           "CLAY - SD"
          ],
          [
           "LOGAN - WV"
          ],
          [
           "MISSOULA - MT"
          ],
          [
           "DESHA - AR"
          ],
          [
           "SUSSEX - VA"
          ],
          [
           "ROCK ISLAND - IL"
          ],
          [
           "JIM WELLS - TX"
          ],
          [
           "HAMPDEN - MA"
          ],
          [
           "TRUMBULL - OH"
          ],
          [
           "CUMBERLAND - NJ"
          ],
          [
           "LOS ALAMOS - NM"
          ],
          [
           "MARSHALL - MS"
          ],
          [
           "FRANKLIN - VT"
          ],
          [
           "ROCKDALE - GA"
          ],
          [
           "SACRAMENTO - CA"
          ],
          [
           "JACKSON - IA"
          ],
          [
           "MAHNOMEN - MN"
          ],
          [
           "DISTRICT 18 - AK"
          ],
          [
           "RUTLAND - VT"
          ],
          [
           "ISSAQUENA - MS"
          ],
          [
           "ST. LOUIS COUNTY - MO"
          ],
          [
           "GRANT - WI"
          ],
          [
           "ROANOKE - VA"
          ],
          [
           "SAN BENITO - CA"
          ],
          [
           "LAKE - IL"
          ],
          [
           "ORANGE - FL"
          ],
          [
           "BERNALILLO - NM"
          ],
          [
           "ARAPAHOE - CO"
          ],
          [
           "MOWER - MN"
          ],
          [
           "NEW HAVEN - CT"
          ],
          [
           "LA CROSSE - WI"
          ],
          [
           "ST. JAMES - LA"
          ],
          [
           "TALLAHATCHIE - MS"
          ],
          [
           "JASPER - SC"
          ],
          [
           "SAN JUAN - CO"
          ],
          [
           "MADISON - LA"
          ],
          [
           "SAUK - WI"
          ],
          [
           "MIDDLESEX - CT"
          ],
          [
           "DISTRICT 39 - AK"
          ],
          [
           "ULSTER - NY"
          ],
          [
           "CLINTON - IA"
          ],
          [
           "BARNSTABLE - MA"
          ],
          [
           "SURRY - VA"
          ],
          [
           "CALHOUN - GA"
          ],
          [
           "DISTRICT 37 - AK"
          ],
          [
           "CLINTON - NY"
          ],
          [
           "WINDHAM - CT"
          ],
          [
           "CLAY - MS"
          ],
          [
           "DES MOINES - IA"
          ],
          [
           "ST. CLAIR - IL"
          ],
          [
           "PERRY - IN"
          ],
          [
           "WINNESHIEK - IA"
          ],
          [
           "WARREN - GA"
          ],
          [
           "BLACK HAWK - IA"
          ],
          [
           "DANVILLE - VA"
          ],
          [
           "CALEDONIA - VT"
          ],
          [
           "LAFAYETTE - WI"
          ],
          [
           "DISTRICT 38 - AK"
          ],
          [
           "FRANKLIN - NY"
          ],
          [
           "HAYWOOD - TN"
          ],
          [
           "WHATCOM - WA"
          ],
          [
           "WORTH - IA"
          ],
          [
           "MUSCOGEE - GA"
          ],
          [
           "EAU CLAIRE - WI"
          ],
          [
           "JACKSON - WI"
          ],
          [
           "MINGO - WV"
          ],
          [
           "LAPORTE - IN"
          ],
          [
           "CORSON - SD"
          ],
          [
           "SAN DIEGO - CA"
          ],
          [
           "JACKSON - AR"
          ],
          [
           "VERNON - WI"
          ],
          [
           "OVERTON - TN"
          ],
          [
           "DEKALB - TN"
          ],
          [
           "LINN - IA"
          ],
          [
           "STEWART - TN"
          ],
          [
           "CHAMPAIGN - IL"
          ],
          [
           "QUITMAN - GA"
          ],
          [
           "ROBESON - NC"
          ],
          [
           "KNOX - ME"
          ],
          [
           "NEW LONDON - CT"
          ],
          [
           "LAKE - MN"
          ],
          [
           "THURSTON - WA"
          ],
          [
           "FRIO - TX"
          ],
          [
           "SCOTLAND - NC"
          ],
          [
           "SOMERSET - NJ"
          ],
          [
           "CLAY - AR"
          ],
          [
           "JACKSON - IL"
          ],
          [
           "LINCOLN - OR"
          ],
          [
           "CERRO GORDO - IA"
          ],
          [
           "DUBUQUE - IA"
          ],
          [
           "RICHLAND - WI"
          ],
          [
           "TOLLAND - CT"
          ],
          [
           "FULTON - IL"
          ],
          [
           "BIBB - GA"
          ],
          [
           "ALLEGHENY - PA"
          ],
          [
           "FLOYD - IA"
          ],
          [
           "CHICKASAW - IA"
          ],
          [
           "ROBERTS - SD"
          ],
          [
           "PETERSBURG CITY - VA"
          ],
          [
           "MONO - CA"
          ],
          [
           "WEBSTER - GA"
          ],
          [
           "STRAFFORD - NH"
          ],
          [
           "STEELE - ND"
          ],
          [
           "SOCORRO - NM"
          ],
          [
           "VENTURA - CA"
          ],
          [
           "CUMBERLAND - NC"
          ],
          [
           "ERIE - PA"
          ],
          [
           "YORK - ME"
          ],
          [
           "FAYETTE - KY"
          ],
          [
           "ST. FRANCIS - AR"
          ],
          [
           "ONONDAGA - NY"
          ],
          [
           "BURLINGTON - NJ"
          ],
          [
           "GILPIN - CO"
          ],
          [
           "GRANT - NM"
          ],
          [
           "MARQUETTE - MI"
          ],
          [
           "KNOX - IL"
          ],
          [
           "JEFFERSON - KY"
          ],
          [
           "ST. HELENA - LA"
          ],
          [
           "WASHINGTON - RI"
          ],
          [
           "HOKE - NC"
          ],
          [
           "WASHINGTON - NC"
          ],
          [
           "JACKSON - MO"
          ],
          [
           "REEVES - TX"
          ],
          [
           "KALAMAZOO - MI"
          ],
          [
           "VAN BUREN - TN"
          ],
          [
           "KENT - RI"
          ],
          [
           "FRANKLIN - ME"
          ],
          [
           "MONROE - NY"
          ],
          [
           "ISABELLA - MI"
          ],
          [
           "OURAY - CO"
          ],
          [
           "DISTRICT 19 - AK"
          ],
          [
           "BAKER - GA"
          ],
          [
           "ALBEMARLE - VA"
          ],
          [
           "GUILFORD - NC"
          ],
          [
           "HANCOCK - ME"
          ],
          [
           "JEFFERSON - IA"
          ],
          [
           "ADAMS - MS"
          ],
          [
           "BENTON - TN"
          ],
          [
           "ALEXANDER - IL"
          ],
          [
           "WILLIAMSBURG CITY - VA"
          ],
          [
           "BUCHANAN - IA"
          ],
          [
           "SNOHOMISH - WA"
          ],
          [
           "CLARK - NV"
          ],
          [
           "SUMMIT - UT"
          ],
          [
           "JEFFERSON - GA"
          ],
          [
           "WINONA - MN"
          ],
          [
           "HICKMAN - TN"
          ],
          [
           "SUMTER - SC"
          ],
          [
           "COOS - NH"
          ],
          [
           "BUCHANAN - VA"
          ],
          [
           "SULLIVAN - NH"
          ],
          [
           "ADAMS - CO"
          ],
          [
           "BEXAR - TX"
          ],
          [
           "KENOSHA - WI"
          ],
          [
           "LAKE - CA"
          ],
          [
           "DONA ANA - NM"
          ],
          [
           "ADAMS - WI"
          ],
          [
           "LEE - IA"
          ],
          [
           "KITTSON - MN"
          ],
          [
           "HENDERSON - IL"
          ],
          [
           "LORAIN - OH"
          ],
          [
           "ATLANTIC - NJ"
          ],
          [
           "ST. JOSEPH - IN"
          ],
          [
           "DOOR - WI"
          ],
          [
           "WHITESIDE - IL"
          ],
          [
           "MONROE - AR"
          ],
          [
           "ERIE - NY"
          ],
          [
           "CHESTER - PA"
          ],
          [
           "DUPAGE - IL"
          ],
          [
           "NASSAU - NY"
          ],
          [
           "MARSHALL - SD"
          ],
          [
           "SAGINAW - MI"
          ],
          [
           "RANDOLPH - GA"
          ],
          [
           "JEFFERSON - CO"
          ],
          [
           "SARGENT - ND"
          ],
          [
           "TERRELL - GA"
          ],
          [
           "COCONINO - AZ"
          ],
          [
           "CLAYTON - IA"
          ],
          [
           "CLEAR CREEK - CO"
          ],
          [
           "DILLON - SC"
          ],
          [
           "NORTHAMPTON - VA"
          ],
          [
           "CLATSOP - OR"
          ],
          [
           "MONROE - PA"
          ],
          [
           "BERGEN - NJ"
          ],
          [
           "SUMMIT - OH"
          ],
          [
           "LA PLATA - CO"
          ],
          [
           "IBERVILLE - LA"
          ],
          [
           "FAYETTE - IA"
          ],
          [
           "PERRY - TN"
          ],
          [
           "PRINCE WILLIAM - VA"
          ],
          [
           "GOGEBIC - MI"
          ],
          [
           "DISTRICT 23 - AK"
          ],
          [
           "HARRISONBURG - VA"
          ],
          [
           "DEKALB - IL"
          ],
          [
           "ST. LAWRENCE - NY"
          ],
          [
           "CANNON - TN"
          ],
          [
           "DISTRICT 21 - AK"
          ],
          [
           "HENRICO - VA"
          ],
          [
           "FREEBORN - MN"
          ],
          [
           "WAKE - NC"
          ],
          [
           "HOPEWELL - VA"
          ],
          [
           "VIGO - IN"
          ],
          [
           "RICHMOND CITY - VA"
          ],
          [
           "FAYETTE - WV"
          ],
          [
           "BALTIMORE - MD"
          ],
          [
           "BREATHITT - KY"
          ],
          [
           "WORCESTER - MA"
          ],
          [
           "HAMILTON - OH"
          ],
          [
           "PLYMOUTH - MA"
          ],
          [
           "LEHIGH - PA"
          ],
          [
           "MUSCATINE - IA"
          ],
          [
           "FOREST - WI"
          ],
          [
           "SAGADAHOC - ME"
          ],
          [
           "SUFFOLK - VA"
          ],
          [
           "STORY - IA"
          ],
          [
           "COLUMBIA - NY"
          ],
          [
           "CLAY - MN"
          ],
          [
           "LEXINGTON CITY - VA"
          ],
          [
           "GLOUCESTER - NJ"
          ],
          [
           "PUTNAM - IL"
          ],
          [
           "CHATHAM - GA"
          ],
          [
           "DELAWARE - IN"
          ],
          [
           "COLUMBIA - WI"
          ],
          [
           "KITSAP - WA"
          ],
          [
           "FAYETTE - PA"
          ],
          [
           "RUSSELL - AL"
          ],
          [
           "YAZOO - MS"
          ],
          [
           "ROOSEVELT - MT"
          ],
          [
           "PASQUOTANK - NC"
          ],
          [
           "CRITTENDEN - AR"
          ],
          [
           "ALAMOSA - CO"
          ],
          [
           "BAY - MI"
          ],
          [
           "PUEBLO - CO"
          ],
          [
           "ROCKLAND - NY"
          ],
          [
           "POINSETT - AR"
          ],
          [
           "OXFORD - ME"
          ],
          [
           "NORTON - VA"
          ],
          [
           "SCOTT - IA"
          ],
          [
           "COVINGTON - VA"
          ],
          [
           "DUNN - WI"
          ],
          [
           "ANDROSCOGGIN - ME"
          ],
          [
           "OAKLAND - MI"
          ],
          [
           "BLAINE - MT"
          ],
          [
           "MISSISSIPPI - AR"
          ],
          [
           "KENNEBEC - ME"
          ],
          [
           "POLK - IA"
          ],
          [
           "FAIRFAX CITY - VA"
          ],
          [
           "STE. GENEVIEVE - MO"
          ],
          [
           "BUFFALO - WI"
          ],
          [
           "GATES - NC"
          ],
          [
           "RANSOM - ND"
          ],
          [
           "SCHENECTADY - NY"
          ],
          [
           "BUNCOMBE - NC"
          ],
          [
           "THURSTON - NE"
          ],
          [
           "MERRIMACK - NH"
          ],
          [
           "HARDEMAN - TN"
          ],
          [
           "ALLAMAKEE - IA"
          ],
          [
           "LARIMER - CO"
          ],
          [
           "WARREN - TN"
          ],
          [
           "PEORIA - IL"
          ],
          [
           "DAY - SD"
          ],
          [
           "NEVADA - CA"
          ],
          [
           "ERIE - OH"
          ],
          [
           "KANE - IL"
          ],
          [
           "VERMILLION - IN"
          ],
          [
           "CLAY - TN"
          ],
          [
           "PULASKI - AR"
          ],
          [
           "ESSEX - NY"
          ],
          [
           "GRAYS HARBOR - WA"
          ],
          [
           "WILL - IL"
          ],
          [
           "HARRIS - TX"
          ],
          [
           "ESSEX - VT"
          ],
          [
           "DISTRICT 16 - AK"
          ],
          [
           "SAN JOAQUIN - CA"
          ],
          [
           "CLARENDON - SC"
          ],
          [
           "MANASSAS - VA"
          ],
          [
           "ASHTABULA - OH"
          ],
          [
           "IRON - WI"
          ],
          [
           "JEFFERSON - AL"
          ],
          [
           "PEPIN - WI"
          ],
          [
           "DAKOTA - MN"
          ],
          [
           "SANDOVAL - NM"
          ],
          [
           "PACIFIC - WA"
          ],
          [
           "ST. LUCIE - FL"
          ],
          [
           "PRICE - WI"
          ],
          [
           "TENSAS - LA"
          ],
          [
           "MANISTEE - MI"
          ],
          [
           "RICHMOND - NC"
          ],
          [
           "CONEJOS - CO"
          ],
          [
           "WOOD - WI"
          ],
          [
           "WINNEBAGO - IL"
          ],
          [
           "PRINCE EDWARD - VA"
          ],
          [
           "EAST BATON ROUGE - LA"
          ],
          [
           "GALLATIN - IL"
          ],
          [
           "NORTHAMPTON - PA"
          ],
          [
           "LAUDERDALE - TN"
          ],
          [
           "CAROLINE - VA"
          ],
          [
           "SWIFT - MN"
          ],
          [
           "CENTRE - PA"
          ],
          [
           "WAPELLO - IA"
          ],
          [
           "TAMA - IA"
          ],
          [
           "JEFFERSON - FL"
          ],
          [
           "SAN LUIS OBISPO - CA"
          ],
          [
           "WOLFE - KY"
          ],
          [
           "BURKE - GA"
          ],
          [
           "WASHOE - NV"
          ],
          [
           "MERCER - IL"
          ],
          [
           "TIPPECANOE - IN"
          ],
          [
           "BOONE - MO"
          ],
          [
           "LINCOLN - AR"
          ],
          [
           "PIERCE - WA"
          ],
          [
           "ITASCA - MN"
          ],
          [
           "LINCOLN - WI"
          ],
          [
           "LAKE - MI"
          ],
          [
           "MITCHELL - IA"
          ],
          [
           "BLUE EARTH - MN"
          ],
          [
           "LINCOLN - ME"
          ],
          [
           "LOUDOUN - VA"
          ],
          [
           "POWESHIEK - IA"
          ],
          [
           "WINNEBAGO - WI"
          ],
          [
           "OUTAGAMIE - WI"
          ],
          [
           "GILES - TN"
          ],
          [
           "MONROE - OH"
          ],
          [
           "COPIAH - MS"
          ],
          [
           "FORSYTH - NC"
          ],
          [
           "LITTLE RIVER - AR"
          ],
          [
           "CHESTER - SC"
          ],
          [
           "WALDO - ME"
          ],
          [
           "KEWAUNEE - WI"
          ],
          [
           "ESSEX - VA"
          ],
          [
           "FORT BEND - TX"
          ],
          [
           "JASPER - MS"
          ],
          [
           "TWIGGS - GA"
          ],
          [
           "LASALLE - IL"
          ],
          [
           "DOUGLAS - NE"
          ],
          [
           "DICKENSON - VA"
          ],
          [
           "COLFAX - NM"
          ],
          [
           "RICE - MN"
          ],
          [
           "WESTMORELAND - VA"
          ],
          [
           "HUERFANO - CO"
          ],
          [
           "PIKE - KY"
          ],
          [
           "MARSHALL - TN"
          ],
          [
           "OKMULGEE - OK"
          ],
          [
           "JO DAVIESS - IL"
          ],
          [
           "VAL VERDE - TX"
          ],
          [
           "WYOMING - WV"
          ],
          [
           "JONES - IA"
          ],
          [
           "HAYS - TX"
          ],
          [
           "COWLITZ - WA"
          ],
          [
           "KENT - DE"
          ],
          [
           "CHATHAM - NC"
          ],
          [
           "ONEIDA - WI"
          ],
          [
           "PIMA - AZ"
          ],
          [
           "HOUSTON - MN"
          ],
          [
           "CLARK - AR"
          ],
          [
           "HASKELL - OK"
          ],
          [
           "TYRRELL - NC"
          ],
          [
           "COLUMBUS - NC"
          ],
          [
           "SAN BERNARDINO - CA"
          ],
          [
           "NICOLLET - MN"
          ],
          [
           "BENTON - MS"
          ],
          [
           "ISLAND - WA"
          ],
          [
           "CORTLAND - NY"
          ],
          [
           "OLMSTED - MN"
          ],
          [
           "GRAND - UT"
          ],
          [
           "MERCED - CA"
          ],
          [
           "SULLIVAN - NY"
          ],
          [
           "PITT - NC"
          ],
          [
           "COLUMBIA - OR"
          ],
          [
           "MCINTOSH - OK"
          ],
          [
           "BELTRAMI - MN"
          ],
          [
           "MACOUPIN - IL"
          ],
          [
           "DAUPHIN - PA"
          ],
          [
           "CEDAR - IA"
          ],
          [
           "MENOMINEE - MI"
          ],
          [
           "HEMPSTEAD - AR"
          ],
          [
           "DOOLY - GA"
          ],
          [
           "NELSON - VA"
          ],
          [
           "BLADEN - NC"
          ],
          [
           "HILL - MT"
          ],
          [
           "DISTRICT 34 - AK"
          ],
          [
           "RADFORD - VA"
          ],
          [
           "CLACKAMAS - OR"
          ],
          [
           "PANOLA - MS"
          ],
          [
           "BERKS - PA"
          ],
          [
           "BROWN - WI"
          ],
          [
           "BREMER - IA"
          ],
          [
           "LAWRENCE - AR"
          ],
          [
           "SUMTER - GA"
          ],
          [
           "MARION - WV"
          ],
          [
           "CALHOUN - MI"
          ],
          [
           "MARSHALL - IA"
          ],
          [
           "SKAGIT - WA"
          ],
          [
           "BUCKS - PA"
          ],
          [
           "MADISON - IL"
          ],
          [
           "AROOSTOOK - ME"
          ],
          [
           "RENSSELAER - NY"
          ],
          [
           "DUTCHESS - NY"
          ],
          [
           "CHIPPEWA - WI"
          ],
          [
           "DOUGLAS - GA"
          ],
          [
           "PIKE - MS"
          ],
          [
           "POINTE COUPEE - LA"
          ],
          [
           "JUNEAU - WI"
          ],
          [
           "KOOCHICHING - MN"
          ],
          [
           "LUZERNE - PA"
          ],
          [
           "PINELLAS - FL"
          ],
          [
           "DICKSON - TN"
          ],
          [
           "CHARLESTON - SC"
          ],
          [
           "PEMISCOT - MO"
          ],
          [
           "MARATHON - WI"
          ],
          [
           "PORTAGE - OH"
          ],
          [
           "WASHINGTON - GA"
          ],
          [
           "WINNEBAGO - IA"
          ],
          [
           "ORANGE - CA"
          ],
          [
           "VAN BUREN - MI"
          ],
          [
           "KENEDY - TX"
          ],
          [
           "WASHINGTON - MN"
          ],
          [
           "MARENGO - AL"
          ],
          [
           "WEBSTER - IA"
          ],
          [
           "HAMPTON CITY - VA"
          ],
          [
           "PIERCE - WI"
          ],
          [
           "PEACH - GA"
          ],
          [
           "LAFAYETTE - AR"
          ],
          [
           "MACOMB - MI"
          ],
          [
           "WARREN - IL"
          ],
          [
           "WILSON - NC"
          ],
          [
           "SUFFOLK - NY"
          ],
          [
           "KLEBERG - TX"
          ],
          [
           "EATON - MI"
          ],
          [
           "MCINTOSH - GA"
          ],
          [
           "CAYUGA - NY"
          ],
          [
           "BRADLEY - AR"
          ],
          [
           "WEBSTER - WV"
          ],
          [
           "FRANKLIN - TN"
          ],
          [
           "SHIAWASSEE - MI"
          ],
          [
           "MONROE - WI"
          ],
          [
           "WASHINGTON - PA"
          ],
          [
           "LAS ANIMAS - CO"
          ],
          [
           "BROOME - NY"
          ],
          [
           "TILLAMOOK - OR"
          ],
          [
           "WHITE - TN"
          ],
          [
           "HENRY - IL"
          ],
          [
           "HILLSBOROUGH - FL"
          ],
          [
           "VALENCIA - NM"
          ],
          [
           "MASON - WA"
          ],
          [
           "FRANKLIN - IL"
          ],
          [
           "MARION - TN"
          ],
          [
           "JOHNSON - KS"
          ],
          [
           "RACINE - WI"
          ],
          [
           "KENDALL - IL"
          ],
          [
           "GREENE - PA"
          ],
          [
           "BATH - KY"
          ],
          [
           "BELMONT - OH"
          ],
          [
           "RUSK - WI"
          ],
          [
           "PORTER - IN"
          ],
          [
           "RIVERSIDE - CA"
          ],
          [
           "VOLUSIA - FL"
          ],
          [
           "HILLSBOROUGH - NH"
          ],
          [
           "WHITMAN - WA"
          ],
          [
           "ST. LANDRY - LA"
          ],
          [
           "FRESNO - CA"
          ],
          [
           "BEAVER - PA"
          ],
          [
           "MANITOWOC - WI"
          ],
          [
           "GRANVILLE - NC"
          ],
          [
           "BENZIE - MI"
          ],
          [
           "TRAILL - ND"
          ],
          [
           "MISSISSIPPI - MO"
          ],
          [
           "BOONE - IA"
          ],
          [
           "JASPER - IA"
          ],
          [
           "BARRON - WI"
          ],
          [
           "LINCOLN - WV"
          ],
          [
           "WOOD - OH"
          ],
          [
           "CALHOUN - IL"
          ],
          [
           "LANCASTER - NE"
          ],
          [
           "FILLMORE - MN"
          ],
          [
           "CASS - ND"
          ],
          [
           "DESCHUTES - OR"
          ],
          [
           "MARINETTE - WI"
          ],
          [
           "CHOCTAW - OK"
          ],
          [
           "MCCORMICK - SC"
          ],
          [
           "MUHLENBERG - KY"
          ],
          [
           "LAC QUI PARLE - MN"
          ],
          [
           "MARTIN - NC"
          ],
          [
           "MADISON - IN"
          ],
          [
           "OUACHITA - AR"
          ],
          [
           "CLARK - WI"
          ],
          [
           "CADDO - LA"
          ],
          [
           "STEPHENSON - IL"
          ],
          [
           "SAWYER - WI"
          ],
          [
           "MONTGOMERY - OH"
          ],
          [
           "BROWN - SD"
          ],
          [
           "CARROLL - NH"
          ],
          [
           "OCONTO - WI"
          ],
          [
           "ROWAN - KY"
          ],
          [
           "DELTA - MI"
          ],
          [
           "JEFFERSON - OH"
          ],
          [
           "LETCHER - KY"
          ],
          [
           "BARNWELL - SC"
          ],
          [
           "TETON - ID"
          ],
          [
           "CAMPBELL - TN"
          ],
          [
           "BROOKINGS - SD"
          ],
          [
           "JEFFERSON - TX"
          ],
          [
           "BALDWIN - GA"
          ],
          [
           "OTTAWA - OH"
          ],
          [
           "DELAWARE - IA"
          ],
          [
           "CHAFFEE - CO"
          ],
          [
           "GALLATIN - MT"
          ],
          [
           "CLARK - WA"
          ],
          [
           "OKTIBBEHA - MS"
          ],
          [
           "DECATUR - TN"
          ],
          [
           "FULTON - KY"
          ],
          [
           "KENT - MI"
          ],
          [
           "ALGER - MI"
          ],
          [
           "LEELANAU - MI"
          ],
          [
           "MASON - IL"
          ],
          [
           "ASSUMPTION - LA"
          ],
          [
           "WINCHESTER - VA"
          ],
          [
           "MCDONOUGH - IL"
          ],
          [
           "BERRIEN - MI"
          ],
          [
           "OTSEGO - NY"
          ],
          [
           "JACKSON - NC"
          ],
          [
           "LAWRENCE - PA"
          ],
          [
           "RICHMOND - NY"
          ],
          [
           "BUREAU - IL"
          ],
          [
           "MOODY - SD"
          ],
          [
           "MONROE - FL"
          ],
          [
           "LATAH - ID"
          ],
          [
           "BIG STONE - MN"
          ],
          [
           "MCHENRY - IL"
          ],
          [
           "WASCO - OR"
          ],
          [
           "TOWNER - ND"
          ],
          [
           "MARQUETTE - WI"
          ],
          [
           "JEFFERSON - WV"
          ],
          [
           "CHIPPEWA - MN"
          ],
          [
           "SALEM - NJ"
          ],
          [
           "SOMERSET - ME"
          ],
          [
           "NELSON - ND"
          ],
          [
           "KING AND QUEEN - VA"
          ],
          [
           "MONTGOMERY - VA"
          ],
          [
           "PENOBSCOT - ME"
          ],
          [
           "STARK - OH"
          ],
          [
           "GRAND FORKS - ND"
          ],
          [
           "LUNA - NM"
          ],
          [
           "DREW - AR"
          ],
          [
           "LAWRENCE - AL"
          ],
          [
           "CARROLL - IL"
          ],
          [
           "CRAWFORD - IA"
          ],
          [
           "EARLY - GA"
          ],
          [
           "CALHOUN - SC"
          ],
          [
           "LITCHFIELD - CT"
          ],
          [
           "LENAWEE - MI"
          ],
          [
           "LEWIS - TN"
          ],
          [
           "ORANGE - NY"
          ],
          [
           "ROBERTSON - TX"
          ],
          [
           "KANKAKEE - IL"
          ],
          [
           "MANASSAS PARK CITY - VA"
          ],
          [
           "HANCOCK - KY"
          ],
          [
           "IOSCO - MI"
          ],
          [
           "WASHBURN - WI"
          ],
          [
           "CHICKASAW - MS"
          ],
          [
           "BENTON - IA"
          ],
          [
           "CLARE - MI"
          ],
          [
           "NEW MADRID - MO"
          ],
          [
           "DISTRICT 26 - AK"
          ],
          [
           "DALLAS - AR"
          ],
          [
           "HIDALGO - NM"
          ],
          [
           "ASHLEY - AR"
          ],
          [
           "IZARD - AR"
          ],
          [
           "MORRIS - NJ"
          ],
          [
           "SANGAMON - IL"
          ],
          [
           "RANDOLPH - AR"
          ],
          [
           "BARBOUR - AL"
          ],
          [
           "SANDUSKY - OH"
          ],
          [
           "MASON - MI"
          ],
          [
           "GRATIOT - MI"
          ],
          [
           "GRANT - MN"
          ],
          [
           "SKAMANIA - WA"
          ],
          [
           "WATAUGA - NC"
          ],
          [
           "MERIWETHER - GA"
          ],
          [
           "LOUISA - IA"
          ],
          [
           "MONROE - MI"
          ],
          [
           "SARATOGA - NY"
          ],
          [
           "DARLINGTON - SC"
          ],
          [
           "MENIFEE - KY"
          ],
          [
           "FLAGLER - FL"
          ],
          [
           "TRAVERSE - MN"
          ],
          [
           "CASS - MI"
          ],
          [
           "DUVAL - FL"
          ],
          [
           "EMMET - IA"
          ],
          [
           "NIAGARA - NY"
          ],
          [
           "MITCHELL - GA"
          ],
          [
           "OCEANA - MI"
          ],
          [
           "POLK - MN"
          ],
          [
           "LEWIS AND CLARK - MT"
          ],
          [
           "BOONE - IL"
          ],
          [
           "YALOBUSHA - MS"
          ],
          [
           "ELK - PA"
          ],
          [
           "ARENAC - MI"
          ],
          [
           "RED LAKE - MN"
          ],
          [
           "MONONGALIA - WV"
          ],
          [
           "STAUNTON - VA"
          ],
          [
           "UNION - IA"
          ],
          [
           "ALPENA - MI"
          ],
          [
           "SHAWANO - WI"
          ],
          [
           "CASWELL - NC"
          ],
          [
           "CARROLL - IA"
          ],
          [
           "BRAXTON - WV"
          ],
          [
           "RAY - MO"
          ],
          [
           "BROOKE - WV"
          ],
          [
           "DISTRICT 27 - AK"
          ],
          [
           "HARLAN - KY"
          ],
          [
           "SALINE - NE"
          ],
          [
           "HUGHES - OK"
          ],
          [
           "DISTRICT 15 - AK"
          ],
          [
           "CLARKE - IA"
          ],
          [
           "TELFAIR - GA"
          ],
          [
           "DISTRICT 4 - AK"
          ],
          [
           "KOSSUTH - IA"
          ],
          [
           "LATIMER - OK"
          ],
          [
           "ROBERTSON - TN"
          ],
          [
           "SEMINOLE - FL"
          ],
          [
           "COLES - IL"
          ],
          [
           "WAUPACA - WI"
          ],
          [
           "VANDERBURGH - IN"
          ],
          [
           "POPE - MN"
          ],
          [
           "TRINITY - CA"
          ],
          [
           "RILEY - KS"
          ],
          [
           "FREDERICKSBURG CITY - VA"
          ],
          [
           "MUSKOGEE - OK"
          ],
          [
           "HENRY - GA"
          ],
          [
           "ADAMS - IA"
          ],
          [
           "NORFOLK CITY - VA"
          ],
          [
           "JACKSON - AL"
          ],
          [
           "CONECUH - AL"
          ],
          [
           "AUDUBON - IA"
          ],
          [
           "SENECA - NY"
          ],
          [
           "GREENE - AR"
          ],
          [
           "GWINNETT - GA"
          ],
          [
           "ONTONAGON - MI"
          ],
          [
           "HENDERSON - KY"
          ],
          [
           "JEFFERSON - MO"
          ],
          [
           "YELLOW MEDICINE - MN"
          ],
          [
           "WARREN - NY"
          ],
          [
           "GIBSON - TN"
          ],
          [
           "CLALLAM - WA"
          ],
          [
           "NEWTON - GA"
          ],
          [
           "PALO ALTO - IA"
          ],
          [
           "BREWSTER - TX"
          ],
          [
           "MINER - SD"
          ],
          [
           "MCLEAN - IL"
          ],
          [
           "SCHOOLCRAFT - MI"
          ],
          [
           "STARKE - IN"
          ],
          [
           "MONTGOMERY - IL"
          ],
          [
           "RUSSELL - VA"
          ],
          [
           "WARREN - MS"
          ],
          [
           "ROSCOMMON - MI"
          ],
          [
           "SOMERSET - MD"
          ],
          [
           "WILKINSON - GA"
          ],
          [
           "ROSEBUD - MT"
          ],
          [
           "ROCKINGHAM - NH"
          ],
          [
           "HOT SPRING - AR"
          ],
          [
           "PULASKI - IL"
          ],
          [
           "JACKSON - MI"
          ],
          [
           "OSWEGO - NY"
          ],
          [
           "DISTRICT 22 - AK"
          ],
          [
           "BUCKINGHAM - VA"
          ],
          [
           "ST. CLAIR - MI"
          ],
          [
           "CAMBRIA - PA"
          ],
          [
           "MOUNTRAIL - ND"
          ],
          [
           "CHOCTAW - AL"
          ],
          [
           "BEDFORD - TN"
          ],
          [
           "HYDE - NC"
          ],
          [
           "ALBANY - WY"
          ],
          [
           "KANAWHA - WV"
          ],
          [
           "CALUMET - WI"
          ],
          [
           "SHAWNEE - KS"
          ],
          [
           "CHESAPEAKE - VA"
          ],
          [
           "MORRIS - TX"
          ],
          [
           "CHATTAHOOCHEE - GA"
          ],
          [
           "DISTRICT 25 - AK"
          ],
          [
           "CARTER - KY"
          ],
          [
           "NEWTON - TX"
          ],
          [
           "MONMOUTH - NJ"
          ],
          [
           "CHEROKEE - OK"
          ],
          [
           "CARBON - PA"
          ],
          [
           "NASH - NC"
          ],
          [
           "IRON - MO"
          ],
          [
           "PERRY - KY"
          ],
          [
           "DISTRICT 31 - AK"
          ],
          [
           "FRANKLIN - KY"
          ],
          [
           "OGEMAW - MI"
          ],
          [
           "TUSCARAWAS - OH"
          ],
          [
           "HERNANDO - FL"
          ],
          [
           "EDDY - ND"
          ],
          [
           "SOUTHAMPTON - VA"
          ],
          [
           "STANISLAUS - CA"
          ],
          [
           "FRANKLIN - IA"
          ],
          [
           "IRON - MI"
          ],
          [
           "BELKNAP - NH"
          ],
          [
           "NEVADA - AR"
          ],
          [
           "MINNEHAHA - SD"
          ],
          [
           "BURNETT - WI"
          ],
          [
           "GARFIELD - CO"
          ],
          [
           "LAKE - SD"
          ],
          [
           "CASCADE - MT"
          ],
          [
           "GRUNDY - IL"
          ],
          [
           "SCOTT - IN"
          ],
          [
           "BALLARD - KY"
          ],
          [
           "BUTTE - CA"
          ],
          [
           "LANGLADE - WI"
          ],
          [
           "CROSS - AR"
          ],
          [
           "PINE - MN"
          ],
          [
           "GLADWIN - MI"
          ],
          [
           "MACON - IL"
          ],
          [
           "PENNINGTON - MN"
          ],
          [
           "COLLETON - SC"
          ],
          [
           "CASS - IL"
          ],
          [
           "HAMILTON - IA"
          ],
          [
           "WEST BATON ROUGE - LA"
          ],
          [
           "BOYD - KY"
          ],
          [
           "LENOIR - NC"
          ],
          [
           "CROCKETT - TN"
          ],
          [
           "MAGOFFIN - KY"
          ],
          [
           "SCHUYLER - IL"
          ],
          [
           "CHOWAN - NC"
          ],
          [
           "JEFFERSON - WI"
          ],
          [
           "SALT LAKE - UT"
          ],
          [
           "WILLIAMSON - TX"
          ],
          [
           "JERAULD - SD"
          ],
          [
           "MARION - OR"
          ],
          [
           "DISTRICT 35 - AK"
          ],
          [
           "PRESQUE ISLE - MI"
          ],
          [
           "HARDIN - IA"
          ],
          [
           "LAKE - OH"
          ],
          [
           "CHAUTAUQUA - NY"
          ],
          [
           "WASHINGTON - NY"
          ],
          [
           "CLINTON - MI"
          ],
          [
           "WOODBURY - IA"
          ],
          [
           "WAUSHARA - WI"
          ],
          [
           "SARASOTA - FL"
          ],
          [
           "WASHINGTON - ME"
          ],
          [
           "HENRY - TN"
          ],
          [
           "CRAWFORD - KS"
          ],
          [
           "SPENCER - IN"
          ],
          [
           "OTTAWA - OK"
          ],
          [
           "WARREN - IA"
          ],
          [
           "KENT - MD"
          ],
          [
           "VERMILION - IL"
          ],
          [
           "STEVENS - MN"
          ],
          [
           "GREENE - IA"
          ],
          [
           "MADISON - NY"
          ],
          [
           "TARRANT - TX"
          ],
          [
           "LOWNDES - MS"
          ],
          [
           "MONTGOMERY - NY"
          ],
          [
           "CONWAY - AR"
          ],
          [
           "FLORENCE - SC"
          ],
          [
           "ONTARIO - NY"
          ],
          [
           "BLACKFORD - IN"
          ],
          [
           "CRAIGHEAD - AR"
          ],
          [
           "IOWA - IA"
          ],
          [
           "BUCHANAN - MO"
          ],
          [
           "COFFEE - TN"
          ],
          [
           "VIRGINIA BEACH - VA"
          ],
          [
           "DISTRICT 28 - AK"
          ],
          [
           "LYON - KY"
          ],
          [
           "FRANKLIN - NC"
          ],
          [
           "MERCER - PA"
          ],
          [
           "CARSON CITY - NV"
          ],
          [
           "PIKE - OH"
          ],
          [
           "CLAY - MO"
          ],
          [
           "SALINE - MO"
          ],
          [
           "WASHINGTON - MO"
          ],
          [
           "CHIPPEWA - MI"
          ],
          [
           "COLBERT - AL"
          ],
          [
           "HARRISON - WV"
          ],
          [
           "SHEBOYGAN - WI"
          ],
          [
           "MADISON - FL"
          ],
          [
           "PERRY - IL"
          ],
          [
           "WAYNE - WV"
          ],
          [
           "WAHKIAKUM - WA"
          ],
          [
           "INYO - CA"
          ],
          [
           "GREENUP - KY"
          ],
          [
           "KLICKITAT - WA"
          ],
          [
           "NOTTOWAY - VA"
          ],
          [
           "AITKIN - MN"
          ],
          [
           "HURON - MI"
          ],
          [
           "MONTCALM - MI"
          ],
          [
           "TAYLOR - WI"
          ],
          [
           "NEW HANOVER - NC"
          ],
          [
           "CHEMUNG - NY"
          ],
          [
           "SEVIER - AR"
          ],
          [
           "CLARK - OH"
          ],
          [
           "CHESTERFIELD - SC"
          ],
          [
           "SULLIVAN - IN"
          ],
          [
           "SUMMERS - WV"
          ],
          [
           "MARSHALL - MN"
          ],
          [
           "MELLETTE - SD"
          ],
          [
           "MECOSTA - MI"
          ],
          [
           "PASCO - FL"
          ],
          [
           "WATONWAN - MN"
          ],
          [
           "MURRAY - MN"
          ],
          [
           "BIENVILLE - LA"
          ],
          [
           "ACCOMACK - VA"
          ],
          [
           "OBION - TN"
          ],
          [
           "ANNE ARUNDEL - MD"
          ],
          [
           "WASHINGTON - IA"
          ],
          [
           "MARSHALL - IL"
          ],
          [
           "RANDOLPH - IL"
          ],
          [
           "MORGAN - IL"
          ],
          [
           "LAKE - MT"
          ],
          [
           "COAL - OK"
          ],
          [
           "RAMSEY - ND"
          ],
          [
           "GRAND - CO"
          ],
          [
           "JACKSON - OR"
          ],
          [
           "FREDERICK - MD"
          ],
          [
           "DISTRICT 5 - AK"
          ],
          [
           "TUSCOLA - MI"
          ],
          [
           "FLUVANNA - VA"
          ],
          [
           "YANKTON - SD"
          ],
          [
           "LINCOLN - MN"
          ],
          [
           "PICKENS - AL"
          ],
          [
           "WRIGHT - IA"
          ],
          [
           "BOND - IL"
          ],
          [
           "DINWIDDIE - VA"
          ],
          [
           "CHENANGO - NY"
          ],
          [
           "POLK - OR"
          ],
          [
           "ROSS - OH"
          ],
          [
           "MADISON - NC"
          ],
          [
           "MARION - IL"
          ],
          [
           "DECATUR - IA"
          ],
          [
           "BUENA VISTA - IA"
          ],
          [
           "COBB - GA"
          ],
          [
           "DISTRICT 8 - AK"
          ],
          [
           "SWAIN - NC"
          ],
          [
           "DEUEL - SD"
          ],
          [
           "CARROLL - TN"
          ],
          [
           "PIKE - MO"
          ],
          [
           "SCIOTO - OH"
          ],
          [
           "HOCKING - OH"
          ],
          [
           "CHEBOYGAN - MI"
          ],
          [
           "ADAIR - MO"
          ],
          [
           "POTTAWATTAMIE - IA"
          ],
          [
           "HARRISONBURG CITY - VA"
          ],
          [
           "HALIFAX - VA"
          ],
          [
           "HANCOCK - WV"
          ],
          [
           "ALLEGHANY - VA"
          ],
          [
           "JENKINS - GA"
          ],
          [
           "TAYLOR - GA"
          ],
          [
           "MONTGOMERY - TN"
          ],
          [
           "SPOKANE - WA"
          ],
          [
           "CRAWFORD - IN"
          ],
          [
           "WILKES - GA"
          ],
          [
           "WISE - VA"
          ],
          [
           "ST. FRANCOIS - MO"
          ],
          [
           "NOBLES - MN"
          ],
          [
           "GOODHUE - MN"
          ],
          [
           "RED RIVER - LA"
          ],
          [
           "BARNES - ND"
          ],
          [
           "MOORE - TN"
          ],
          [
           "FULTON - AR"
          ],
          [
           "SEMINOLE - OK"
          ],
          [
           "APPANOOSE - IA"
          ],
          [
           "LYON - MN"
          ],
          [
           "PUTNAM - TN"
          ],
          [
           "CHEATHAM - TN"
          ],
          [
           "POLK - WI"
          ],
          [
           "MORGAN - KY"
          ],
          [
           "CLARK - MO"
          ],
          [
           "JEFFERSON - OK"
          ],
          [
           "RENVILLE - MN"
          ],
          [
           "CUMBERLAND - VA"
          ],
          [
           "CLINTON - PA"
          ],
          [
           "WALWORTH - WI"
          ],
          [
           "ST. JOSEPH - MI"
          ],
          [
           "CRAWFORD - MI"
          ],
          [
           "BEN HILL - GA"
          ],
          [
           "OKFUSKEE - OK"
          ],
          [
           "HUDSPETH - TX"
          ],
          [
           "HASKELL - TX"
          ],
          [
           "SPINK - SD"
          ],
          [
           "MONONA - IA"
          ],
          [
           "NUECES - TX"
          ],
          [
           "BROWN - IN"
          ],
          [
           "LUNENBURG - VA"
          ],
          [
           "LIVINGSTON - KY"
          ],
          [
           "ANOKA - MN"
          ],
          [
           "RAPPAHANNOCK - VA"
          ],
          [
           "EAST FELICIANA - LA"
          ],
          [
           "PERRY - OH"
          ],
          [
           "YAMHILL - OR"
          ],
          [
           "WHEELER - GA"
          ],
          [
           "GRAND TRAVERSE - MI"
          ],
          [
           "SENECA - OH"
          ],
          [
           "BUENA VISTA - VA"
          ],
          [
           "JERSEY - IL"
          ],
          [
           "YATES - NY"
          ],
          [
           "WALSH - ND"
          ],
          [
           "DAKOTA - NE"
          ],
          [
           "TURNER - GA"
          ],
          [
           "PINAL - AZ"
          ],
          [
           "LEE - IL"
          ],
          [
           "CALHOUN - WV"
          ],
          [
           "MAURY - TN"
          ],
          [
           "DISTRICT 1 - AK"
          ],
          [
           "DE SOTO - LA"
          ],
          [
           "SHERIDAN - MT"
          ],
          [
           "WABASHA - MN"
          ],
          [
           "LINCOLN - TN"
          ],
          [
           "ADAIR - IA"
          ],
          [
           "PLATTE - MO"
          ],
          [
           "FREMONT - IA"
          ],
          [
           "CHAMBERS - AL"
          ],
          [
           "CHARLEVOIX - MI"
          ],
          [
           "UNION - KY"
          ],
          [
           "ST. MARTIN - LA"
          ],
          [
           "ALLEN - IN"
          ],
          [
           "MORGAN - TN"
          ],
          [
           "OSAGE - OK"
          ],
          [
           "MONTGOMERY - MS"
          ],
          [
           "LYNCHBURG - VA"
          ],
          [
           "MIDLAND - MI"
          ],
          [
           "COLUMBIANA - OH"
          ],
          [
           "BARAGA - MI"
          ],
          [
           "MACKINAC - MI"
          ],
          [
           "GRANT - SD"
          ],
          [
           "SCREVEN - GA"
          ],
          [
           "WETZEL - WV"
          ],
          [
           "NICHOLAS - WV"
          ],
          [
           "MARICOPA - AZ"
          ],
          [
           "FOARD - TX"
          ],
          [
           "PIKE - PA"
          ],
          [
           "HANCOCK - IA"
          ],
          [
           "LAPEER - MI"
          ],
          [
           "HARRISON - OH"
          ],
          [
           "BRYAN - OK"
          ],
          [
           "MAYES - OK"
          ],
          [
           "YELL - AR"
          ],
          [
           "DISTRICT 14 - AK"
          ],
          [
           "MECKLENBURG - VA"
          ],
          [
           "ST. CROIX - WI"
          ],
          [
           "MARION - KY"
          ],
          [
           "FISHER - TX"
          ],
          [
           "PERQUIMANS - NC"
          ],
          [
           "VILAS - WI"
          ],
          [
           "HURON - OH"
          ],
          [
           "ALLEN - LA"
          ],
          [
           "OCEAN - NJ"
          ],
          [
           "HENRY - IN"
          ],
          [
           "COLUMBIA - PA"
          ],
          [
           "MANASSAS CITY - VA"
          ],
          [
           "MACON - TN"
          ],
          [
           "MARION - TX"
          ],
          [
           "WAYNE - IN"
          ],
          [
           "DUBOIS - IN"
          ],
          [
           "ANDERSON - TN"
          ],
          [
           "WEBSTER - KY"
          ],
          [
           "UVALDE - TX"
          ],
          [
           "COLLIN - TX"
          ],
          [
           "WEAKLEY - TN"
          ],
          [
           "YANCEY - NC"
          ],
          [
           "DUNKLIN - MO"
          ],
          [
           "DORCHESTER - MD"
          ],
          [
           "WEXFORD - MI"
          ],
          [
           "KEOKUK - IA"
          ],
          [
           "PISCATAQUIS - ME"
          ],
          [
           "BUTLER - IA"
          ],
          [
           "EMMET - MI"
          ],
          [
           "HARRISON - IA"
          ],
          [
           "MINERAL - NV"
          ],
          [
           "SAN JUAN - UT"
          ],
          [
           "NAVAJO - AZ"
          ],
          [
           "GEORGETOWN - SC"
          ],
          [
           "WINSTON - MS"
          ],
          [
           "GREENE - NC"
          ],
          [
           "BENNETT - SD"
          ],
          [
           "HUNTERDON - NJ"
          ],
          [
           "CRAIG - OK"
          ],
          [
           "CLINTON - MO"
          ],
          [
           "MONROE - IA"
          ],
          [
           "HOUGHTON - MI"
          ],
          [
           "JEFFERSON - NY"
          ],
          [
           "CLAY - IA"
          ],
          [
           "NEWAYGO - MI"
          ],
          [
           "DICKINSON - IA"
          ],
          [
           "STARK - IL"
          ],
          [
           "MOREHOUSE - LA"
          ],
          [
           "GRENADA - MS"
          ],
          [
           "HENDRY - FL"
          ],
          [
           "PITTSBURG - OK"
          ],
          [
           "LANCASTER - VA"
          ],
          [
           "KINGSBURY - SD"
          ],
          [
           "CAPE MAY - NJ"
          ],
          [
           "NATCHITOCHES - LA"
          ],
          [
           "LE SUEUR - MN"
          ],
          [
           "SALINE - IL"
          ],
          [
           "OKEECHOBEE - FL"
          ],
          [
           "JACKSON - MN"
          ],
          [
           "CALHOUN - AR"
          ],
          [
           "BROOKS - GA"
          ],
          [
           "COOS - OR"
          ],
          [
           "CLARKE - VA"
          ],
          [
           "MADISON - TN"
          ],
          [
           "POLK - FL"
          ],
          [
           "CLARK - IN"
          ],
          [
           "WALLER - TX"
          ],
          [
           "ADA - ID"
          ],
          [
           "WICOMICO - MD"
          ],
          [
           "RICHLAND - ND"
          ],
          [
           "YUMA - AZ"
          ],
          [
           "DALLAS - IA"
          ],
          [
           "DELAWARE - NY"
          ],
          [
           "CALDWELL - TX"
          ],
          [
           "FAYETTE - IN"
          ],
          [
           "CADDO - OK"
          ],
          [
           "HENRY - IA"
          ],
          [
           "CARVER - MN"
          ],
          [
           "STAFFORD - VA"
          ],
          [
           "JEFFERSON - IN"
          ],
          [
           "CODINGTON - SD"
          ],
          [
           "RINGGOLD - IA"
          ],
          [
           "HICKORY - MO"
          ],
          [
           "HOWARD - IN"
          ],
          [
           "HOWARD - AR"
          ],
          [
           "KANDIYOHI - MN"
          ],
          [
           "LAWRENCE - OH"
          ],
          [
           "CABELL - WV"
          ],
          [
           "UNION - SC"
          ],
          [
           "BUTLER - AL"
          ],
          [
           "WARREN - PA"
          ],
          [
           "PUTNAM - FL"
          ],
          [
           "LAWRENCE - IL"
          ],
          [
           "ONEIDA - NY"
          ],
          [
           "WILSON - TN"
          ],
          [
           "KNOX - IN"
          ],
          [
           "LEE - VA"
          ],
          [
           "MANATEE - FL"
          ],
          [
           "CALVERT - MD"
          ],
          [
           "COOSA - AL"
          ],
          [
           "CALCASIEU - LA"
          ],
          [
           "SPOTSYLVANIA - VA"
          ],
          [
           "POWELL - KY"
          ],
          [
           "CARROLL - OH"
          ],
          [
           "JOHNSTON - OK"
          ],
          [
           "CHRISTIAN - IL"
          ],
          [
           "TAZEWELL - IL"
          ],
          [
           "POLK - TN"
          ],
          [
           "BRANCH - MI"
          ],
          [
           "IONIA - MI"
          ],
          [
           "UNION - IL"
          ],
          [
           "MURRAY - OK"
          ],
          [
           "JONES - NC"
          ],
          [
           "LUCAS - IA"
          ],
          [
           "ATCHISON - KS"
          ],
          [
           "CHESTERFIELD - VA"
          ],
          [
           "MORGAN - OH"
          ],
          [
           "RALEIGH - WV"
          ],
          [
           "TERRELL - TX"
          ],
          [
           "LAWRENCE - TN"
          ],
          [
           "CHARLES MIX - SD"
          ],
          [
           "MONROE - AL"
          ],
          [
           "LYON - KS"
          ],
          [
           "MEIGS - TN"
          ],
          [
           "STEELE - MN"
          ],
          [
           "VAN BUREN - AR"
          ],
          [
           "MUSKINGUM - OH"
          ],
          [
           "CHARLOTTE - FL"
          ],
          [
           "FARIBAULT - MN"
          ],
          [
           "DYER - TN"
          ],
          [
           "WESTMORELAND - PA"
          ],
          [
           "DELAWARE - OH"
          ],
          [
           "BEADLE - SD"
          ],
          [
           "PUTNAM - NY"
          ],
          [
           "CARROLL - KY"
          ],
          [
           "INDIANA - PA"
          ],
          [
           "SCHUYLER - NY"
          ],
          [
           "AVOYELLES - LA"
          ],
          [
           "CLARKE - AL"
          ],
          [
           "MARION - OH"
          ],
          [
           "COTTONWOOD - MN"
          ],
          [
           "MILLER - AR"
          ],
          [
           "JOHNSON - AR"
          ],
          [
           "ROANOKE CITY - VA"
          ],
          [
           "PARK - MT"
          ],
          [
           "SEMINOLE - GA"
          ],
          [
           "POSEY - IN"
          ],
          [
           "HENRY - MO"
          ],
          [
           "COSHOCTON - OH"
          ],
          [
           "WYOMING - PA"
          ],
          [
           "GUTHRIE - IA"
          ],
          [
           "AUDRAIN - MO"
          ],
          [
           "STOREY - NV"
          ],
          [
           "SAMPSON - NC"
          ],
          [
           "HAMILTON - IN"
          ],
          [
           "BEE - TX"
          ],
          [
           "WAYNE - IA"
          ],
          [
           "SCOTT - MN"
          ],
          [
           "GRIGGS - ND"
          ],
          [
           "YELLOWSTONE - MT"
          ],
          [
           "BRUNSWICK - NC"
          ],
          [
           "PLACER - CA"
          ],
          [
           "LOUISA - VA"
          ],
          [
           "WAYNE - NC"
          ],
          [
           "MONROE - MO"
          ],
          [
           "DISTRICT 24 - AK"
          ],
          [
           "VALLEY - ID"
          ],
          [
           "SHARP - AR"
          ],
          [
           "LEAKE - MS"
          ],
          [
           "CHEROKEE - IA"
          ],
          [
           "WILKIN - MN"
          ],
          [
           "LOVE - OK"
          ],
          [
           "DEL NORTE - CA"
          ],
          [
           "HAYWOOD - NC"
          ],
          [
           "EDGAR - IL"
          ],
          [
           "LEE - NC"
          ],
          [
           "PERSON - NC"
          ],
          [
           "LIVINGSTON - NY"
          ],
          [
           "PENDER - NC"
          ],
          [
           "WALKER - AL"
          ],
          [
           "WALTHALL - MS"
          ],
          [
           "STEARNS - MN"
          ],
          [
           "BECKER - MN"
          ],
          [
           "MOBILE - AL"
          ],
          [
           "PARK - CO"
          ],
          [
           "PUSHMATAHA - OK"
          ],
          [
           "OGLE - IL"
          ],
          [
           "EMANUEL - GA"
          ],
          [
           "WILLIAMSON - IL"
          ],
          [
           "MEDINA - OH"
          ],
          [
           "SUSSEX - DE"
          ],
          [
           "WORCESTER - MD"
          ],
          [
           "DOUGLAS - CO"
          ],
          [
           "PEMBINA - ND"
          ],
          [
           "ST. MARY - LA"
          ],
          [
           "ARKANSAS - AR"
          ],
          [
           "CLARK - IL"
          ],
          [
           "DENTON - TX"
          ],
          [
           "CLAY - WV"
          ],
          [
           "ROANE - WV"
          ],
          [
           "OKANOGAN - WA"
          ],
          [
           "LEWIS - MO"
          ],
          [
           "BELL - KY"
          ],
          [
           "ALCONA - MI"
          ],
          [
           "MASON - WV"
          ],
          [
           "MARSHALL - OK"
          ],
          [
           "GREENE - IL"
          ],
          [
           "CROW WING - MN"
          ],
          [
           "BASTROP - TX"
          ],
          [
           "MARSHALL - KY"
          ],
          [
           "JAY - IN"
          ],
          [
           "CALHOUN - IA"
          ],
          [
           "FULTON - OH"
          ],
          [
           "DICKINSON - MI"
          ],
          [
           "GALAX - VA"
          ],
          [
           "DUPLIN - NC"
          ],
          [
           "TULARE - CA"
          ],
          [
           "WEST FELICIANA - LA"
          ],
          [
           "SWITZERLAND - IN"
          ],
          [
           "DAVIS - IA"
          ],
          [
           "MONTGOMERY - KY"
          ],
          [
           "LOWNDES - GA"
          ],
          [
           "ORANGE - VA"
          ],
          [
           "ABBEVILLE - SC"
          ],
          [
           "RIO GRANDE - CO"
          ],
          [
           "SCHUYLKILL - PA"
          ],
          [
           "MARION - GA"
          ],
          [
           "JAMES CITY - VA"
          ],
          [
           "LYMAN - SD"
          ],
          [
           "WHITE - IN"
          ],
          [
           "KITTITAS - WA"
          ],
          [
           "ALAMANCE - NC"
          ],
          [
           "GARLAND - AR"
          ],
          [
           "SCOTT - MS"
          ],
          [
           "HARDIN - IL"
          ],
          [
           "ROANE - TN"
          ],
          [
           "YAKIMA - WA"
          ],
          [
           "POCAHONTAS - IA"
          ],
          [
           "JENNINGS - IN"
          ],
          [
           "SANILAC - MI"
          ],
          [
           "SCOTT - TN"
          ],
          [
           "FOND DU LAC - WI"
          ],
          [
           "DISTRICT 2 - AK"
          ],
          [
           "WASECA - MN"
          ],
          [
           "MONTMORENCY - MI"
          ],
          [
           "MILLE LACS - MN"
          ],
          [
           "MADISON - AL"
          ],
          [
           "RANDOLPH - MO"
          ],
          [
           "LEWIS - NY"
          ],
          [
           "DODGE - WI"
          ],
          [
           "PIKE - IN"
          ],
          [
           "CASS - IN"
          ],
          [
           "TREUTLEN - GA"
          ],
          [
           "RANDOLPH - IN"
          ],
          [
           "CLAIBORNE - LA"
          ],
          [
           "MINERAL - CO"
          ],
          [
           "BELL - TX"
          ],
          [
           "RALLS - MO"
          ],
          [
           "STAUNTON CITY - VA"
          ],
          [
           "DARE - NC"
          ],
          [
           "NORTHUMBERLAND - VA"
          ],
          [
           "EDGEFIELD - SC"
          ],
          [
           "VINTON - OH"
          ],
          [
           "CHEROKEE - AL"
          ],
          [
           "WAKULLA - FL"
          ],
          [
           "CHELAN - WA"
          ],
          [
           "WELD - CO"
          ],
          [
           "CARBON - UT"
          ],
          [
           "OTSEGO - MI"
          ],
          [
           "ST. CHARLES - MO"
          ],
          [
           "SAC - IA"
          ],
          [
           "CITRUS - FL"
          ],
          [
           "CASS - MN"
          ],
          [
           "AURORA - SD"
          ],
          [
           "CULPEPER - VA"
          ],
          [
           "WASHINGTON - AL"
          ],
          [
           "PRAIRIE - AR"
          ],
          [
           "BREVARD - FL"
          ],
          [
           "PRINCE GEORGE - VA"
          ],
          [
           "MCNAIRY - TN"
          ],
          [
           "OTERO - CO"
          ],
          [
           "TAYLOR - IA"
          ],
          [
           "FLOYD - IN"
          ],
          [
           "HAMILTON - FL"
          ],
          [
           "SHOSHONE - ID"
          ],
          [
           "HERKIMER - NY"
          ],
          [
           "WHITE - IL"
          ],
          [
           "LINN - MO"
          ],
          [
           "KALKASKA - MI"
          ],
          [
           "TORRANCE - NM"
          ],
          [
           "FULTON - NY"
          ],
          [
           "LEE - FL"
          ],
          [
           "CLEVELAND - AR"
          ],
          [
           "MARSHALL - WV"
          ],
          [
           "TALBOT - MD"
          ],
          [
           "EL DORADO - CA"
          ],
          [
           "ROBERTSON - KY"
          ],
          [
           "WILLIAMS - OH"
          ],
          [
           "DECATUR - GA"
          ],
          [
           "ATASCOSA - TX"
          ],
          [
           "STEUBEN - IN"
          ],
          [
           "MCLEAN - KY"
          ],
          [
           "INDEPENDENCE - AR"
          ],
          [
           "MADISON - IA"
          ],
          [
           "SHELBY - IA"
          ],
          [
           "SIMPSON - KY"
          ],
          [
           "WAYNE - NY"
          ],
          [
           "MONTGOMERY - NC"
          ],
          [
           "CARLISLE - KY"
          ],
          [
           "GUERNSEY - OH"
          ],
          [
           "ETOWAH - AL"
          ],
          [
           "NEWPORT NEWS CITY - VA"
          ],
          [
           "SEQUOYAH - OK"
          ],
          [
           "JEFFERSON - OR"
          ],
          [
           "TALLADEGA - AL"
          ],
          [
           "HICKMAN - KY"
          ],
          [
           "DOUGLAS - MN"
          ],
          [
           "NOWATA - OK"
          ],
          [
           "CLINTON - IL"
          ],
          [
           "MERCER - WV"
          ],
          [
           "TAZEWELL - VA"
          ],
          [
           "DAVIESS - KY"
          ],
          [
           "BEDFORD - VA"
          ],
          [
           "MOULTRIE - IL"
          ],
          [
           "GREENE - NY"
          ],
          [
           "HAMILTON - TN"
          ],
          [
           "BEAUFORT - SC"
          ],
          [
           "PORTSMOUTH CITY - VA"
          ],
          [
           "HENRY - VA"
          ],
          [
           "KANABEC - MN"
          ],
          [
           "WAYNESBORO - VA"
          ],
          [
           "ATOKA - OK"
          ],
          [
           "CRAWFORD - PA"
          ],
          [
           "FRANKLIN - FL"
          ],
          [
           "TIOGA - NY"
          ],
          [
           "CLEARWATER - MN"
          ],
          [
           "GREENLEE - AZ"
          ],
          [
           "UNION - TN"
          ],
          [
           "GILES - VA"
          ],
          [
           "OSCEOLA - MI"
          ],
          [
           "GAGE - NE"
          ],
          [
           "SCHUYLER - MO"
          ],
          [
           "BARRY - MI"
          ],
          [
           "RUTHERFORD - TN"
          ],
          [
           "MONTGOMERY - IA"
          ],
          [
           "MONROE - IL"
          ],
          [
           "OHIO - WV"
          ],
          [
           "NODAWAY - MO"
          ],
          [
           "CUMBERLAND - PA"
          ],
          [
           "ELKHART - IN"
          ],
          [
           "CHARLOTTE - VA"
          ],
          [
           "GREENBRIER - WV"
          ],
          [
           "HANCOCK - IL"
          ],
          [
           "CATTARAUGUS - NY"
          ],
          [
           "AMITE - MS"
          ],
          [
           "WARREN - IN"
          ],
          [
           "FORREST - MS"
          ],
          [
           "ANTRIM - MI"
          ],
          [
           "BON HOMME - SD"
          ],
          [
           "LABETTE - KS"
          ],
          [
           "BENTON - MN"
          ],
          [
           "CALLAWAY - MO"
          ],
          [
           "SUMNER - TN"
          ],
          [
           "WASHINGTON - LA"
          ],
          [
           "WALLA WALLA - WA"
          ],
          [
           "KEWEENAW - MI"
          ],
          [
           "DEFIANCE - OH"
          ],
          [
           "LINCOLN - MO"
          ],
          [
           "MARION - FL"
          ],
          [
           "ALLEGAN - MI"
          ],
          [
           "BARTHOLOMEW - IN"
          ],
          [
           "DODGE - MN"
          ],
          [
           "LANIER - GA"
          ],
          [
           "OWEN - IN"
          ],
          [
           "FAYETTE - TN"
          ],
          [
           "CASS - IA"
          ],
          [
           "KERN - CA"
          ],
          [
           "LAFAYETTE - MO"
          ],
          [
           "CAVALIER - ND"
          ],
          [
           "LANCASTER - PA"
          ],
          [
           "CHISAGO - MN"
          ],
          [
           "LE FLORE - OK"
          ],
          [
           "JEFFERSON - LA"
          ],
          [
           "OSCODA - MI"
          ],
          [
           "CHARITON - MO"
          ],
          [
           "MARION - IA"
          ],
          [
           "MARTINSVILLE CITY - VA"
          ],
          [
           "FRANKLIN - AR"
          ],
          [
           "NICHOLAS - KY"
          ],
          [
           "JEFFERSON - IL"
          ],
          [
           "MADISON - MS"
          ],
          [
           "CLAY - IN"
          ],
          [
           "LAFAYETTE - MS"
          ],
          [
           "LUCE - MI"
          ],
          [
           "SUSQUEHANNA - PA"
          ],
          [
           "BATES - MO"
          ],
          [
           "NEWTON - IN"
          ],
          [
           "GILA - AZ"
          ],
          [
           "ASCENSION - LA"
          ],
          [
           "CRAVEN - NC"
          ],
          [
           "WARREN - VA"
          ],
          [
           "PERRY - AR"
          ],
          [
           "LEAVENWORTH - KS"
          ],
          [
           "WAYNE - PA"
          ],
          [
           "JOHNSON - NE"
          ],
          [
           "TAYLOR - WV"
          ],
          [
           "SUMTER - FL"
          ],
          [
           "MONROE - MS"
          ],
          [
           "SISKIYOU - CA"
          ],
          [
           "DESOTO - FL"
          ],
          [
           "HARDING - NM"
          ],
          [
           "PUTNAM - IN"
          ],
          [
           "CLARK - SD"
          ],
          [
           "ATTALA - MS"
          ],
          [
           "MASSAC - IL"
          ],
          [
           "LAUDERDALE - AL"
          ],
          [
           "ELBERT - GA"
          ],
          [
           "LINCOLN - LA"
          ],
          [
           "FRANKLIN - AL"
          ],
          [
           "REYNOLDS - MO"
          ],
          [
           "GEARY - KS"
          ],
          [
           "LAWRENCE - MS"
          ],
          [
           "OZAUKEE - WI"
          ],
          [
           "FRANKLIN - MO"
          ],
          [
           "MADERA - CA"
          ],
          [
           "CLEARFIELD - PA"
          ],
          [
           "HOWARD - MO"
          ],
          [
           "SARPY - NE"
          ],
          [
           "TODD - MN"
          ],
          [
           "WASHINGTON - AR"
          ],
          [
           "WARREN - MO"
          ],
          [
           "GALVESTON - TX"
          ],
          [
           "COTTON - OK"
          ],
          [
           "TRANSYLVANIA - NC"
          ],
          [
           "DODGE - NE"
          ],
          [
           "WARRICK - IN"
          ],
          [
           "COLUMBIA - AR"
          ],
          [
           "SAN AUGUSTINE - TX"
          ],
          [
           "CAMP - TX"
          ],
          [
           "GRANT - IN"
          ],
          [
           "JOHNSON - MO"
          ],
          [
           "WOODFORD - KY"
          ],
          [
           "MARTIN - FL"
          ],
          [
           "BOURBON - KY"
          ],
          [
           "MEEKER - MN"
          ],
          [
           "BERKELEY - WV"
          ],
          [
           "BATH - VA"
          ],
          [
           "PIATT - IL"
          ],
          [
           "SIERRA - NM"
          ],
          [
           "ISLE OF WIGHT - VA"
          ],
          [
           "JACKSON - WV"
          ],
          [
           "HILLSDALE - MI"
          ],
          [
           "SEDGWICK - KS"
          ],
          [
           "GLADES - FL"
          ],
          [
           "VAN BUREN - IA"
          ],
          [
           "BERKELEY - SC"
          ],
          [
           "LAKE - FL"
          ],
          [
           "GRAVES - KY"
          ],
          [
           "ST. MARY'S - MD"
          ],
          [
           "CLINTON - IN"
          ],
          [
           "CRISP - GA"
          ],
          [
           "ARCHULETA - CO"
          ],
          [
           "PIKE - AL"
          ],
          [
           "CARROLL - IN"
          ],
          [
           "GIBSON - IN"
          ],
          [
           "MCCRACKEN - KY"
          ],
          [
           "PLUMAS - CA"
          ],
          [
           "EL PASO - CO"
          ],
          [
           "MADISON - VA"
          ],
          [
           "FAUQUIER - VA"
          ],
          [
           "KING GEORGE - VA"
          ],
          [
           "CECIL - MD"
          ],
          [
           "WARREN - NJ"
          ],
          [
           "CLAIBORNE - TN"
          ],
          [
           "YORK - PA"
          ],
          [
           "GALLATIN - KY"
          ],
          [
           "RED RIVER - TX"
          ],
          [
           "SHANNON - MO"
          ],
          [
           "BROWN - MN"
          ],
          [
           "TANGIPAHOA - LA"
          ],
          [
           "ROCKBRIDGE - VA"
          ],
          [
           "LINN - OR"
          ],
          [
           "PAULDING - OH"
          ],
          [
           "KINGS - CA"
          ],
          [
           "MARION - MO"
          ],
          [
           "WASHINGTON - MD"
          ],
          [
           "HENRY - OH"
          ],
          [
           "WABASH - IL"
          ],
          [
           "RANDOLPH - WV"
          ],
          [
           "UNION - SD"
          ],
          [
           "GARVIN - OK"
          ],
          [
           "LAWRENCE - KY"
          ],
          [
           "CRAWFORD - IL"
          ],
          [
           "HARDIN - TN"
          ],
          [
           "MARSHALL - IN"
          ],
          [
           "POCAHONTAS - WV"
          ],
          [
           "LIVINGSTON - MI"
          ],
          [
           "DISTRICT 13 - AK"
          ],
          [
           "CARBON - MT"
          ],
          [
           "DAVISON - SD"
          ],
          [
           "MARIPOSA - CA"
          ],
          [
           "FOREST - PA"
          ],
          [
           "LAFOURCHE - LA"
          ],
          [
           "TUOLUMNE - CA"
          ],
          [
           "LEVY - FL"
          ],
          [
           "CRAWFORD - GA"
          ],
          [
           "LANCASTER - SC"
          ],
          [
           "CURRY - OR"
          ],
          [
           "DE WITT - IL"
          ],
          [
           "SEQUATCHIE - TN"
          ],
          [
           "PONDERA - MT"
          ],
          [
           "OTTER TAIL - MN"
          ],
          [
           "REFUGIO - TX"
          ],
          [
           "HAMILTON - IL"
          ],
          [
           "HART - GA"
          ],
          [
           "EVANGELINE - LA"
          ],
          [
           "SANBORN - SD"
          ],
          [
           "JACKSON - IN"
          ],
          [
           "RUSH - IN"
          ],
          [
           "ASOTIN - WA"
          ],
          [
           "CLINCH - GA"
          ],
          [
           "FALLS - TX"
          ],
          [
           "PAMLICO - NC"
          ],
          [
           "NEWBERRY - SC"
          ],
          [
           "CHESAPEAKE CITY - VA"
          ],
          [
           "NORTHUMBERLAND - PA"
          ],
          [
           "FLORENCE - WI"
          ],
          [
           "LIBERTY - FL"
          ],
          [
           "NELSON - KY"
          ],
          [
           "HUMBOLDT - IA"
          ],
          [
           "GREENE - GA"
          ],
          [
           "MCDUFFIE - GA"
          ],
          [
           "GRANT - AR"
          ],
          [
           "SUFFOLK CITY - VA"
          ],
          [
           "LAUDERDALE - MS"
          ],
          [
           "CALHOUN - TX"
          ],
          [
           "UNION - PA"
          ],
          [
           "BRISTOL - VA"
          ],
          [
           "PIPESTONE - MN"
          ],
          [
           "BANNOCK - ID"
          ],
          [
           "JACKSON - FL"
          ],
          [
           "LONG - GA"
          ],
          [
           "CHATTOOGA - GA"
          ],
          [
           "WASHINGTON - IL"
          ],
          [
           "WEBSTER - LA"
          ],
          [
           "CALAVERAS - CA"
          ],
          [
           "RICHLAND - OH"
          ],
          [
           "INDIAN RIVER - FL"
          ],
          [
           "HARMON - OK"
          ],
          [
           "WINCHESTER CITY - VA"
          ],
          [
           "STONE - AR"
          ],
          [
           "LICKING - OH"
          ],
          [
           "CONCORDIA - LA"
          ],
          [
           "PARKE - IN"
          ],
          [
           "LAKE OF THE WOODS - MN"
          ],
          [
           "POLK - NC"
          ],
          [
           "PONTOTOC - OK"
          ],
          [
           "BENT - CO"
          ],
          [
           "MCCOOK - SD"
          ],
          [
           "LAMAR - GA"
          ],
          [
           "LINCOLN - SD"
          ],
          [
           "FENTRESS - TN"
          ],
          [
           "GREEN LAKE - WI"
          ],
          [
           "PICKETT - TN"
          ],
          [
           "MONTOUR - PA"
          ],
          [
           "CAMDEN - NC"
          ],
          [
           "SAN PATRICIO - TX"
          ],
          [
           "ORANGE - IN"
          ],
          [
           "SCOTT - IL"
          ],
          [
           "CASS - TX"
          ],
          [
           "FERRY - WA"
          ],
          [
           "GREENE - IN"
          ],
          [
           "TUSCALOOSA - AL"
          ],
          [
           "HUBBARD - MN"
          ],
          [
           "MENARD - IL"
          ],
          [
           "BLEDSOE - TN"
          ],
          [
           "ISANTI - MN"
          ],
          [
           "DEKALB - IN"
          ],
          [
           "THOMAS - GA"
          ],
          [
           "MINERAL - MT"
          ],
          [
           "BENTON - MO"
          ],
          [
           "TILLMAN - OK"
          ],
          [
           "MADISON - MO"
          ],
          [
           "ROCK - MN"
          ],
          [
           "SCHOHARIE - NY"
          ],
          [
           "GREENWOOD - SC"
          ],
          [
           "FOUNTAIN - IN"
          ],
          [
           "BURT - NE"
          ],
          [
           "OKLAHOMA - OK"
          ],
          [
           "CALHOUN - FL"
          ],
          [
           "WAYNE - OH"
          ],
          [
           "REDWOOD - MN"
          ],
          [
           "ESCAMBIA - FL"
          ],
          [
           "LOGAN - KY"
          ],
          [
           "SALEM - VA"
          ],
          [
           "NOBLE - IN"
          ],
          [
           "FAYETTE - IL"
          ],
          [
           "FOSTER - ND"
          ],
          [
           "DORCHESTER - SC"
          ],
          [
           "CASS - MO"
          ],
          [
           "GEAUGA - OH"
          ],
          [
           "RICHLAND - IL"
          ],
          [
           "BRAZOS - TX"
          ],
          [
           "COOK - GA"
          ],
          [
           "MARTIN - MN"
          ],
          [
           "PULASKI - GA"
          ],
          [
           "AMADOR - CA"
          ],
          [
           "LAWRENCE - SD"
          ],
          [
           "TIPTON - IN"
          ],
          [
           "COVINGTON - MS"
          ],
          [
           "COMANCHE - OK"
          ],
          [
           "FAIRFIELD - OH"
          ],
          [
           "MILAM - TX"
          ],
          [
           "PUTNAM - GA"
          ],
          [
           "ROCKINGHAM - NC"
          ],
          [
           "ST. CHARLES - LA"
          ],
          [
           "AMHERST - VA"
          ],
          [
           "STUTSMAN - ND"
          ],
          [
           "KNOX - TN"
          ],
          [
           "WASHINGTON - OH"
          ],
          [
           "CHEROKEE - KS"
          ],
          [
           "YUBA - CA"
          ],
          [
           "JOSEPHINE - OR"
          ],
          [
           "GREENE - MO"
          ],
          [
           "PULASKI - VA"
          ],
          [
           "BARBOUR - WV"
          ],
          [
           "CUSTER - MT"
          ],
          [
           "PULASKI - IN"
          ],
          [
           "NYE - NV"
          ],
          [
           "ALLEGANY - MD"
          ],
          [
           "DELAWARE - OK"
          ],
          [
           "HARNETT - NC"
          ],
          [
           "CALLOWAY - KY"
          ],
          [
           "DOUGLAS - NV"
          ],
          [
           "MEIGS - OH"
          ],
          [
           "SMYTH - VA"
          ],
          [
           "KIOWA - OK"
          ],
          [
           "FRANKLIN - WA"
          ],
          [
           "JEFFERSON DAVIS - LA"
          ],
          [
           "JEFFERSON - NE"
          ],
          [
           "FULTON - IN"
          ],
          [
           "OTOE - NE"
          ],
          [
           "PAWNEE - OK"
          ],
          [
           "LINCOLN - GA"
          ],
          [
           "CLEVELAND - NC"
          ],
          [
           "BEAUFORT - NC"
          ],
          [
           "SCOTT - MO"
          ],
          [
           "JACKSON - OH"
          ],
          [
           "CREEK - OK"
          ],
          [
           "MORGAN - MO"
          ],
          [
           "DIVIDE - ND"
          ],
          [
           "IDA - IA"
          ],
          [
           "BENTON - IN"
          ],
          [
           "MONROE - TN"
          ],
          [
           "STEUBEN - NY"
          ],
          [
           "GENTRY - MO"
          ],
          [
           "FAULKNER - AR"
          ],
          [
           "SULLIVAN - MO"
          ],
          [
           "MILLS - IA"
          ],
          [
           "GRUNDY - IA"
          ],
          [
           "HORRY - SC"
          ],
          [
           "OHIO - KY"
          ],
          [
           "HOPKINS - KY"
          ],
          [
           "MAHASKA - IA"
          ],
          [
           "WAYNE - MO"
          ],
          [
           "ST. BERNARD - LA"
          ],
          [
           "KINNEY - TX"
          ],
          [
           "LAURENS - GA"
          ],
          [
           "PAGE - VA"
          ],
          [
           "MONROE - WV"
          ],
          [
           "SUTTER - CA"
          ],
          [
           "JEFFERSON - MT"
          ],
          [
           "LOGAN - IL"
          ],
          [
           "COLUSA - CA"
          ],
          [
           "WILCOX - GA"
          ],
          [
           "POLK - GA"
          ],
          [
           "WYANDOT - OH"
          ],
          [
           "GILMER - WV"
          ],
          [
           "WARREN - KY"
          ],
          [
           "MCHENRY - ND"
          ],
          [
           "MASON - KY"
          ],
          [
           "LAURENS - SC"
          ],
          [
           "GRADY - GA"
          ],
          [
           "TROUP - GA"
          ],
          [
           "NOBLE - OH"
          ],
          [
           "ARMSTRONG - PA"
          ],
          [
           "CALHOUN - AL"
          ],
          [
           "CALDWELL - KY"
          ],
          [
           "LOGAN - AR"
          ],
          [
           "MORRISON - MN"
          ],
          [
           "MCKEAN - PA"
          ],
          [
           "ADAMS - IL"
          ],
          [
           "WORTH - MO"
          ],
          [
           "HIGHLANDS - FL"
          ],
          [
           "BROWN - IL"
          ],
          [
           "PLAQUEMINES - LA"
          ],
          [
           "BUTTS - GA"
          ],
          [
           "YORK - SC"
          ],
          [
           "HARVEY - KS"
          ],
          [
           "CARTER - OK"
          ],
          [
           "CABARRUS - NC"
          ],
          [
           "TRINITY - TX"
          ],
          [
           "YORK - VA"
          ],
          [
           "PIKE - AR"
          ],
          [
           "MONTGOMERY - GA"
          ],
          [
           "CLEBURNE - AR"
          ],
          [
           "WASHINGTON - IN"
          ],
          [
           "CRAWFORD - MO"
          ],
          [
           "HINSDALE - CO"
          ],
          [
           "CRENSHAW - AL"
          ],
          [
           "MARIES - MO"
          ],
          [
           "KERSHAW - SC"
          ],
          [
           "HARRISON - IN"
          ],
          [
           "ROSEAU - MN"
          ],
          [
           "JASPER - IL"
          ],
          [
           "HARRISON - KY"
          ],
          [
           "WADENA - MN"
          ],
          [
           "CUMBERLAND - TN"
          ],
          [
           "COCHISE - AZ"
          ],
          [
           "WRIGHT - MN"
          ],
          [
           "SPALDING - GA"
          ],
          [
           "BRAZORIA - TX"
          ],
          [
           "WAYNE - MS"
          ],
          [
           "PICKAWAY - OH"
          ],
          [
           "HENRY - AL"
          ],
          [
           "GREENE - OH"
          ],
          [
           "UNION - AR"
          ],
          [
           "BONNER - ID"
          ],
          [
           "BRULE - SD"
          ],
          [
           "ORANGE - TX"
          ],
          [
           "MONTGOMERY - MO"
          ],
          [
           "BULLOCH - GA"
          ],
          [
           "GENESEE - NY"
          ],
          [
           "ALCORN - MS"
          ],
          [
           "LEBANON - PA"
          ],
          [
           "BRADFORD - PA"
          ],
          [
           "JACKSON - SD"
          ],
          [
           "NEZ PERCE - ID"
          ],
          [
           "EDDY - NM"
          ],
          [
           "VENANGO - PA"
          ],
          [
           "SHERBURNE - MN"
          ],
          [
           "UNICOI - TN"
          ],
          [
           "ORLEANS - NY"
          ],
          [
           "EDMUNDS - SD"
          ],
          [
           "KING WILLIAM - VA"
          ],
          [
           "DICKEY - ND"
          ],
          [
           "LYON - NV"
          ],
          [
           "ALLEGHANY - NC"
          ],
          [
           "MIDDLESEX - VA"
          ],
          [
           "HANSON - SD"
          ],
          [
           "BURKE - NC"
          ],
          [
           "POPE - IL"
          ],
          [
           "TATE - MS"
          ],
          [
           "SHELBY - IN"
          ],
          [
           "CALDWELL - MO"
          ],
          [
           "JOHNSON - KY"
          ],
          [
           "FRANKLIN CITY - VA"
          ],
          [
           "PIKE - IL"
          ],
          [
           "CARROLL - AR"
          ],
          [
           "SCOTT - KY"
          ],
          [
           "OHIO - IN"
          ],
          [
           "CAMPBELL - KY"
          ],
          [
           "FANNIN - TX"
          ],
          [
           "MEADE - KY"
          ],
          [
           "ATKINSON - GA"
          ],
          [
           "ADAMS - PA"
          ],
          [
           "LIVINGSTON - IL"
          ],
          [
           "SALUDA - SC"
          ],
          [
           "WARD - ND"
          ],
          [
           "DODGE - GA"
          ],
          [
           "MOHAVE - AZ"
          ],
          [
           "JEFFERSON - KS"
          ],
          [
           "BOONE - IN"
          ],
          [
           "LEE - AL"
          ],
          [
           "OTERO - NM"
          ],
          [
           "TETON - MT"
          ],
          [
           "SHELBY - IL"
          ],
          [
           "SULLIVAN - PA"
          ],
          [
           "JASPER - GA"
          ],
          [
           "EVANS - GA"
          ],
          [
           "HOUSTON - GA"
          ],
          [
           "ADAIR - OK"
          ],
          [
           "HAWKINS - TN"
          ],
          [
           "PLEASANTS - WV"
          ],
          [
           "TRIGG - KY"
          ],
          [
           "HARFORD - MD"
          ],
          [
           "LA PAZ - AZ"
          ],
          [
           "BOTTINEAU - ND"
          ],
          [
           "OREGON - MO"
          ],
          [
           "MCLEOD - MN"
          ],
          [
           "DOUGLAS - IL"
          ],
          [
           "CLARK - KY"
          ],
          [
           "MIAMI - IN"
          ],
          [
           "PAGE - IA"
          ],
          [
           "MCLEAN - ND"
          ],
          [
           "TUCKER - WV"
          ],
          [
           "MONTEZUMA - CO"
          ],
          [
           "TURNER - SD"
          ],
          [
           "HENRY - KY"
          ],
          [
           "ST. CLAIR - MO"
          ],
          [
           "MONTGOMERY - IN"
          ],
          [
           "MADISON - KY"
          ],
          [
           "WABASH - IN"
          ],
          [
           "SUSSEX - NJ"
          ],
          [
           "DISTRICT 7 - AK"
          ],
          [
           "TERREBONNE - LA"
          ],
          [
           "KENTON - KY"
          ],
          [
           "TISHOMINGO - MS"
          ],
          [
           "DISTRICT 9 - AK"
          ],
          [
           "POTTAWATOMIE - OK"
          ],
          [
           "MACON - MO"
          ],
          [
           "LEWIS - WA"
          ],
          [
           "FAYETTE - AL"
          ],
          [
           "MIAMI - KS"
          ],
          [
           "CASS - NE"
          ],
          [
           "SALINE - AR"
          ],
          [
           "IBERIA - LA"
          ],
          [
           "JASPER - IN"
          ],
          [
           "KNOX - TX"
          ],
          [
           "CHOUTEAU - MT"
          ],
          [
           "VERMILION - LA"
          ],
          [
           "CRAWFORD - OH"
          ],
          [
           "HARDIN - KY"
          ],
          [
           "DIXIE - FL"
          ],
          [
           "MARION - AL"
          ],
          [
           "DAVIESS - MO"
          ],
          [
           "LIMESTONE - TX"
          ],
          [
           "SCHLEY - GA"
          ],
          [
           "SIBLEY - MN"
          ],
          [
           "PEND OREILLE - WA"
          ],
          [
           "CHAMPAIGN - OH"
          ],
          [
           "CALHOUN - MS"
          ],
          [
           "FLEMING - KY"
          ],
          [
           "FLOYD - VA"
          ],
          [
           "MADISON - OH"
          ],
          [
           "RANDOLPH - AL"
          ],
          [
           "KNOX - OH"
          ],
          [
           "GULF - FL"
          ],
          [
           "BAXTER - AR"
          ],
          [
           "TYLER - TX"
          ],
          [
           "GREER - OK"
          ],
          [
           "CHRISTIAN - KY"
          ],
          [
           "PENDLETON - WV"
          ],
          [
           "COWLEY - KS"
          ],
          [
           "TRIMBLE - KY"
          ],
          [
           "WASHINGTON - TN"
          ],
          [
           "OUACHITA - LA"
          ],
          [
           "TAYLOR - FL"
          ],
          [
           "HENDERSON - NC"
          ],
          [
           "LAWRENCE - IN"
          ],
          [
           "ASHE - NC"
          ],
          [
           "MOORE - NC"
          ],
          [
           "PENNINGTON - SD"
          ],
          [
           "KARNES - TX"
          ],
          [
           "ONSLOW - NC"
          ],
          [
           "ALLEN - OH"
          ],
          [
           "DANVILLE CITY - VA"
          ],
          [
           "ESCAMBIA - AL"
          ],
          [
           "PHELPS - MO"
          ],
          [
           "WAUKESHA - WI"
          ],
          [
           "SAN JUAN - NM"
          ],
          [
           "CRITTENDEN - KY"
          ],
          [
           "PRENTISS - MS"
          ],
          [
           "SHELBY - MO"
          ],
          [
           "IRWIN - GA"
          ],
          [
           "GILLIAM - OR"
          ],
          [
           "SEBASTIAN - AR"
          ],
          [
           "LAMOURE - ND"
          ],
          [
           "QUAY - NM"
          ],
          [
           "CANDLER - GA"
          ],
          [
           "MISSAUKEE - MI"
          ],
          [
           "RICHLAND - LA"
          ],
          [
           "HARRISON - TX"
          ],
          [
           "LIVINGSTON - MO"
          ],
          [
           "PUTNAM - WV"
          ],
          [
           "NAVARRO - TX"
          ],
          [
           "CUMBERLAND - IL"
          ],
          [
           "JASPER - TX"
          ],
          [
           "WHITLEY - IN"
          ],
          [
           "LAGRANGE - IN"
          ],
          [
           "DEKALB - MO"
          ],
          [
           "FREDERICK - VA"
          ],
          [
           "SIMPSON - MS"
          ],
          [
           "FAYETTE - OH"
          ],
          [
           "DISTRICT 29 - AK"
          ],
          [
           "RAPIDES - LA"
          ],
          [
           "CURRITUCK - NC"
          ],
          [
           "MONTGOMERY - AR"
          ],
          [
           "KNOX - MO"
          ],
          [
           "MARTIN - KY"
          ],
          [
           "BOWIE - TX"
          ],
          [
           "DOUGLAS - WA"
          ],
          [
           "JONES - GA"
          ],
          [
           "LARAMIE - WY"
          ],
          [
           "SPARTANBURG - SC"
          ],
          [
           "GREENE - VA"
          ],
          [
           "ANDREW - MO"
          ],
          [
           "FRANKLIN - MS"
          ],
          [
           "MACON - NC"
          ],
          [
           "HAMBLEN - TN"
          ],
          [
           "LEWIS - WV"
          ],
          [
           "JEFF DAVIS - TX"
          ],
          [
           "BOYLE - KY"
          ],
          [
           "OTTAWA - MI"
          ],
          [
           "COLLIER - FL"
          ],
          [
           "DOUGLAS - OR"
          ],
          [
           "PECOS - TX"
          ],
          [
           "GALLIA - OH"
          ],
          [
           "FLOYD - GA"
          ],
          [
           "SULLIVAN - TN"
          ],
          [
           "GOOCHLAND - VA"
          ],
          [
           "WAGONER - OK"
          ],
          [
           "WALKER - TX"
          ],
          [
           "MORTON - ND"
          ],
          [
           "CHESTER - TN"
          ],
          [
           "ACADIA - LA"
          ],
          [
           "OSAGE - KS"
          ],
          [
           "OLDHAM - KY"
          ],
          [
           "HARDIN - OH"
          ],
          [
           "FAYETTE - GA"
          ],
          [
           "DELTA - TX"
          ],
          [
           "GREELEY - NE"
          ],
          [
           "ALLEGANY - NY"
          ],
          [
           "SAN JACINTO - TX"
          ],
          [
           "SABINE - TX"
          ],
          [
           "LONOKE - AR"
          ],
          [
           "BIBB - AL"
          ],
          [
           "ANDERSON - KS"
          ],
          [
           "UPSON - GA"
          ],
          [
           "RICHARDSON - NE"
          ],
          [
           "GRAINGER - TN"
          ],
          [
           "HAMLIN - SD"
          ],
          [
           "AMELIA - VA"
          ],
          [
           "COFFEE - GA"
          ],
          [
           "BURLESON - TX"
          ],
          [
           "RHEA - TN"
          ],
          [
           "VERNON - MO"
          ],
          [
           "COLUMBIA - FL"
          ],
          [
           "PETTIS - MO"
          ],
          [
           "TIPTON - TN"
          ],
          [
           "SCOTT - VA"
          ],
          [
           "LIMESTONE - AL"
          ],
          [
           "TALLAPOOSA - AL"
          ],
          [
           "STEVENS - WA"
          ],
          [
           "CAMERON - PA"
          ],
          [
           "CLARION - PA"
          ],
          [
           "GLYNN - GA"
          ],
          [
           "RAVALLI - MT"
          ],
          [
           "CLEVELAND - OK"
          ],
          [
           "BUTLER - OH"
          ],
          [
           "ROWAN - NC"
          ],
          [
           "GREENE - TN"
          ],
          [
           "HIGHLAND - VA"
          ],
          [
           "DISTRICT 30 - AK"
          ],
          [
           "CAMDEN - GA"
          ],
          [
           "CAROLINE - MD"
          ],
          [
           "MADISON - AR"
          ],
          [
           "MORGAN - GA"
          ],
          [
           "YAVAPAI - AZ"
          ],
          [
           "JACKSON - KS"
          ],
          [
           "MARION - AR"
          ],
          [
           "BOX BUTTE - NE"
          ],
          [
           "COCKE - TN"
          ],
          [
           "COOPER - MO"
          ],
          [
           "SIERRA - CA"
          ],
          [
           "SCOTLAND - MO"
          ],
          [
           "GLENN - CA"
          ],
          [
           "MCINTOSH - ND"
          ],
          [
           "HENDRICKS - IN"
          ],
          [
           "TULSA - OK"
          ],
          [
           "FRANKLIN - KS"
          ],
          [
           "JOHNSTON - NC"
          ],
          [
           "CLARKE - MS"
          ],
          [
           "HENDERSON - TN"
          ],
          [
           "MATAGORDA - TX"
          ],
          [
           "WHITE - AR"
          ],
          [
           "MCLENNAN - TX"
          ],
          [
           "MONROE - GA"
          ],
          [
           "MORGAN - AL"
          ],
          [
           "CHEROKEE - SC"
          ],
          [
           "NEOSHO - KS"
          ],
          [
           "CLAY - IL"
          ],
          [
           "BENTON - WA"
          ],
          [
           "HARDEE - FL"
          ],
          [
           "RENVILLE - ND"
          ],
          [
           "PITTSYLVANIA - VA"
          ],
          [
           "HANCOCK - OH"
          ],
          [
           "AIKEN - SC"
          ],
          [
           "MARION - MS"
          ],
          [
           "WOOD - WV"
          ],
          [
           "RENO - KS"
          ],
          [
           "MORGAN - WV"
          ],
          [
           "ALLEN - KS"
          ],
          [
           "PAYNE - OK"
          ],
          [
           "ROGERS - OK"
          ],
          [
           "BURLEIGH - ND"
          ],
          [
           "IREDELL - NC"
          ],
          [
           "LYCOMING - PA"
          ],
          [
           "QUEEN ANNE'S - MD"
          ],
          [
           "WASHINGTON - VA"
          ],
          [
           "BLAIR - PA"
          ],
          [
           "GASCONADE - MO"
          ],
          [
           "BROWN - OH"
          ],
          [
           "LINN - KS"
          ],
          [
           "MORGAN - CO"
          ],
          [
           "KNOX - KY"
          ],
          [
           "SHERMAN - NE"
          ],
          [
           "BERRIEN - GA"
          ],
          [
           "GASTON - NC"
          ],
          [
           "GREENVILLE - SC"
          ],
          [
           "VALLEY - MT"
          ],
          [
           "DALLAS - MO"
          ],
          [
           "UMATILLA - OR"
          ],
          [
           "DESOTO - MS"
          ],
          [
           "TITUS - TX"
          ],
          [
           "MORROW - OH"
          ],
          [
           "GUADALUPE - TX"
          ],
          [
           "DECATUR - IN"
          ],
          [
           "JEFFERSON - TN"
          ],
          [
           "GRADY - OK"
          ],
          [
           "MARSHALL - AL"
          ],
          [
           "CHAVES - NM"
          ],
          [
           "SHELBY - KY"
          ],
          [
           "PIERCE - ND"
          ],
          [
           "MCMINN - TN"
          ],
          [
           "PLYMOUTH - IA"
          ],
          [
           "STEPHENS - OK"
          ],
          [
           "CAMDEN - MO"
          ],
          [
           "ASHLAND - OH"
          ],
          [
           "CATAWBA - NC"
          ],
          [
           "JOHNSON - GA"
          ],
          [
           "DISTRICT 10 - AK"
          ],
          [
           "HALL - NE"
          ],
          [
           "ANGELINA - TX"
          ],
          [
           "FLATHEAD - MT"
          ],
          [
           "SAUNDERS - NE"
          ],
          [
           "BECKHAM - OK"
          ],
          [
           "HEARD - GA"
          ],
          [
           "STONEWALL - TX"
          ],
          [
           "COLE - MO"
          ],
          [
           "UNION - FL"
          ],
          [
           "RADFORD CITY - VA"
          ],
          [
           "SHERMAN - OR"
          ],
          [
           "HARRISON - MS"
          ],
          [
           "RAINS - TX"
          ],
          [
           "JOHNSON - IN"
          ],
          [
           "LIBERTY - MT"
          ],
          [
           "TOOMBS - GA"
          ],
          [
           "PERSHING - NV"
          ],
          [
           "FINNEY - KS"
          ],
          [
           "UNION - OR"
          ],
          [
           "SOMERSET - PA"
          ],
          [
           "ADAMS - OH"
          ],
          [
           "TEHAMA - CA"
          ],
          [
           "LAMAR - AL"
          ],
          [
           "HART - KY"
          ],
          [
           "UNION - IN"
          ],
          [
           "WEBER - UT"
          ],
          [
           "WORTH - GA"
          ],
          [
           "BRACKEN - KY"
          ],
          [
           "BRECKINRIDGE - KY"
          ],
          [
           "SCOTT - AR"
          ],
          [
           "ADAMS - IN"
          ],
          [
           "LINCOLN - NM"
          ],
          [
           "LEE - MS"
          ],
          [
           "ANDERSON - KY"
          ],
          [
           "MILLER - GA"
          ],
          [
           "LIBERTY - TX"
          ],
          [
           "MIAMI - OH"
          ],
          [
           "GOLIAD - TX"
          ],
          [
           "HARDEMAN - TX"
          ],
          [
           "JACKSON - LA"
          ],
          [
           "FAULK - SD"
          ],
          [
           "HAND - SD"
          ],
          [
           "UNION - NC"
          ],
          [
           "HUGHES - SD"
          ],
          [
           "POLK - TX"
          ],
          [
           "POPE - AR"
          ],
          [
           "DISTRICT 6 - AK"
          ],
          [
           "GRANT - KY"
          ],
          [
           "ST. JOHNS - FL"
          ],
          [
           "HOWARD - NE"
          ],
          [
           "WARE - GA"
          ],
          [
           "POWER - ID"
          ],
          [
           "WYOMING - NY"
          ],
          [
           "BLOUNT - TN"
          ],
          [
           "CORYELL - TX"
          ],
          [
           "BULLITT - KY"
          ],
          [
           "PULASKI - MO"
          ],
          [
           "WILLIAMSON - TN"
          ],
          [
           "CATAHOULA - LA"
          ],
          [
           "CHARLTON - GA"
          ],
          [
           "WHARTON - TX"
          ],
          [
           "GRIMES - TX"
          ],
          [
           "GRAYSON - VA"
          ],
          [
           "LOUDON - TN"
          ],
          [
           "LAMAR - TX"
          ],
          [
           "GLOUCESTER - VA"
          ],
          [
           "APPOMATTOX - VA"
          ],
          [
           "WASHINGTON - NE"
          ],
          [
           "SHENANDOAH - VA"
          ],
          [
           "JOHNSON - IL"
          ],
          [
           "STODDARD - MO"
          ],
          [
           "RIPLEY - MO"
          ],
          [
           "WOODFORD - IL"
          ],
          [
           "SALINE - KS"
          ],
          [
           "HAMILTON - NY"
          ],
          [
           "HARDY - WV"
          ],
          [
           "SHASTA - CA"
          ],
          [
           "SEWARD - NE"
          ],
          [
           "NACOGDOCHES - TX"
          ],
          [
           "MONITEAU - MO"
          ],
          [
           "MORGAN - IN"
          ],
          [
           "SHELBY - TX"
          ],
          [
           "WASHINGTON - KY"
          ],
          [
           "MERCER - KY"
          ],
          [
           "DAWSON - MT"
          ],
          [
           "MARSHALL - KS"
          ],
          [
           "MCCURTAIN - OK"
          ],
          [
           "PALO PINTO - TX"
          ],
          [
           "HUNTINGTON - IN"
          ],
          [
           "CROSBY - TX"
          ],
          [
           "MCDOWELL - NC"
          ],
          [
           "HAMPSHIRE - WV"
          ],
          [
           "HIGHLAND - OH"
          ],
          [
           "TODD - KY"
          ],
          [
           "LOGAN - OH"
          ],
          [
           "KOOTENAI - ID"
          ],
          [
           "WAYNE - KY"
          ],
          [
           "BUTLER - PA"
          ],
          [
           "NEMAHA - NE"
          ],
          [
           "CRAWFORD - AR"
          ],
          [
           "OWEN - KY"
          ],
          [
           "PRESTON - WV"
          ],
          [
           "FALL RIVER - SD"
          ],
          [
           "CROWLEY - CO"
          ],
          [
           "BARREN - KY"
          ],
          [
           "VIRGINIA BEACH CITY - VA"
          ],
          [
           "TIOGA - PA"
          ],
          [
           "MATHEWS - VA"
          ],
          [
           "CHOCTAW - MS"
          ],
          [
           "DE BACA - NM"
          ],
          [
           "HUNTINGDON - PA"
          ],
          [
           "CARTER - MO"
          ],
          [
           "SURRY - NC"
          ],
          [
           "ADAMS - NE"
          ],
          [
           "BRADFORD - FL"
          ],
          [
           "WAYNESBORO CITY - VA"
          ],
          [
           "OZARK - MO"
          ],
          [
           "RUTHERFORD - NC"
          ],
          [
           "METCALFE - KY"
          ],
          [
           "FRANKLIN - GA"
          ],
          [
           "GILCHRIST - FL"
          ],
          [
           "LINCOLN - OK"
          ],
          [
           "WELLS - ND"
          ],
          [
           "CARROLL - MO"
          ],
          [
           "VAN WERT - OH"
          ],
          [
           "CLAY - NC"
          ],
          [
           "BOURBON - KS"
          ],
          [
           "ATCHISON - MO"
          ],
          [
           "NOLAN - TX"
          ],
          [
           "LINCOLN - KY"
          ],
          [
           "WALWORTH - SD"
          ],
          [
           "CARTER - TN"
          ],
          [
           "HOPEWELL CITY - VA"
          ],
          [
           "SWEETWATER - WY"
          ],
          [
           "MADISON - MT"
          ],
          [
           "ELLIS - KS"
          ],
          [
           "UNION - OH"
          ],
          [
           "WEBSTER - MO"
          ],
          [
           "HARALSON - GA"
          ],
          [
           "COLFAX - NE"
          ],
          [
           "TEXAS - MO"
          ],
          [
           "PREBLE - OH"
          ],
          [
           "CROOK - OR"
          ],
          [
           "CARROLL - MS"
          ],
          [
           "LOGAN - OK"
          ],
          [
           "WAYNE - TN"
          ],
          [
           "POLK - MO"
          ],
          [
           "WASHITA - OK"
          ],
          [
           "GRANT - WA"
          ],
          [
           "TATTNALL - GA"
          ],
          [
           "GRANITE - MT"
          ],
          [
           "TELLER - CO"
          ],
          [
           "NEW KENT - VA"
          ],
          [
           "ITAWAMBA - MS"
          ],
          [
           "CEDAR - MO"
          ],
          [
           "PENDLETON - KY"
          ],
          [
           "MCCLAIN - OK"
          ],
          [
           "PAWNEE - NE"
          ],
          [
           "HUTCHINSON - SD"
          ],
          [
           "FREESTONE - TX"
          ],
          [
           "FORD - IL"
          ],
          [
           "WASHINGTON - FL"
          ],
          [
           "WHITLEY - KY"
          ],
          [
           "MESA - CO"
          ],
          [
           "MARTIN - IN"
          ],
          [
           "DEKALB - AL"
          ],
          [
           "WASATCH - UT"
          ],
          [
           "SNYDER - PA"
          ],
          [
           "CLAY - AL"
          ],
          [
           "GREGORY - SD"
          ],
          [
           "PERRY - MO"
          ],
          [
           "TOOLE - MT"
          ],
          [
           "MORROW - OR"
          ],
          [
           "LAFAYETTE - LA"
          ],
          [
           "POWELL - MT"
          ],
          [
           "GRAHAM - AZ"
          ],
          [
           "MONTGOMERY - KS"
          ],
          [
           "BUTLER - MO"
          ],
          [
           "CUSTER - CO"
          ],
          [
           "SUMNER - KS"
          ],
          [
           "HANCOCK - IN"
          ],
          [
           "SEDGWICK - CO"
          ],
          [
           "OGLETHORPE - GA"
          ],
          [
           "SEWARD - KS"
          ],
          [
           "TIPPAH - MS"
          ],
          [
           "WHEELER - OR"
          ],
          [
           "ANDERSON - SC"
          ],
          [
           "WASHINGTON - WI"
          ],
          [
           "KENT - TX"
          ],
          [
           "GONZALES - TX"
          ],
          [
           "LINCOLN - NE"
          ],
          [
           "NEWTON - AR"
          ],
          [
           "HOUSTON - TX"
          ],
          [
           "MILLER - MO"
          ],
          [
           "CRAIG - VA"
          ],
          [
           "CALDWELL - NC"
          ],
          [
           "KIDDER - ND"
          ],
          [
           "MCKENZIE - ND"
          ],
          [
           "FREMONT - CO"
          ],
          [
           "RIPLEY - IN"
          ],
          [
           "STARK - ND"
          ],
          [
           "TIFT - GA"
          ],
          [
           "WIRT - WV"
          ],
          [
           "SEARCY - AR"
          ],
          [
           "APPLING - GA"
          ],
          [
           "CAMERON - LA"
          ],
          [
           "UNION - LA"
          ],
          [
           "LINCOLN - NC"
          ],
          [
           "JEFFERSON - PA"
          ],
          [
           "ROOSEVELT - NM"
          ],
          [
           "MADISON - TX"
          ],
          [
           "STEPHENS - GA"
          ],
          [
           "BLAINE - OK"
          ],
          [
           "EDMONSON - KY"
          ],
          [
           "EMPORIA CITY - VA"
          ],
          [
           "SWISHER - TX"
          ],
          [
           "ADAMS - ND"
          ],
          [
           "ESTILL - KY"
          ],
          [
           "WAYNE - GA"
          ],
          [
           "GRAYSON - TX"
          ],
          [
           "WILSON - TX"
          ],
          [
           "MINERAL - WV"
          ],
          [
           "IROQUOIS - IL"
          ],
          [
           "DEARBORN - IN"
          ],
          [
           "UPSHUR - WV"
          ],
          [
           "WINN - LA"
          ],
          [
           "DAWES - NE"
          ],
          [
           "EDWARDS - IL"
          ],
          [
           "HARRIS - GA"
          ],
          [
           "CARROLL - GA"
          ],
          [
           "LINCOLN - WA"
          ],
          [
           "CHRISTIAN - MO"
          ],
          [
           "CLINTON - OH"
          ],
          [
           "HENDERSON - TX"
          ],
          [
           "FREMONT - WY"
          ],
          [
           "BLECKLEY - GA"
          ],
          [
           "BEAVERHEAD - MT"
          ],
          [
           "NEWTON - MS"
          ],
          [
           "MONTROSE - CO"
          ],
          [
           "DIXON - NE"
          ],
          [
           "WYTHE - VA"
          ],
          [
           "CARBON - WY"
          ],
          [
           "WARREN - OH"
          ],
          [
           "HOPKINS - TX"
          ],
          [
           "COFFEE - AL"
          ],
          [
           "DAVIS - UT"
          ],
          [
           "BENEWAH - ID"
          ],
          [
           "PATRICK - VA"
          ],
          [
           "FORD - KS"
          ],
          [
           "MENARD - TX"
          ],
          [
           "KAY - OK"
          ],
          [
           "HUMBOLDT - NV"
          ],
          [
           "TANEY - MO"
          ],
          [
           "HOWELL - MO"
          ],
          [
           "WELLS - IN"
          ],
          [
           "VERNON - LA"
          ],
          [
           "LINCOLN - MS"
          ],
          [
           "TOOELE - UT"
          ],
          [
           "POTTER - SD"
          ],
          [
           "SANDERS - MT"
          ],
          [
           "MERCER - ND"
          ],
          [
           "WALKER - GA"
          ],
          [
           "SHELBY - OH"
          ],
          [
           "CHEROKEE - NC"
          ],
          [
           "BARRY - MO"
          ],
          [
           "BOTETOURT - VA"
          ],
          [
           "EDWARDS - TX"
          ],
          [
           "ANDERSON - TX"
          ],
          [
           "BAYLOR - TX"
          ],
          [
           "WALLOWA - OR"
          ],
          [
           "FRANKLIN - LA"
          ],
          [
           "CROCKETT - TX"
          ],
          [
           "CARTERET - NC"
          ],
          [
           "MORRIS - KS"
          ],
          [
           "STONE - MO"
          ],
          [
           "LARUE - KY"
          ],
          [
           "GRUNDY - MO"
          ],
          [
           "HARRISON - MO"
          ],
          [
           "DARKE - OH"
          ],
          [
           "FRANKLIN - PA"
          ],
          [
           "HANCOCK - TN"
          ],
          [
           "RABUN - GA"
          ],
          [
           "TOWNS - GA"
          ],
          [
           "UNION - MS"
          ],
          [
           "BOSSIER - LA"
          ],
          [
           "PANOLA - TX"
          ],
          [
           "TYLER - WV"
          ],
          [
           "OSCEOLA - IA"
          ],
          [
           "CUSTER - SD"
          ],
          [
           "LUBBOCK - TX"
          ],
          [
           "STANLEY - SD"
          ],
          [
           "CLERMONT - OH"
          ],
          [
           "CARROLL - MD"
          ],
          [
           "MIFFLIN - PA"
          ],
          [
           "CARROLL - VA"
          ],
          [
           "COLQUITT - GA"
          ],
          [
           "CULLMAN - AL"
          ],
          [
           "GORDON - GA"
          ],
          [
           "WICHITA - TX"
          ],
          [
           "HANCOCK - MS"
          ],
          [
           "LYNCHBURG CITY - VA"
          ],
          [
           "BARTOW - GA"
          ],
          [
           "BOONE - AR"
          ],
          [
           "CHURCHILL - NV"
          ],
          [
           "DELTA - CO"
          ],
          [
           "PAWNEE - KS"
          ],
          [
           "JACKSON - MS"
          ],
          [
           "BOISE - ID"
          ],
          [
           "BUTLER - KS"
          ],
          [
           "VICTORIA - TX"
          ],
          [
           "HILL - TX"
          ],
          [
           "LAWRENCE - MO"
          ],
          [
           "WAYNE - NE"
          ],
          [
           "HANOVER - VA"
          ],
          [
           "LINCOLN - MT"
          ],
          [
           "CAMPBELL - VA"
          ],
          [
           "JASPER - MO"
          ],
          [
           "HOLT - MO"
          ],
          [
           "MEADE - SD"
          ],
          [
           "DAVIDSON - NC"
          ],
          [
           "CHEROKEE - TX"
          ],
          [
           "MEDINA - TX"
          ],
          [
           "CAPE GIRARDEAU - MO"
          ],
          [
           "CLEBURNE - AL"
          ],
          [
           "SUWANNEE - FL"
          ],
          [
           "JEFF DAVIS - GA"
          ],
          [
           "WOODSON - KS"
          ],
          [
           "FILLMORE - NE"
          ],
          [
           "HALL - TX"
          ],
          [
           "UPSHUR - TX"
          ],
          [
           "JESSAMINE - KY"
          ],
          [
           "COVINGTON - AL"
          ],
          [
           "FANNIN - GA"
          ],
          [
           "COMANCHE - TX"
          ],
          [
           "SPENCER - KY"
          ],
          [
           "TRIPP - SD"
          ],
          [
           "MITCHELL - TX"
          ],
          [
           "KAUFMAN - TX"
          ],
          [
           "BEAUREGARD - LA"
          ],
          [
           "WARD - TX"
          ],
          [
           "PERRY - PA"
          ],
          [
           "STILLWATER - MT"
          ],
          [
           "SEVIER - TN"
          ],
          [
           "CURRY - NM"
          ],
          [
           "THAYER - NE"
          ],
          [
           "MCPHERSON - SD"
          ],
          [
           "SALEM CITY - VA"
          ],
          [
           "DADE - GA"
          ],
          [
           "ELLIS - TX"
          ],
          [
           "DICKENS - TX"
          ],
          [
           "BROWN - KS"
          ],
          [
           "PROWERS - CO"
          ],
          [
           "TERRY - TX"
          ],
          [
           "SCOTTS BLUFF - NE"
          ],
          [
           "BENTON - AR"
          ],
          [
           "DUNN - ND"
          ],
          [
           "POLK - AR"
          ],
          [
           "NANCE - NE"
          ],
          [
           "ADAMS - WA"
          ],
          [
           "JUDITH BASIN - MT"
          ],
          [
           "SABINE - LA"
          ],
          [
           "OCONEE - SC"
          ],
          [
           "HUNT - TX"
          ],
          [
           "TREASURE - MT"
          ],
          [
           "BOONE - KY"
          ],
          [
           "FRANKLIN - IN"
          ],
          [
           "LACLEDE - MO"
          ],
          [
           "MURRAY - GA"
          ],
          [
           "UNION - GA"
          ],
          [
           "BAY - FL"
          ],
          [
           "JOHNSON - TN"
          ],
          [
           "MERCER - MO"
          ],
          [
           "WASHINGTON - OK"
          ],
          [
           "WHITE PINE - NV"
          ],
          [
           "ARANSAS - TX"
          ],
          [
           "CUSTER - OK"
          ],
          [
           "DANIELS - MT"
          ],
          [
           "BOLLINGER - MO"
          ],
          [
           "BAKER - OR"
          ],
          [
           "OLIVER - ND"
          ],
          [
           "BACON - GA"
          ],
          [
           "GRAHAM - NC"
          ],
          [
           "O'BRIEN - IA"
          ],
          [
           "DOUGLAS - MO"
          ],
          [
           "KLAMATH - OR"
          ],
          [
           "GRAYSON - KY"
          ],
          [
           "CHILTON - AL"
          ],
          [
           "COTTLE - TX"
          ],
          [
           "DAVIESS - IN"
          ],
          [
           "DADE - MO"
          ],
          [
           "LOGAN - CO"
          ],
          [
           "JONES - MS"
          ],
          [
           "BLAND - VA"
          ],
          [
           "STOKES - NC"
          ],
          [
           "JUNIATA - PA"
          ],
          [
           "PUTNAM - MO"
          ],
          [
           "WAYNE - IL"
          ],
          [
           "LEWIS - KY"
          ],
          [
           "MCPHERSON - KS"
          ],
          [
           "LAFAYETTE - FL"
          ],
          [
           "LASSEN - CA"
          ],
          [
           "CLAY - TX"
          ],
          [
           "RICE - KS"
          ],
          [
           "CATRON - NM"
          ],
          [
           "LUMPKIN - GA"
          ],
          [
           "ELMORE - ID"
          ],
          [
           "CALDWELL - LA"
          ],
          [
           "JONES - TX"
          ],
          [
           "CASTRO - TX"
          ],
          [
           "ADAMS - ID"
          ],
          [
           "WEBSTER - MS"
          ],
          [
           "OSAGE - MO"
          ],
          [
           "HARDIN - TX"
          ],
          [
           "LEE - TX"
          ],
          [
           "CANYON - ID"
          ],
          [
           "ROCKINGHAM - VA"
          ],
          [
           "BOUNDARY - ID"
          ],
          [
           "NATRONA - WY"
          ],
          [
           "DONIPHAN - KS"
          ],
          [
           "EFFINGHAM - IL"
          ],
          [
           "CUMING - NE"
          ],
          [
           "WILLIAMS - ND"
          ],
          [
           "STANLY - NC"
          ],
          [
           "BUTTE - SD"
          ],
          [
           "DALE - AL"
          ],
          [
           "FERGUS - MT"
          ],
          [
           "CLEARWATER - ID"
          ],
          [
           "BUTLER - NE"
          ],
          [
           "GREGG - TX"
          ],
          [
           "PRATT - KS"
          ],
          [
           "ALEXANDER - NC"
          ],
          [
           "CATOOSA - GA"
          ],
          [
           "MEAGHER - MT"
          ],
          [
           "TAYLOR - KY"
          ],
          [
           "JACKSON - OK"
          ],
          [
           "WALTON - FL"
          ],
          [
           "CLAY - FL"
          ],
          [
           "COLUMBIA - WA"
          ],
          [
           "MONTAGUE - TX"
          ],
          [
           "BROADWATER - MT"
          ],
          [
           "BRYAN - GA"
          ],
          [
           "COLORADO - TX"
          ],
          [
           "KNOX - NE"
          ],
          [
           "GOSHEN - WY"
          ],
          [
           "DENT - MO"
          ],
          [
           "KOSCIUSKO - IN"
          ],
          [
           "POTTER - PA"
          ],
          [
           "PLATTE - WY"
          ],
          [
           "WOODS - OK"
          ],
          [
           "NEWTON - MO"
          ],
          [
           "ROCKWALL - TX"
          ],
          [
           "TWIN FALLS - ID"
          ],
          [
           "JOHNSON - TX"
          ],
          [
           "LEXINGTON - SC"
          ],
          [
           "BUFFALO - NE"
          ],
          [
           "SUTTON - TX"
          ],
          [
           "WEBSTER - NE"
          ],
          [
           "STONE - MS"
          ],
          [
           "PICKENS - GA"
          ],
          [
           "EFFINGHAM - GA"
          ],
          [
           "JACKSON - CO"
          ],
          [
           "DAVIE - NC"
          ],
          [
           "ALLEN - KY"
          ],
          [
           "BURKE - ND"
          ],
          [
           "DOLORES - CO"
          ],
          [
           "COLLINGSWORTH - TX"
          ],
          [
           "ECHOLS - GA"
          ],
          [
           "CAMAS - ID"
          ],
          [
           "GILMER - GA"
          ],
          [
           "LEE - KY"
          ],
          [
           "PAULDING - GA"
          ],
          [
           "DAWSON - TX"
          ],
          [
           "BARROW - GA"
          ],
          [
           "WHITFIELD - GA"
          ],
          [
           "GARFIELD - OK"
          ],
          [
           "MCDONALD - MO"
          ],
          [
           "NOBLE - OK"
          ],
          [
           "PERKINS - SD"
          ],
          [
           "HETTINGER - ND"
          ],
          [
           "WILKES - NC"
          ],
          [
           "BRANTLEY - GA"
          ],
          [
           "DAWSON - NE"
          ],
          [
           "WRIGHT - MO"
          ],
          [
           "WABAUNSEE - KS"
          ],
          [
           "LEON - TX"
          ],
          [
           "LIVINGSTON - LA"
          ],
          [
           "DAGGETT - UT"
          ],
          [
           "SMITH - TX"
          ],
          [
           "DICKINSON - KS"
          ],
          [
           "POTTER - TX"
          ],
          [
           "BRADLEY - TN"
          ],
          [
           "JACKSON - TX"
          ],
          [
           "GRANT - LA"
          ],
          [
           "MARION - KS"
          ],
          [
           "EMMONS - ND"
          ],
          [
           "MODOC - CA"
          ],
          [
           "BLANCO - TX"
          ],
          [
           "GREENE - MS"
          ],
          [
           "CHASE - KS"
          ],
          [
           "SHERIDAN - WY"
          ],
          [
           "LYNN - TX"
          ],
          [
           "WILBARGER - TX"
          ],
          [
           "COFFEY - KS"
          ],
          [
           "NUCKOLLS - NE"
          ],
          [
           "BARTON - KS"
          ],
          [
           "MCCREARY - KY"
          ],
          [
           "WISE - TX"
          ],
          [
           "HOUSTON - AL"
          ],
          [
           "COLONIAL HEIGHTS - VA"
          ],
          [
           "MADISON - NE"
          ],
          [
           "PERRY - MS"
          ],
          [
           "AUGUSTA - VA"
          ],
          [
           "CHAMBERS - TX"
          ],
          [
           "DISTRICT 11 - AK"
          ],
          [
           "BAILEY - TX"
          ],
          [
           "HOLMES - FL"
          ],
          [
           "OKALOOSA - FL"
          ],
          [
           "GARRARD - KY"
          ],
          [
           "WHEATLAND - MT"
          ],
          [
           "JACKSON - GA"
          ],
          [
           "COCHRAN - TX"
          ],
          [
           "BAKER - FL"
          ],
          [
           "DISTRICT 12 - AK"
          ],
          [
           "FRANKLIN - TX"
          ],
          [
           "VAN ZANDT - TX"
          ],
          [
           "POWHATAN - VA"
          ],
          [
           "BUTLER - KY"
          ],
          [
           "NASSAU - FL"
          ],
          [
           "CLOUD - KS"
          ],
          [
           "COLUMBIA - GA"
          ],
          [
           "BOWMAN - ND"
          ],
          [
           "LINCOLN - ID"
          ],
          [
           "PONTOTOC - MS"
          ],
          [
           "VALLEY - NE"
          ],
          [
           "HYDE - SD"
          ],
          [
           "RUSK - TX"
          ],
          [
           "ELLSWORTH - KS"
          ],
          [
           "GARRETT - MD"
          ],
          [
           "MCCONE - MT"
          ],
          [
           "BRISCOE - TX"
          ],
          [
           "COWETA - GA"
          ],
          [
           "GENEVA - AL"
          ],
          [
           "WILSON - KS"
          ],
          [
           "FLOYD - TX"
          ],
          [
           "SHELBY - AL"
          ],
          [
           "PIKE - GA"
          ],
          [
           "NORTON CITY - VA"
          ],
          [
           "ELBERT - CO"
          ],
          [
           "RUSH - KS"
          ],
          [
           "WINSTON - AL"
          ],
          [
           "GREENWOOD - KS"
          ],
          [
           "SCHLEICHER - TX"
          ],
          [
           "CAMPBELL - SD"
          ],
          [
           "LAVACA - TX"
          ],
          [
           "DEAF SMITH - TX"
          ],
          [
           "HOWARD - TX"
          ],
          [
           "MERRICK - NE"
          ],
          [
           "WALTON - GA"
          ],
          [
           "AUTAUGA - AL"
          ],
          [
           "TOM GREEN - TX"
          ],
          [
           "PHILLIPS - MT"
          ],
          [
           "ECTOR - TX"
          ],
          [
           "AUGLAIZE - OH"
          ],
          [
           "EDWARDS - KS"
          ],
          [
           "WHITE - GA"
          ],
          [
           "MADISON - GA"
          ],
          [
           "CACHE - UT"
          ],
          [
           "MITCHELL - NC"
          ],
          [
           "SHERIDAN - ND"
          ],
          [
           "OCONEE - GA"
          ],
          [
           "CEDAR - NE"
          ],
          [
           "BOSQUE - TX"
          ],
          [
           "MERCER - OH"
          ],
          [
           "FRANKLIN - NE"
          ],
          [
           "HARPER - KS"
          ],
          [
           "ELKO - NV"
          ],
          [
           "GRANT - OK"
          ],
          [
           "CHILDRESS - TX"
          ],
          [
           "SULLY - SD"
          ],
          [
           "LOGAN - ND"
          ],
          [
           "PLATTE - NE"
          ],
          [
           "PUTNAM - OH"
          ],
          [
           "NESHOBA - MS"
          ],
          [
           "MALHEUR - OR"
          ],
          [
           "HOLMES - OH"
          ],
          [
           "UNION - NM"
          ],
          [
           "NEMAHA - KS"
          ],
          [
           "RANDOLPH - NC"
          ],
          [
           "WEST CARROLL - LA"
          ],
          [
           "BEDFORD - PA"
          ],
          [
           "FAYETTE - TX"
          ],
          [
           "TREGO - KS"
          ],
          [
           "WASHINGTON - TX"
          ],
          [
           "GARFIELD - WA"
          ],
          [
           "WOOD - TX"
          ],
          [
           "PAYETTE - ID"
          ],
          [
           "PEARL RIVER - MS"
          ],
          [
           "ELMORE - AL"
          ],
          [
           "COMAL - TX"
          ],
          [
           "LIVE OAK - TX"
          ],
          [
           "KEARNEY - NE"
          ],
          [
           "PIERCE - GA"
          ],
          [
           "HAMILTON - NE"
          ],
          [
           "BLOUNT - AL"
          ],
          [
           "EASTLAND - TX"
          ],
          [
           "JACK - TX"
          ],
          [
           "GOODING - ID"
          ],
          [
           "MUSSELSHELL - MT"
          ],
          [
           "WASHINGTON - ID"
          ],
          [
           "UINTA - WY"
          ],
          [
           "PHILLIPS - CO"
          ],
          [
           "WOODWARD - OK"
          ],
          [
           "DODDRIDGE - WV"
          ],
          [
           "LANDER - NV"
          ],
          [
           "AVERY - NC"
          ],
          [
           "LEA - NM"
          ],
          [
           "MONTGOMERY - TX"
          ],
          [
           "BONNEVILLE - ID"
          ],
          [
           "LESLIE - KY"
          ],
          [
           "BURNET - TX"
          ],
          [
           "GEM - ID"
          ],
          [
           "HALE - TX"
          ],
          [
           "WINKLER - TX"
          ],
          [
           "MCCULLOCH - TX"
          ],
          [
           "GEORGE - MS"
          ],
          [
           "KANE - UT"
          ],
          [
           "ST. TAMMANY - LA"
          ],
          [
           "THROCKMORTON - TX"
          ],
          [
           "DEWEY - OK"
          ],
          [
           "FULTON - PA"
          ],
          [
           "MOFFAT - CO"
          ],
          [
           "LYON - IA"
          ],
          [
           "ST. CLAIR - AL"
          ],
          [
           "BANKS - GA"
          ],
          [
           "HALL - GA"
          ],
          [
           "HOOD - TX"
          ],
          [
           "RITCHIE - WV"
          ],
          [
           "LAUREL - KY"
          ],
          [
           "TAYLOR - TX"
          ],
          [
           "UTAH - UT"
          ],
          [
           "PARKER - TX"
          ],
          [
           "CANADIAN - OK"
          ],
          [
           "RANKIN - MS"
          ],
          [
           "RICHLAND - MT"
          ],
          [
           "STANTON - NE"
          ],
          [
           "LEWIS - ID"
          ],
          [
           "BARTON - MO"
          ],
          [
           "YOUNG - TX"
          ],
          [
           "KIT CARSON - CO"
          ],
          [
           "SAN SABA - TX"
          ],
          [
           "POTTAWATOMIE - KS"
          ],
          [
           "YADKIN - NC"
          ],
          [
           "KINGMAN - KS"
          ],
          [
           "POLK - NE"
          ],
          [
           "JEROME - ID"
          ],
          [
           "CUMBERLAND - KY"
          ],
          [
           "BOONE - NE"
          ],
          [
           "ROGER MILLS - OK"
          ],
          [
           "STAFFORD - KS"
          ],
          [
           "HABERSHAM - GA"
          ],
          [
           "AUSTIN - TX"
          ],
          [
           "HAMILTON - TX"
          ],
          [
           "CUSTER - ID"
          ],
          [
           "LAKE - OR"
          ],
          [
           "ELK - KS"
          ],
          [
           "WIBAUX - MT"
          ],
          [
           "PICKENS - SC"
          ],
          [
           "DEWITT - TX"
          ],
          [
           "LEMHI - ID"
          ],
          [
           "SANTA ROSA - FL"
          ],
          [
           "HARNEY - OR"
          ],
          [
           "SLOPE - ND"
          ],
          [
           "BINGHAM - ID"
          ],
          [
           "SOMERVELL - TX"
          ],
          [
           "LAMAR - MS"
          ],
          [
           "MASON - TX"
          ],
          [
           "GRANT - OR"
          ],
          [
           "CLAY - NE"
          ],
          [
           "GARZA - TX"
          ],
          [
           "CLAY - KY"
          ],
          [
           "UPTON - TX"
          ],
          [
           "LAMB - TX"
          ],
          [
           "BARBER - KS"
          ],
          [
           "WAYNE - UT"
          ],
          [
           "RUSSELL - KS"
          ],
          [
           "SHERMAN - KS"
          ],
          [
           "PRAIRIE - MT"
          ],
          [
           "WASHAKIE - WY"
          ],
          [
           "LAMPASAS - TX"
          ],
          [
           "ERATH - TX"
          ],
          [
           "GOLDEN VALLEY - MT"
          ],
          [
           "GREEN - KY"
          ],
          [
           "PULASKI - KY"
          ],
          [
           "HOT SPRINGS - WY"
          ],
          [
           "HITCHCOCK - NE"
          ],
          [
           "PARK - WY"
          ],
          [
           "YUMA - CO"
          ],
          [
           "CLAY - KS"
          ],
          [
           "GARDEN - NE"
          ],
          [
           "FRONTIER - NE"
          ],
          [
           "ARCHER - TX"
          ],
          [
           "LLANO - TX"
          ],
          [
           "SMITH - MS"
          ],
          [
           "LINCOLN - KS"
          ],
          [
           "GOSPER - NE"
          ],
          [
           "BALDWIN - AL"
          ],
          [
           "POQUOSON - VA"
          ],
          [
           "DAWSON - GA"
          ],
          [
           "KERR - TX"
          ],
          [
           "BACA - CO"
          ],
          [
           "STEPHENS - TX"
          ],
          [
           "LINCOLN - NV"
          ],
          [
           "MCMULLEN - TX"
          ],
          [
           "IDAHO - ID"
          ],
          [
           "LEE - GA"
          ],
          [
           "KEITH - NE"
          ],
          [
           "DEUEL - NE"
          ],
          [
           "YORK - NE"
          ],
          [
           "SMITH - KS"
          ],
          [
           "DOUGLAS - SD"
          ],
          [
           "GLASCOCK - GA"
          ],
          [
           "NORTON - KS"
          ],
          [
           "CONCHO - TX"
          ],
          [
           "BROWN - TX"
          ],
          [
           "ADAIR - KY"
          ],
          [
           "PIERCE - NE"
          ],
          [
           "BUTTE - ID"
          ],
          [
           "KIMBALL - NE"
          ],
          [
           "CHEYENNE - NE"
          ],
          [
           "WHEELER - TX"
          ],
          [
           "BANDERA - TX"
          ],
          [
           "RUSSELL - KY"
          ],
          [
           "LINCOLN - CO"
          ],
          [
           "RED WILLOW - NE"
          ],
          [
           "DECATUR - KS"
          ],
          [
           "BEAVER - UT"
          ],
          [
           "GOLDEN VALLEY - ND"
          ],
          [
           "CALLAHAN - TX"
          ],
          [
           "CLINTON - KY"
          ],
          [
           "REPUBLIC - KS"
          ],
          [
           "RUNNELS - TX"
          ],
          [
           "GRANT - KS"
          ],
          [
           "FORSYTH - GA"
          ],
          [
           "FURNAS - NE"
          ],
          [
           "OSBORNE - KS"
          ],
          [
           "COLEMAN - TX"
          ],
          [
           "CHEROKEE - GA"
          ],
          [
           "JONES - SD"
          ],
          [
           "ANTELOPE - NE"
          ],
          [
           "MORRILL - NE"
          ],
          [
           "ESMERALDA - NV"
          ],
          [
           "MILLS - TX"
          ],
          [
           "MINIDOKA - ID"
          ],
          [
           "HARLAN - NE"
          ],
          [
           "GRANT - ND"
          ],
          [
           "GRANT - WV"
          ],
          [
           "CHAUTAUQUA - KS"
          ],
          [
           "SWEET GRASS - MT"
          ],
          [
           "HOCKLEY - TX"
          ],
          [
           "PHELPS - NE"
          ],
          [
           "GRAHAM - KS"
          ],
          [
           "COKE - TX"
          ],
          [
           "COOKE - TX"
          ],
          [
           "CRANE - TX"
          ],
          [
           "OWYHEE - ID"
          ],
          [
           "ALFALFA - OK"
          ],
          [
           "ELLIS - OK"
          ],
          [
           "CLARK - KS"
          ],
          [
           "REAL - TX"
          ],
          [
           "MITCHELL - KS"
          ],
          [
           "BUENA VISTA CITY - VA"
          ],
          [
           "MONROE - KY"
          ],
          [
           "LA SALLE - LA"
          ],
          [
           "COLONIAL HEIGHTS CITY - VA"
          ],
          [
           "BILLINGS - ND"
          ],
          [
           "OTTAWA - KS"
          ],
          [
           "KENDALL - TX"
          ],
          [
           "STANTON - KS"
          ],
          [
           "PETROLEUM - MT"
          ],
          [
           "OWSLEY - KY"
          ],
          [
           "WASHINGTON - UT"
          ],
          [
           "BOYD - NE"
          ],
          [
           "ROCKCASTLE - KY"
          ],
          [
           "REAGAN - TX"
          ],
          [
           "SCURRY - TX"
          ],
          [
           "BRISTOL CITY - VA"
          ],
          [
           "GRAY - KS"
          ],
          [
           "KEARNY - KS"
          ],
          [
           "LANE - KS"
          ],
          [
           "JUAB - UT"
          ],
          [
           "LOUP - NE"
          ],
          [
           "HARPER - OK"
          ],
          [
           "COVINGTON CITY - VA"
          ],
          [
           "HAMILTON - KS"
          ],
          [
           "WASHINGTON - KS"
          ],
          [
           "HOLT - NE"
          ],
          [
           "PHILLIPS - KS"
          ],
          [
           "EMERY - UT"
          ],
          [
           "PERKINS - NE"
          ],
          [
           "WHEELER - NE"
          ],
          [
           "KIOWA - CO"
          ],
          [
           "ANDREWS - TX"
          ],
          [
           "KEYA PAHA - NE"
          ],
          [
           "CHEYENNE - KS"
          ],
          [
           "YOAKUM - TX"
          ],
          [
           "KINGFISHER - OK"
          ],
          [
           "ROOKS - KS"
          ],
          [
           "THOMAS - KS"
          ],
          [
           "SUBLETTE - WY"
          ],
          [
           "DUNDY - NE"
          ],
          [
           "CUSTER - NE"
          ],
          [
           "MARTIN - TX"
          ],
          [
           "CONVERSE - WY"
          ],
          [
           "LINCOLN - WY"
          ],
          [
           "WASHINGTON - CO"
          ],
          [
           "NESS - KS"
          ],
          [
           "GARFIELD - NE"
          ],
          [
           "COMANCHE - KS"
          ],
          [
           "MIDLAND - TX"
          ],
          [
           "DONLEY - TX"
          ],
          [
           "GAINES - TX"
          ],
          [
           "GILLESPIE - TX"
          ],
          [
           "RIO BLANCO - CO"
          ],
          [
           "POQUOSON CITY - VA"
          ],
          [
           "MOORE - TX"
          ],
          [
           "JOHNSON - WY"
          ],
          [
           "BIG HORN - WY"
          ],
          [
           "PARMER - TX"
          ],
          [
           "FALLON - MT"
          ],
          [
           "MORTON - KS"
          ],
          [
           "CASEY - KY"
          ],
          [
           "IRION - TX"
          ],
          [
           "GALAX CITY - VA"
          ],
          [
           "GREELEY - KS"
          ],
          [
           "JEWELL - KS"
          ],
          [
           "CLARK - ID"
          ],
          [
           "STERLING - TX"
          ],
          [
           "HODGEMAN - KS"
          ],
          [
           "BROWN - NE"
          ],
          [
           "IRON - UT"
          ],
          [
           "GOVE - KS"
          ],
          [
           "RANDALL - TX"
          ],
          [
           "KIMBLE - TX"
          ],
          [
           "SHACKELFORD - TX"
          ],
          [
           "CHERRY - NE"
          ],
          [
           "DALLAM - TX"
          ],
          [
           "EUREKA - NV"
          ],
          [
           "MEADE - KS"
          ],
          [
           "LOGAN - NE"
          ],
          [
           "WESTON - WY"
          ],
          [
           "HUTCHINSON - TX"
          ],
          [
           "HASKELL - KS"
          ],
          [
           "WICHITA - KS"
          ],
          [
           "MAJOR - OK"
          ],
          [
           "SHERIDAN - KS"
          ],
          [
           "GARFIELD - UT"
          ],
          [
           "NIOBRARA - WY"
          ],
          [
           "HARDING - SD"
          ],
          [
           "SANPETE - UT"
          ],
          [
           "LOVING - TX"
          ],
          [
           "CHASE - NE"
          ],
          [
           "SHERIDAN - NE"
          ],
          [
           "MOTLEY - TX"
          ],
          [
           "KIOWA - KS"
          ],
          [
           "CAMPBELL - WY"
          ],
          [
           "SIOUX - IA"
          ],
          [
           "SCOTT - KS"
          ],
          [
           "FREMONT - ID"
          ],
          [
           "HOOKER - NE"
          ],
          [
           "BEAR LAKE - ID"
          ],
          [
           "CHEYENNE - CO"
          ],
          [
           "TEXAS - OK"
          ],
          [
           "HARTLEY - TX"
          ],
          [
           "PIUTE - UT"
          ],
          [
           "HAAKON - SD"
          ],
          [
           "RAWLINS - KS"
          ],
          [
           "ONEIDA - ID"
          ],
          [
           "BORDEN - TX"
          ],
          [
           "CARSON - TX"
          ],
          [
           "MORGAN - UT"
          ],
          [
           "BOX ELDER - UT"
          ],
          [
           "ROCK - NE"
          ],
          [
           "DUCHESNE - UT"
          ],
          [
           "HEMPHILL - TX"
          ],
          [
           "CASSIA - ID"
          ],
          [
           "SEVIER - UT"
          ],
          [
           "ARMSTRONG - TX"
          ],
          [
           "RICH - UT"
          ],
          [
           "GRAY - TX"
          ],
          [
           "CARIBOU - ID"
          ],
          [
           "POWDER RIVER - MT"
          ],
          [
           "LOGAN - KS"
          ],
          [
           "UINTAH - UT"
          ],
          [
           "CROOK - WY"
          ],
          [
           "STEVENS - KS"
          ],
          [
           "MILLARD - UT"
          ],
          [
           "SIOUX - NE"
          ],
          [
           "MCPHERSON - NE"
          ],
          [
           "LIPSCOMB - TX"
          ],
          [
           "JEFFERSON - ID"
          ],
          [
           "MADISON - ID"
          ],
          [
           "HAYES - NE"
          ],
          [
           "CIMARRON - OK"
          ],
          [
           "GARFIELD - MT"
          ],
          [
           "ST MARY'S - MD"
          ],
          [
           "BANNER - NE"
          ],
          [
           "JACKSON - KY"
          ],
          [
           "ARTHUR - NE"
          ],
          [
           "OLDHAM - TX"
          ],
          [
           "THOMAS - NE"
          ],
          [
           "BEAVER - OK"
          ],
          [
           "BLAINE - NE"
          ],
          [
           "ROBERTS - TX"
          ],
          [
           "CARTER - MT"
          ],
          [
           "WALLACE - KS"
          ],
          [
           "GRANT - NE"
          ],
          [
           "SHERMAN - TX"
          ],
          [
           "FRANKLIN - ID"
          ],
          [
           "KING - TX"
          ],
          [
           "HANSFORD - TX"
          ],
          [
           "OCHILTREE - TX"
          ],
          [
           "GLASSCOCK - TX"
          ],
          [
           "STATEWIDE WRITEIN - CT"
          ]
         ],
         "hovertemplate": "dr_2020=%{x}<br>trend_score=%{y}<br>county=%{customdata[0]}<extra></extra>",
         "legendgroup": "",
         "marker": {
          "color": "#636efa",
          "symbol": "circle"
         },
         "mode": "markers",
         "name": "",
         "showlegend": false,
         "type": "scattergl",
         "x": [
          0,
          0.9286754002911208,
          0.9214969392140692,
          0.8218659155085928,
          0,
          0.17851172753056926,
          0.8513306038894575,
          0.8840625,
          0.8478309732524163,
          0.17456340199022155,
          0.8148572738736674,
          0.819496855345912,
          0.8597600530364055,
          0.5205706134094151,
          0.8614318706697459,
          0.814416956555167,
          0.8525610242744385,
          0.21246350494908495,
          0.8134031413612566,
          0.6540306005937429,
          0.811829944547135,
          0.8223759402989534,
          0.8314859491955303,
          0.6779089376053963,
          0.8232561124302125,
          0.7636924509632734,
          0.17917166866746698,
          0.764151763402073,
          0.8021646305301862,
          0.8020816289428234,
          0.20780992114432423,
          0.6840690313069118,
          0,
          0.7955051557909651,
          0.5095982584603206,
          0.7243121841661988,
          0.7920670147673182,
          0.12607848594489285,
          0.773139031114612,
          0.12294815537136357,
          0.7887901572112098,
          0.7878810055252662,
          0.5429427863938485,
          0.6496649292628444,
          0.7566960104888556,
          0.5917874396135265,
          0.7726947592170537,
          0.5879174852652259,
          0.778878346350444,
          0.2010516135486955,
          0.7162233259240426,
          0.7262437462477487,
          0.7718607934559534,
          0.7388332538547131,
          0.7701390507263264,
          0.7623858558383524,
          0.7604558113515025,
          0.6658549631214459,
          0.6114303258914865,
          0.7274323335771763,
          0.7470192933015392,
          0.7434776690447412,
          0.6688113512651741,
          0.26858601233500845,
          0.7204163241420629,
          0,
          0,
          0.7546165648175271,
          0.7538421786987752,
          0.7517772016392071,
          0.6524710830704522,
          0.6175668303327878,
          0,
          0.6336388333283578,
          0.6609333654077459,
          0.7495289163961877,
          0.7380497131931166,
          0.7199809023633326,
          0.15721761222161226,
          0.7451559163228569,
          0.6857530069456209,
          0.6411657559198543,
          0.6844598490032311,
          0.7081519821197506,
          0.7369099037660074,
          0.7355367768388419,
          0.2700986506406622,
          0.6260744985673352,
          0.7049416561225924,
          0.7004441689908067,
          0.7300859972202919,
          0.18704777815687612,
          0.726386761658366,
          0.72607638920977,
          0.698323372787945,
          0.6806992373329306,
          0,
          0.16684690615008463,
          0.7102780836068208,
          0.7173164877960422,
          0.7162816781234302,
          0.7161976748962741,
          0.7149879889315723,
          0.714227309893704,
          0.7021022675112457,
          0.1104032682117866,
          0.47134744450180693,
          0.666460012399256,
          0.6599007668019846,
          0.22393809231608372,
          0.5601009190845198,
          0.7105732484076434,
          0.7099535628465964,
          0.6943025322079076,
          0.5637277295568753,
          0,
          0,
          0.7045566683289923,
          0.5803906122670723,
          0.6710948236371965,
          0.6870973914152688,
          0.6661012842258299,
          0.6797828465617373,
          0.3528699717355786,
          0.6251367435920252,
          0.23772954924874792,
          0.6846171070309002,
          0.6478471427313551,
          0.6780654514607156,
          0.6640978311029072,
          0.1072776561359608,
          0.6951617527741684,
          0.15544544836296512,
          0.21322562464775502,
          0.6947807675704566,
          0.6651685393258427,
          0.6939335269441755,
          0.6938234694570904,
          0.17400385149103678,
          0.6912637181869878,
          0.6678163979169869,
          0.6904643104643104,
          0.6426918283781378,
          0.18161510619278426,
          0.6824666740112372,
          0.5569728802658377,
          0.687813783660429,
          0.6673300605899783,
          0.6478463329452853,
          0.6855197915791243,
          0.6835326586936522,
          0.19695263829467838,
          0,
          0.6615813102760226,
          0.6111414623830252,
          0.15787769360599757,
          0.5482471165924403,
          0.6785545180779939,
          0.26756825535318285,
          0.6757401057834792,
          0.646100126139221,
          0.5206939799331104,
          0.22588385858262677,
          0.672929076528414,
          0.2849158165723647,
          0.15007418397626113,
          0.40852346104175635,
          0.10310603723130721,
          0.1532067782067782,
          0.6711565956806381,
          0.10534535246906258,
          0.5238192598650583,
          0.6695187165775401,
          0.2207532506918382,
          0.15113146551724138,
          0.2531265632816408,
          0.5594625500285878,
          0.5677044499809053,
          0.5668674929966614,
          0.6659903969703118,
          0.23629951166576235,
          0.6051777442814862,
          0.16986531212650546,
          0,
          0.664924752215102,
          0.19909402275991603,
          0.20422858893825646,
          0.5752797558494405,
          0.1249122191011236,
          0.15127356087620988,
          0.4191738908720041,
          0.15086959897511548,
          0.651760636457973,
          0.17555958155572438,
          0.5356404749361754,
          0.6572220464081179,
          0.15005678591709257,
          0.14510573534123677,
          0.6558066211245402,
          0.6312014061535051,
          0.6553948165306593,
          0.23753898844107393,
          0.6125949268998295,
          0.5393476689555475,
          0.10137881784223247,
          0.11399634716389265,
          0.5664137336757828,
          0.0864297253634895,
          0.6306372069008492,
          0.14886914699101678,
          0.6510604241696679,
          0.6509770484957107,
          0.6508941990538537,
          0.6502912423921096,
          0.5610997249811691,
          0.5752630555818625,
          0.09405018403806446,
          0.648840664978266,
          0.6487154273506407,
          0.1484924623115578,
          0.13893271358019174,
          0.5069444444444444,
          0.15310439945766516,
          0.10056220529561118,
          0.16874466268146884,
          0.5613740252756118,
          0.22695289206917113,
          0.5451194893447634,
          0.6449147123600876,
          0.23281934259525683,
          0.6441611809817959,
          0,
          0.1377266387726639,
          0.6429000756170545,
          0.6423751686909581,
          0.09158949269031394,
          0.5035846187269172,
          0.6102303952652716,
          0.5329664158148939,
          0.6394060531288099,
          0.638944266273728,
          0.14799514262583932,
          0.1914443958606617,
          0.4937367487343689,
          0.5466026241799438,
          0.2586037364798427,
          0.6378860672614962,
          0.6359340791901832,
          0.6373547810545129,
          0.5770807350686389,
          0.6258234519104084,
          0.5341074120689894,
          0.5559161994688698,
          0,
          0.6353503673379202,
          0.6352278726024987,
          0.48451658457038144,
          0,
          0.6337252706233669,
          0.0953430055525703,
          0.1377041189373629,
          0.14140892156755636,
          0.6043615537901817,
          0.5786924939467313,
          0.5371371631574386,
          0.5649816176470588,
          0.6148315606122373,
          0.5771596562641339,
          0.6297788296259917,
          0.5031155333349753,
          0.6294708338034526,
          0.24490043710539097,
          0.6292949347501996,
          0.629042663599899,
          0.4372402327514547,
          0.19090756584465693,
          0.5309050772626932,
          0.62704432329936,
          0.6262993549044706,
          0.5023313042352027,
          0.590253164556962,
          0.49575335067995485,
          0.4086475942782835,
          0.45462909718228867,
          0.12928801143469715,
          0.6235417738891749,
          0.6045632679873838,
          0.16669826277261562,
          0.5607805907718733,
          0,
          0.4206358728254349,
          0.17870108914885036,
          0.5713496339273381,
          0.5792692741026879,
          0.5069139493599926,
          0.4080209241499564,
          0.5814188336278717,
          0.22647581003106967,
          0.5642499246097102,
          0,
          0.5410670410670411,
          0.17910333179794258,
          0.6064340163647808,
          0.12103746397694524,
          0.18520702306079664,
          0.5496120315168219,
          0.44765527836710806,
          0.5704347511017106,
          0.4407778140810487,
          0.5246442763748237,
          0.6144960546652567,
          0.5093886324840362,
          0.522092666462105,
          0.17479747571946472,
          0.6135627192249875,
          0.18091603053435115,
          0.4826388888888889,
          0.6063471502590674,
          0.5391119291383872,
          0.5251479289940828,
          0.6117130149166925,
          0.42947516401124647,
          0.12698773284870513,
          0.6114464099895942,
          0.6105506961879483,
          0.6101516366158328,
          0.6100853301426368,
          0.60998677834161,
          0.46001550788317397,
          0.5804781534177227,
          0.5575098697778563,
          0.517077045274027,
          0.5461741424802111,
          0.08319438654995137,
          0.608540925266904,
          0.5683083511777302,
          0.5001795431317847,
          0.5730760700820581,
          0.6077066711933458,
          0.5905664221678891,
          0.21898165026127112,
          0.6071730291990073,
          0.17870722433460076,
          0.14357338195077485,
          0.4978607545702061,
          0.5153071246176727,
          0.46785326372586805,
          0.5735597212680341,
          0.22281519342553618,
          0.5334098414408507,
          0.3672322861728961,
          0.23280006631299735,
          0.13853262919652962,
          0.2676482513177061,
          0,
          0.5626731758807231,
          0.4263004091174752,
          0.6042649556520098,
          0.4764675592173018,
          0.5393198010485281,
          0.6035204155244553,
          0.18062471706654595,
          0.15373465105595768,
          0.5425997425997426,
          0.417910447761194,
          0.13939333466373977,
          0.45406138645934563,
          0.4848012470771629,
          0.6020998125635477,
          0.06703005303476724,
          0.46831627205928533,
          0.20255056291720633,
          0.20556795489251733,
          0.2780288408730719,
          0.19567979669631513,
          0.5998087069853482,
          0.11234177215189874,
          0.10076714418920064,
          0.580439459127228,
          0.5691742356952523,
          0.5063871146903638,
          0.5745893156648864,
          0.4587990149649555,
          0.12159052453468697,
          0.5981577432354634,
          0.046401697858383176,
          0.49379499182970454,
          0.5658074594805702,
          0.22984328389563463,
          0.23789081333679488,
          0.44319946749500777,
          0.5470054761255793,
          0.3899148578966303,
          0.1534843648484506,
          0.5961446814304749,
          0.1974601593625498,
          0.1683758105866385,
          0.424425354074762,
          0.29220028774263546,
          0.5955773226476699,
          0.11492805755395684,
          0.5668922224033915,
          0.3602941176470588,
          0.5198324022346369,
          0.5945438420150181,
          0.14350832483860007,
          0.49813616568064606,
          0.5432533080996932,
          0.5932374364617723,
          0.1267585818795723,
          0.5893179908861791,
          0.5911922507715194,
          0.531055900621118,
          0.5258053342570143,
          0.5462869040627836,
          0.46247245387374153,
          0.5912772311334316,
          0.543358233192595,
          0.5857086510649487,
          0.13637413928554923,
          0.13682514101531024,
          0.4693154395218361,
          0.37815126050420167,
          0.5835274101552149,
          0.1862375898664841,
          0.5275692049885599,
          0.4584919597704415,
          0.5886482102952029,
          0.4782978144862513,
          0.5883084577114428,
          0.5881909073759668,
          0.10482315112540193,
          0.21892963381123984,
          0.15210414572246087,
          0.5429140038120865,
          0.2410425270677531,
          0.5754051893306199,
          0.2106060606060606,
          0.4255156608097785,
          0.23173681664247703,
          0.1934750324856135,
          0.5850737016745823,
          0.5366375675197571,
          0.1460936901019704,
          0.1328513478147082,
          0.4906708865417878,
          0.21663954434499594,
          0.09327814118288362,
          0.46260974871329097,
          0.053128452345083864,
          0.5082034454470877,
          0.5668750528005406,
          0.5817871404144688,
          0.47547837454078296,
          0.5185686519505761,
          0.5803051753972,
          0.36630563547131495,
          0.19544042070037052,
          0.38120500189465706,
          0.3254729914998629,
          0.48061764388295003,
          0.5270832887003593,
          0.5197591072389316,
          0.4992792165829895,
          0.44759817351598175,
          0.10182883522727272,
          0.5603634327278219,
          0.5798754856884852,
          0.5797148652660048,
          0.5369997927865335,
          0.3939393939393939,
          0.4943250539434344,
          0.1358978529603123,
          0.5787501523751981,
          0.3565217391304348,
          0.13451086956521738,
          0.20334279579284492,
          0.17406712528663748,
          0.550397067806964,
          0.08187670152405668,
          0.18157060804119626,
          0.5401923881221247,
          0.5255937682663517,
          0.5767219455923074,
          0.5407579339187729,
          0.5761067653573331,
          0.5092409833123991,
          0.18824857647751816,
          0.1794049008168028,
          0.20861973040343107,
          0.43188966852165495,
          0.4923116681741827,
          0,
          0.5152744380554104,
          0.4277067179181302,
          0.1923135580295867,
          0.5741860218474918,
          0.21198879062806308,
          0.4096206445475086,
          0.15563363562983715,
          0,
          0.4157223471119879,
          0.2763511751108553,
          0.300260941762543,
          0.12455486682155148,
          0.2298180533474651,
          0.571995833726125,
          0.5714769718445498,
          0.5713956626188831,
          0.5321119791243714,
          0.2266944027865125,
          0.3405897486641599,
          0.557166392092257,
          0,
          0.2858164504878718,
          0.569743718733406,
          0.5073668538106021,
          0.21599131693198265,
          0.5021719740058151,
          0.39469026548672564,
          0.1466309398890721,
          0.42485111327841296,
          0.4845138622339012,
          0.5689535645860644,
          0.329004329004329,
          0.5264194289465047,
          0.5266385588348026,
          0.475479213343291,
          0.12353621148916923,
          0.1300482678560518,
          0.48142930327868855,
          0.4340054767239233,
          0.495713525328139,
          0.5007365521432676,
          0.04733413109958782,
          0.43640934634723455,
          0,
          0.2533828659056793,
          0,
          0.42071926543104915,
          0.46523811930392006,
          0.56357167057614,
          0.5097850497273019,
          0.0923270134500081,
          0.4806444949390622,
          0.282603234720102,
          0.2267368577148365,
          0.2860607338675664,
          0.36591606960081885,
          0.106598559705242,
          0.38508557457212717,
          0.5633382417320014,
          0.1493402199679394,
          0.48258064516129034,
          0.5404264795946774,
          0.41538308655470535,
          0.17353812988412826,
          0.5621874136347832,
          0.24511212443000813,
          0.5189525204530028,
          0.3549257759784076,
          0.5615289575289575,
          0.4336928226106359,
          0.561360382273284,
          0.2867263734794814,
          0.2096406160867085,
          0.14996087222575255,
          0.5108885464817668,
          0.45144507166827086,
          0.5329247620289477,
          0.5595946655875301,
          0.4460703327826292,
          0.5264843557526484,
          0.5585492838622909,
          0.08217295165242336,
          0,
          0.3736833759938388,
          0.38229426433915215,
          0.5575851317178562,
          0.3593146718146718,
          0.5572926000632962,
          0.5301324416812518,
          0.4830773606370876,
          0.48868843984689464,
          0.3547858647320384,
          0.5203602192638997,
          0.4167178437393381,
          0.1054038433752348,
          0.45211170090006925,
          0.39626616301031525,
          0.5015778057928572,
          0.17312445604873802,
          0.5551728775782728,
          0.23261032161555723,
          0.4977536240362228,
          0.3561628555493586,
          0.1567002292075966,
          0.34353937993452727,
          0.5168853961002929,
          0.18617667754109896,
          0.1976679929266136,
          0.46112886048988283,
          0.5529258549657513,
          0.28163813360187984,
          0.12188786971171846,
          0.5082315959929512,
          0.36882941639491734,
          0.4901046915239055,
          0.5491400491400491,
          0.06658064516129032,
          0.537634593960968,
          0.4060841082790558,
          0.3795235497363157,
          0.3618535505298118,
          0.17631398144967364,
          0.5084463676458351,
          0.5316678542985287,
          0.20501742408079085,
          0.21232741617357,
          0.4685638931427599,
          0.4412712225287441,
          0.24979171400439293,
          0.2245383324006715,
          0.5022122176511682,
          0.14039971182988026,
          0.05920417230056017,
          0.07341710562501322,
          0.502523813400635,
          0.3287308805291443,
          0.16391496708751485,
          0.5469771813131793,
          0.49690934065934067,
          0.11498649864986499,
          0.41876434475938124,
          0.5468247069477834,
          0.06856439031066101,
          0.4340093085106383,
          0.48764221263240487,
          0.15081758477415896,
          0.4711756695415343,
          0.19165878271838538,
          0.24230407312810862,
          0.10146952653764643,
          0.40885083226632524,
          0.4431282722513089,
          0.13466014897579143,
          0.1916916916916917,
          0.5441199323552265,
          0.3971134704711347,
          0.5119448434357943,
          0.13779604518611493,
          0.418270623784097,
          0.1953514976706886,
          0.42421328671328673,
          0.10238237045860632,
          0.052054248105305144,
          0.1042927903137039,
          0.08929516751115481,
          0.541960220179996,
          0.5031111111111111,
          0.39146654231755657,
          0.541733889661567,
          0.4736433400328887,
          0.5415659025004104,
          0.13529411764705881,
          0.5410142014709455,
          0.4408801093020608,
          0.13489317483699315,
          0.42937835573073463,
          0.08122375524895022,
          0.4723634709992145,
          0.3065939555407543,
          0.5359576027360078,
          0.2026067457722134,
          0.3423494883794717,
          0.07805198598130841,
          0.11638246041412911,
          0.15479001216283894,
          0.10694890510948905,
          0.41506544138123086,
          0.5371423245409638,
          0,
          0.5395977165387944,
          0.47373136238561464,
          0.4519558236839545,
          0.4548837984404619,
          0.20479857005362298,
          0.04609868533378863,
          0.13,
          0.3450802512212142,
          0.4356753820853638,
          0.22540802823114248,
          0.5209811639404546,
          0.5166442051918816,
          0.421732694565368,
          0.38541839270919637,
          0.512355869037793,
          0.5362007781998697,
          0.3890867605320274,
          0.1548873323009682,
          0.49855841310114174,
          0.37854660092151,
          0.3461959296812313,
          0.38413753250505633,
          0.42311881607868457,
          0.49569870380461484,
          0.25103811207499077,
          0.09251474707228921,
          0.27201394943330426,
          0.40140193613112535,
          0.43031421951925863,
          0.1250132149275822,
          0.1788107202680067,
          0.534788810029216,
          0.43011826140377823,
          0.33505154639175255,
          0.5346072212295996,
          0.50348623853211,
          0.18552912131073954,
          0.23358652859691414,
          0.4201226572886735,
          0.11797528895974492,
          0.07829413960432997,
          0.45310931986662784,
          0.3906941459097231,
          0.12737203878728368,
          0.4855669191702611,
          0.485562865497076,
          0.4865608531409828,
          0.09752090800477897,
          0.4393090315560392,
          0.08305966064586755,
          0.17930629041740154,
          0.2542337445118127,
          0.39126555170303895,
          0.37296006368581663,
          0.38056010398555007,
          0.4392664238161035,
          0.5028130147389137,
          0.4776172430127901,
          0.1801597309794031,
          0.38217281061049346,
          0.5285585685536252,
          0.4418936084518388,
          0.462938637643085,
          0.25555674863094596,
          0.23966505733252866,
          0.5306784864665596,
          0.47119331899183664,
          0.5184606246287554,
          0.27794442243477274,
          0.27954505064865826,
          0.27617263056092844,
          0.3191732183616536,
          0.45944352610711026,
          0.5298468845396307,
          0.4247183994223244,
          0.5297630130639427,
          0.529395058222096,
          0.4221217864606114,
          0.528955899560722,
          0.4050275174773167,
          0.37515893729505456,
          0.11523672384328122,
          0.44690915022019245,
          0.3609767891682785,
          0.24768713204373424,
          0.2054432855280313,
          0.19166171224732462,
          0.36273968279018387,
          0.21851851851851853,
          0.45293430181812805,
          0.24422799422799424,
          0.5272116906163712,
          0.37484556461576474,
          0.46844386598956456,
          0.5267099988820927,
          0.320553548892467,
          0.0618427069044353,
          0.07860862442221052,
          0.24906880314849955,
          0.3579207920792079,
          0.11784290271132376,
          0.3769621377406213,
          0.10372312805068024,
          0.3036649214659686,
          0.5252973921000458,
          0.41069484760522496,
          0.4279733587059943,
          0.5030222900877078,
          0.37259930472445435,
          0.501158905511574,
          0.28925263838035753,
          0.3857625770530921,
          0.3596047468204813,
          0.300281757688388,
          0.19693486590038314,
          0.07622000452152569,
          0.5227666614148416,
          0.16346347016674478,
          0.41944120271847324,
          0.48621239143511435,
          0.1251986192537395,
          0.37522389303119924,
          0.15780265920223932,
          0.5219419740486951,
          0.5219008439115794,
          0.5095224089788419,
          0.5212835956876044,
          0.17248616676206832,
          0.3267244940107394,
          0.5204709623097206,
          0.4003510140405616,
          0.520414201183432,
          0.29337865799586166,
          0.34116599910992434,
          0,
          0.40634920634920635,
          0.45439429063854064,
          0.45973142472451545,
          0.11189798394623857,
          0.346774893653963,
          0.4176109114773358,
          0.38252839279568657,
          0.367747972551466,
          0.4555789210685211,
          0.4976178901312591,
          0.35406859448554134,
          0.47690064010641997,
          0.46737438075017695,
          0.27001703577512776,
          0.35730832873690016,
          0.4377504241417897,
          0.3367115413704432,
          0.42683214433111255,
          0.3659096616797618,
          0.3297692740574001,
          0.12879708383961117,
          0.17184389131898958,
          0.4378461216955174,
          0.399749314036834,
          0.41588634162092347,
          0.43971368628902874,
          0.08779675738274464,
          0.22219449815981535,
          0.3424725822532403,
          0.15515795359239587,
          0.11745710429920957,
          0.07849877377075544,
          0.4664509410101912,
          0.39190632318501173,
          0.1911214120164022,
          0.48864141253858806,
          0.2931226077293493,
          0.4062161837200914,
          0.21857205431449847,
          0.2945280139524744,
          0.34973637961335674,
          0.37261514742724994,
          0.4680014740203906,
          0.1762054364157902,
          0.3193292795282845,
          0.24110344827586208,
          0.45079616259519334,
          0.09088335220838052,
          0.41691995947315097,
          0.0670262427453949,
          0.0439328743545611,
          0.5140985293429818,
          0.4669791507560715,
          0.04459042865531415,
          0.45788172656398557,
          0.3523309170712243,
          0.39422742552451606,
          0.3499241909342814,
          0.35577449370552816,
          0.4365426695842451,
          0.13285226567349473,
          0.09853360301553737,
          0.1618529632408102,
          0.37837930876210585,
          0.5126763305280182,
          0.07825112338176471,
          0.24177949709864605,
          0.3926738803056501,
          0.3546137339055794,
          0.3482606042111688,
          0.5124710847774036,
          0.1566041623737894,
          0.4389315888848626,
          0.11143032466807988,
          0.35158583416299244,
          0.34878799538283956,
          0.46712409795338933,
          0.4220345089875495,
          0.42616679418515685,
          0.26747900153791554,
          0.31412071113124224,
          0.3146630236794171,
          0.4820783418900932,
          0,
          0.1666127728375101,
          0.3535859508515528,
          0.3153216891443732,
          0.10082150858849888,
          0.15235994706660785,
          0.2572387005649718,
          0.26688986179071167,
          0.2765578078078078,
          0.5095729013254786,
          0.1361771944216571,
          0.3441941074523397,
          0.06307048246517054,
          0.4716675661090124,
          0.1569593147751606,
          0.08579506115855066,
          0.5085148891637332,
          0.14829482948294828,
          0.059778771475641326,
          0.25779280481656136,
          0.5081302839177194,
          0.35685216314252854,
          0.33309303123927225,
          0.44313821431330636,
          0.3527485046995158,
          0.4555040741332481,
          0.5071312224385205,
          0.22047060650772696,
          0.10668102016134391,
          0.14924801616398625,
          0.13657407407407407,
          0.23869849313241764,
          0.15726011169402607,
          0.46048750194069243,
          0.15657894736842104,
          0.43987784705433264,
          0.04748447204968944,
          0.14607843137254903,
          0.3656677181913775,
          0.3692478731631864,
          0.32156691347867816,
          0.3053545586107091,
          0.4847502335549816,
          0.2583837027087531,
          0.5018065930496914,
          0.13732738435443131,
          0.15318676885841065,
          0.4682704272086271,
          0.281195079086116,
          0.5049654030941817,
          0.33487881981032663,
          0.2575315840621963,
          0.28447585051358637,
          0.0590915882265053,
          0.4959863202393958,
          0.3439872153415901,
          0.0835912092244013,
          0.10875262054507337,
          0.3177842565597668,
          0.5033451040754937,
          0.061360197499402726,
          0.3395579268292683,
          0.39567900471178935,
          0.3854554072777656,
          0.4782563025210084,
          0.14232992988067414,
          0.3406651894334376,
          0.3079037605917193,
          0.30156062424969987,
          0.41894426580921756,
          0.23328792958927075,
          0.10493579454253611,
          0.48506188647033716,
          0.41758669325421915,
          0.3937089751088581,
          0.502177288487806,
          0,
          0.29872919276892784,
          0.10540455120101137,
          0.4932975871313673,
          0.22805351747949934,
          0.19248441089596324,
          0.47941430804096774,
          0.11341311956644462,
          0.33340271789229536,
          0.1240984484704712,
          0.20579268292682926,
          0.22157269470111257,
          0.40588235294117647,
          0.4854368932038835,
          0.2918451331149744,
          0.2928319890946268,
          0.3444575016984631,
          0.3037272006344171,
          0.1351931330472103,
          0.49238906928924325,
          0.1584795321637427,
          0.3672116659301812,
          0.44005105363236174,
          0.08010720667063728,
          0.43846803717262745,
          0.3519376787299083,
          0.4991910432306498,
          0.3521198705942449,
          0.387514103046258,
          0.36064591060657153,
          0.26566342087144684,
          0.1952662721893491,
          0.4940528677522387,
          0.3317510076130766,
          0.06381446269086719,
          0.33866633335416535,
          0.3097993562966514,
          0.4018424782344604,
          0.35289267555311254,
          0.07434873550104583,
          0.3037427120556705,
          0.17896260858617652,
          0.4398098886287863,
          0.3257899820615427,
          0.11972438311802598,
          0.2260385999345764,
          0.22273228057289754,
          0.27342549923195086,
          0.1042844295991778,
          0.41484816273786446,
          0.17679965701942316,
          0.49660686225414863,
          0.268389662027833,
          0.4885522007563401,
          0.49604038804197187,
          0.34887344199424736,
          0.16553565468906442,
          0.4253653004773617,
          0.386264012046177,
          0.4092936013590034,
          0.4583637615540301,
          0.2061637493937657,
          0.32340801886792453,
          0.4439064954264067,
          0.3848036425725669,
          0.23579451053366118,
          0.371222589366176,
          0.2983563933512861,
          0.07827708806900974,
          0.2025516285962821,
          0.09874004076338706,
          0.32684270516717323,
          0.37797443461160274,
          0.17490607079296025,
          0.4321193019319442,
          0.49307353446819624,
          0.48041555008993797,
          0.3754589099124541,
          0.07527345998848589,
          0.08048622952513822,
          0.48306565698593656,
          0.2571481965987666,
          0.07738698034327854,
          0.1820468076370355,
          0.3673698016285043,
          0.23494769788320566,
          0,
          0.4913326535414542,
          0.2582781456953642,
          0.10628229498540868,
          0.36351244090140455,
          0.4282255623928175,
          0.250563970351273,
          0.46930923053828344,
          0.30507406240151275,
          0.18083400160384924,
          0.3768280240335563,
          0.2991823854263788,
          0.3024782537337929,
          0.4105527866567693,
          0.39946695095948825,
          0.2598229384263404,
          0.24122263527467988,
          0.39080845353908084,
          0.4886123998312948,
          0.2681007922535211,
          0.4394542772861357,
          0.13991711406235283,
          0.3598004987531172,
          0.29777078700439336,
          0.30227414330218066,
          0.25201197828935057,
          0.1254228931199272,
          0.41892674573795674,
          0.05363321799307959,
          0.3749454930542578,
          0.06561241788514516,
          0.2393818100956193,
          0.25926589077887197,
          0.25327596323097984,
          0.38751625487646296,
          0.3503729393320348,
          0.39432062787694144,
          0.382041915016343,
          0.2959558823529412,
          0.4350354609929078,
          0.14892111779271314,
          0.19147992012425116,
          0.11163663493929597,
          0.19383765405864853,
          0.31654562677612885,
          0.24121952857430662,
          0.3315696649029982,
          0.41597497894863467,
          0.049392498679344955,
          0.30510052122114667,
          0.47720364741641336,
          0.4677230369991743,
          0.10668543762661814,
          0.4857869193436561,
          0.29587366276107996,
          0.15595944297193823,
          0.36844036697247706,
          0.30080256821829854,
          0.41601158460901944,
          0.15957787016309563,
          0.2809085328422345,
          0.13746797420266807,
          0.3698086273810055,
          0.47456047710753557,
          0.3170365476440734,
          0.09370220250841235,
          0.2591362126245847,
          0.14721345951629863,
          0.18127831517080936,
          0.14085603409304476,
          0.19703389830508475,
          0.09833050367855121,
          0.2591489361702128,
          0.21495170096598068,
          0.22313190383365822,
          0.28333385340281464,
          0.2806712962962963,
          0.34263927401058736,
          0.3589396284829721,
          0.20303209164043373,
          0.21494178903644767,
          0.14003361098933217,
          0.2746376811594203,
          0.0911455158681783,
          0.09160636758321274,
          0.0903230007814535,
          0.4230438521066208,
          0.4595504857326609,
          0.2740695792880259,
          0.10737721216941738,
          0.06239341960076236,
          0.2515624441984215,
          0.3365461847389558,
          0.4122782511523956,
          0.3978702807357212,
          0.3270440251572327,
          0.16191014410850524,
          0.05054698183238914,
          0.0859621766422774,
          0.14510435850214856,
          0.35941984022337703,
          0.2734200577501265,
          0.2721618953603159,
          0.35531455007394486,
          0.211743450767841,
          0.19976428992339423,
          0.044584206848357795,
          0.30708661417322836,
          0.13972018319844406,
          0.31217021276595747,
          0.3956423611111111,
          0.3315435280641466,
          0.339905864393843,
          0.09115853658536585,
          0.07396400858510814,
          0.3184549356223176,
          0.15943992773261065,
          0.31552323743281696,
          0.14879441624365483,
          0.47851117638742713,
          0.33804698808595923,
          0.13428857047650783,
          0.18768738756745953,
          0.4778669268514484,
          0.1403226886255607,
          0.40726995908269104,
          0.24575712143928036,
          0.4611781477521511,
          0.07538293216630197,
          0.4761770369878478,
          0.3202634637737311,
          0,
          0.24805227444081426,
          0.3910826844642195,
          0.27869537946895256,
          0.4038857815719753,
          0.09295886075949367,
          0.13534514760633026,
          0.39074220894065986,
          0.19118142039717267,
          0.30902115438197914,
          0.4753896636587367,
          0.37031758957654726,
          0.2827586206896552,
          0.3578450049531357,
          0.187019477191184,
          0.14340435719415848,
          0.4745765671381177,
          0.1400051853772362,
          0.41644857367181365,
          0.4081764705882353,
          0.23251216545012166,
          0.31211628078999926,
          0.432860978696727,
          0.14183276616431698,
          0.09741292563378454,
          0.41793103448275865,
          0,
          0.417474739243807,
          0.26793020457280387,
          0.3660227835562159,
          0.3751960085531005,
          0.28197596795727636,
          0.10036964393482196,
          0.23083845807709613,
          0.20940733772342426,
          0.16774686224299018,
          0.17967332123411978,
          0.3999201327025865,
          0.13634154244977317,
          0.3108641975308642,
          0.2309601567602874,
          0.0693331664162911,
          0.07179518023978508,
          0.047619047619047616,
          0.37236738617495413,
          0.13991896505625143,
          0.4089442220537147,
          0.3048835125448029,
          0.1927710843373494,
          0.08324425440940673,
          0.3840848461188106,
          0.285362265538801,
          0.2148827726809378,
          0.3497815622108481,
          0.263623395149786,
          0.33787815597831317,
          0.2033219460478266,
          0.13776747127648362,
          0.2752878289473684,
          0.3440875754181871,
          0.28902158934313277,
          0.3300815293786899,
          0.2356868636287765,
          0.39375483372003095,
          0.4704944016167674,
          0.2198762286130324,
          0.08121916842847075,
          0.21115270179479798,
          0.08583588909056769,
          0.3196277032575965,
          0.13332076183292477,
          0.3518407362945178,
          0.1496665843418128,
          0.43567660188483565,
          0.1496014714898835,
          0.3541039965620971,
          0.11316707866802385,
          0.15056567568785778,
          0.07191556670666521,
          0.43741879601559114,
          0.10944818919227693,
          0.39391377852916315,
          0.4683768191638375,
          0.06725243147656941,
          0.2659808963997061,
          0.13184931506849315,
          0.41889627587697964,
          0.39219107616306736,
          0.14840004459805997,
          0.2898641434409632,
          0.16279793667733902,
          0.2826916406520985,
          0.42733713495766373,
          0.4338740720373935,
          0.3809119010819165,
          0.07007364427583129,
          0.156972408650261,
          0.2947103274559194,
          0.41482136050178464,
          0.41657605412589105,
          0.3372577000832441,
          0.2520332550153624,
          0.2751661025448163,
          0.2998797044165664,
          0.05488084326306141,
          0.0982394366197183,
          0.3841672285906945,
          0.13994502159865768,
          0.4281722933643772,
          0.42256799589810523,
          0.3990564896576751,
          0.3602973519838128,
          0.46470359190250937,
          0.0954388090704518,
          0.3213005632360471,
          0.15364214402579623,
          0.2398968262468316,
          0.3962468579353385,
          0.44560208375075133,
          0.22069850039463298,
          0.09027284714474085,
          0.16404528150671208,
          0.4637362306173807,
          0.16846877393914278,
          0.32190242906715655,
          0.29154319580578986,
          0.1306190125276345,
          0.2078740157480315,
          0.327418163918287,
          0.06930078609846918,
          0.36119313561860744,
          0.2662566217513421,
          0.40133832976445394,
          0.062042694425586485,
          0.4178962900505902,
          0.2937530266343826,
          0.2894179748714706,
          0.2213383247543285,
          0.4087378067967275,
          0.2993945916857258,
          0.2540128661545188,
          0.049897791628966855,
          0.41559195789046727,
          0.09197972023700446,
          0.3277970432560686,
          0.3143123283694035,
          0.1518338046744648,
          0.2483197093551317,
          0.2287503518153673,
          0.05786873676781934,
          0.2675265366576154,
          0.35942478132421946,
          0.1784688995215311,
          0.2999123490455785,
          0.33844577602533454,
          0.29023182534323655,
          0.06537721977151906,
          0.09941176470588235,
          0.13866090712742982,
          0.3170698924731183,
          0.17476894412983257,
          0.2519351540820797,
          0.24110433154111038,
          0.259825327510917,
          0.17069131317448447,
          0.3111287338091462,
          0.4176040494938133,
          0.4328710323134115,
          0.1822125813449024,
          0.3747160166603559,
          0.05101191238631997,
          0.29583590757444705,
          0.36335740072202166,
          0.3198129896386151,
          0.20943033357649712,
          0.352369599945285,
          0.4579598635678591,
          0.29755684225391893,
          0.45108283018185763,
          0.26989117291414755,
          0.30666537210544204,
          0.3983059495866925,
          0.28793661808928983,
          0.4381423677198325,
          0.29725357682076353,
          0.30031111838873426,
          0.06420533607598766,
          0.06009159823120657,
          0.2059952757965361,
          0.45651046169808057,
          0.08071575695159629,
          0.2879268661226957,
          0.24276974416017796,
          0.24643049166616882,
          0.3165971193969579,
          0.15578402134672736,
          0.25375375375375375,
          0.3138075313807531,
          0.09579635194632749,
          0.45562090526239823,
          0.3490445859872611,
          0.11691862335155999,
          0.45518103791280623,
          0.2464,
          0.3660061321148638,
          0.09234821181036873,
          0.4545992070919331,
          0.12576808420027985,
          0.10900390730503988,
          0.20878875752844078,
          0.45416187188339086,
          0.4213507008353391,
          0.04619349722442506,
          0.4235869565217391,
          0.14851181343970543,
          0.2991253644314869,
          0.05814524043179588,
          0.40836462062341744,
          0.08992392315691533,
          0.23023426061493413,
          0.10465216492002206,
          0.09665890198227825,
          0.39414329037149354,
          0.08577219116743247,
          0.15508501764517163,
          0.39823008849557523,
          0.37577650733777335,
          0.3396216689861347,
          0.43389530693804457,
          0.39890977137743067,
          0.046986002672856436,
          0.3588611449451888,
          0.07588674876328808,
          0.30327162511514577,
          0.3760926057169856,
          0.43819964128888617,
          0.07926540658231043,
          0.4518598475853285,
          0.23596517562293606,
          0.3474079185715518,
          0.07223458359821996,
          0.23851124940162757,
          0.45146232689896737,
          0.19049034175334323,
          0.25247267048412286,
          0.4181937787801898,
          0.2134953352137123,
          0.1781162883313421,
          0.3032276330690827,
          0.22547531911095242,
          0.06046613896218118,
          0.21663722498795568,
          0.3416722674433077,
          0.4220373653347879,
          0.23129367649565366,
          0.22763266753338848,
          0.1397869912514264,
          0.29266578831796225,
          0.325176502844609,
          0,
          0.09648910411622276,
          0.45004595431800387,
          0.3666241225271219,
          0.23206547905633124,
          0.12347635299853729,
          0.2827763496143959,
          0.10849422931722576,
          0.12840898140117568,
          0.054974664200112607,
          0.3957176843774782,
          0.2935710947126893,
          0.0904387417218543,
          0.17159222922836212,
          0.3287413901064496,
          0.27153859931936236,
          0.43320436959490216,
          0.11274407313191855,
          0.07944184257562388,
          0.40342867790925185,
          0.20767807585568918,
          0.23316741906856503,
          0.4488788165459025,
          0.12202458801987967,
          0.20594237205126112,
          0.26579345985921765,
          0.10892620415377817,
          0.3596094391364343,
          0.3428943937418514,
          0.3365097699489845,
          0.277863116572794,
          0.2998161889849547,
          0.4481560017867503,
          0.23129188384214444,
          0.29334151580239337,
          0.3376827153357007,
          0.227491961414791,
          0.2831951572575339,
          0.07734806629834254,
          0.22700993676603431,
          0.41504559270516717,
          0.4193121693121693,
          0.4476074582924436,
          0.21282232426704345,
          0.17911022167487683,
          0.10250907890392869,
          0.13870761356365963,
          0.062049007817197833,
          0.2207296849087894,
          0.13202178684659785,
          0.2907520104325147,
          0.44679721054819194,
          0.3956304574364871,
          0.063827516277084,
          0.32140678999796707,
          0.4032574082164879,
          0.12547425474254742,
          0.29066174577289505,
          0.34676581551752417,
          0.22562277580071174,
          0.13051335005163003,
          0.254393871113114,
          0.046781115879828326,
          0.4117622600924704,
          0.13576848825429594,
          0.17232815964523282,
          0.37646198830409355,
          0.11480455524776854,
          0.4189034017511124,
          0.3367066895368782,
          0.27988097206149776,
          0.3361637347767253,
          0.20441988950276244,
          0.22266852951449528,
          0.28238171385570504,
          0.3219338003021563,
          0.3294699235626454,
          0.40034374293917985,
          0.045208333333333336,
          0.24538352272727273,
          0.09808911549545556,
          0.44439948691018344,
          0.22076788830715532,
          0.2596107447321859,
          0.10277801668530145,
          0.3243183574345954,
          0.2792352431629749,
          0.2245922208281054,
          0.04833930540242558,
          0.15950732899022801,
          0.14415011037527595,
          0.3070316078790655,
          0.3876440674202216,
          0.08418943108413106,
          0.1755117513267627,
          0.2510696653867252,
          0.2423524974857526,
          0.21778844181944956,
          0.0657524156159279,
          0.368756820280366,
          0.3683930123657572,
          0.20827648931332424,
          0.3255948686116284,
          0.05404995065664617,
          0.23437663015127805,
          0.2210551444258773,
          0.05301376207489745,
          0.35099512591389115,
          0.083393261966892,
          0.24644128113879005,
          0.40860979462875197,
          0.44135746553447136,
          0.07396637195277764,
          0.23129526243806192,
          0.11654216944391241,
          0.3001514823631249,
          0,
          0.0473186119873817,
          0.3076849823826302,
          0.3095342385749745,
          0.38275725069527217,
          0.2676295666949873,
          0.10691994572591587,
          0.15376092576634248,
          0.07830318878477519,
          0.2606861870386893,
          0.30583664618720635,
          0.18622066899650525,
          0.3285614816877872,
          0.4124397058619108,
          0.1485826919466867,
          0.31062038963495364,
          0.36300130666398633,
          0.2883857272819165,
          0.4395988558918041,
          0.35097530482476774,
          0.12475098260916384,
          0.29369085173501575,
          0.2467227965469466,
          0.3392255411502656,
          0.3640911617565314,
          0.21779964221824688,
          0.4345422379478107,
          0.37369114051037683,
          0.24025324891702765,
          0.31005488730585073,
          0.3270440251572327,
          0.27762012864169505,
          0.2988232753967397,
          0.30594987956746783,
          0.4379258501007645,
          0.43159922928709055,
          0.30860120736804086,
          0.2276862636983941,
          0.36627588366540104,
          0.3643992011208156,
          0.35694770249758523,
          0.3347009108065972,
          0.07123881431767337,
          0.24434571890145396,
          0.3057344239470936,
          0.15125068719076415,
          0.43684734614729503,
          0.26221049545587805,
          0.23465346534653464,
          0.41338643086793775,
          0.3415099797512294,
          0.0584773553133032,
          0.43604858232722354,
          0.275338530980714,
          0.2246750061319598,
          0.16061772046589018,
          0.20838866755201416,
          0.04558844157665872,
          0.28121319199057715,
          0.26476672029418524,
          0.43478260869565216,
          0.20803782505910165,
          0.4299193100798361,
          0.2805731422859047,
          0.286686281721221,
          0.19866920152091255,
          0.22894856622667273,
          0.1077651652085894,
          0.32730044123545926,
          0.09963252614717799,
          0.10408095710975553,
          0.05467905770477631,
          0.3805426144149082,
          0.32720993983409874,
          0.2902646926873037,
          0.24326154679669512,
          0.3172514461804617,
          0.3403441682600382,
          0.40869972733469667,
          0.33644047713089503,
          0.35445544554455444,
          0.2377538109296861,
          0.23621621621621622,
          0.4014507537118894,
          0.2531924262439454,
          0.26872505018155574,
          0.07848108167048304,
          0.39216601815823604,
          0.16584512641119414,
          0.16040024257125532,
          0.4147662188899302,
          0.3417510963254196,
          0.4312689067429984,
          0.2713793424606501,
          0.43117695228169434,
          0.24537060524580184,
          0.2774941084053417,
          0.4306962256854076,
          0.24786905031304216,
          0.11622430144484756,
          0.25953741496598637,
          0.3794789113891397,
          0.05093312597200622,
          0.10346010586159576,
          0.328513865844987,
          0.3524490821484525,
          0.08165041782729805,
          0.2448775612193903,
          0.2754940711462451,
          0.295113958540447,
          0.30160446308869954,
          0.4292945894418513,
          0.3736908210603083,
          0.34180234366898266,
          0.28583043831768795,
          0.3334820995439992,
          0.086098893775823,
          0.3389330075341071,
          0.3809924306139613,
          0.13356923601637108,
          0.23741486526502814,
          0.25246759934769547,
          0.4285880333321412,
          0.2667051800500674,
          0.1154049063571617,
          0.07215499690465706,
          0.3951702206195519,
          0.20913150781525444,
          0,
          0.25955672252683604,
          0.0928598084338848,
          0.40879265091863515,
          0.40719601184885484,
          0.2342285413375461,
          0.24893261555596807,
          0.33382059007786163,
          0.4050621669626998,
          0.4274530092305418,
          0.11057830238944219,
          0.13407066474319343,
          0.1266137157048804,
          0.07083140196367621,
          0.40964350930297594,
          0.17010428736964078,
          0.36949566194631633,
          0.21356196414653156,
          0.21460558043403377,
          0.18074756784434204,
          0.32476938845234027,
          0.32755241844574323,
          0.11004282136220409,
          0.36497797356828193,
          0.23375937466990598,
          0.42632406921866806,
          0.23988612526221156,
          0.07684976172560823,
          0.2751286914115416,
          0.22403003754693368,
          0.27557377049180326,
          0.30773574251835123,
          0.05691875724836721,
          0.17800143781452193,
          0.2336339522546419,
          0.15383948691280985,
          0.28664625884478345,
          0.26122754491017963,
          0.3790969912812409,
          0.3456502009594192,
          0.34330686330119115,
          0.3132245091081145,
          0.3976653696498054,
          0.2751322751322751,
          0.191063717282101,
          0.39390949750065773,
          0.26809246057463815,
          0.06616683054736153,
          0.06329042004224486,
          0.40589614740368507,
          0.27305583250249255,
          0.17898510755653613,
          0.30150250417362273,
          0.3285255089425534,
          0.32917409387997626,
          0.19096176129779838,
          0.06201382886776145,
          0.2697897742019206,
          0.2168776371308017,
          0.22361991891048966,
          0.2211296016137166,
          0.35561877667140823,
          0.06520600558659218,
          0.3096363932822436,
          0.08888088061852968,
          0.06224393036695114,
          0.1738810388276776,
          0.299813163682804,
          0.26564625850340134,
          0.19488907610221848,
          0.3092277909227791,
          0.13534822601839686,
          0.09086867609140215,
          0.09966523194643712,
          0.03865853658536585,
          0.1925520056941031,
          0.4147598169424265,
          0.27342158859470467,
          0.37161322396221724,
          0,
          0.26437246963562755,
          0.37119813920562283,
          0.3017975824077791,
          0.08986032531824611,
          0.04611940298507463,
          0.2076689445709947,
          0.3388230127360562,
          0.36982771314975704,
          0.2941225510629429,
          0.3882072955561938,
          0.0632368703108253,
          0.18189823605492722,
          0.04968002694509936,
          0.35086508863178006,
          0.3598776619845945,
          0.21431626978468557,
          0.27865448504983387,
          0.09139828451205696,
          0.08957789382071367,
          0.32189973614775724,
          0.26517241379310347,
          0.07232547848213298,
          0.36982960859365355,
          0.13907664108145262,
          0.3133726923437354,
          0.17911975435005117,
          0.38593797973595334,
          0.06454728708214345,
          0.3471476574871577,
          0.25181159420289856,
          0.20898794300328827,
          0.20068930853737343,
          0.34027936798717656,
          0.22923430735930736,
          0.41881071729583463,
          0.344157346702661,
          0.2918591224018476,
          0.1686349426884335,
          0.2945327006395709,
          0.25300590992459754,
          0.09962018944767309,
          0.26765509168942647,
          0.2080946926307751,
          0.07348596750369277,
          0.17952783650458068,
          0.2969465648854962,
          0.33807716635041113,
          0.06324335020516986,
          0.20398196844477837,
          0.28491021173948006,
          0.16028137793761735,
          0.1852589641434263,
          0.3069100823462226,
          0.2842829550941574,
          0.4163184091282605,
          0.2506074842054107,
          0,
          0.24283480979676916,
          0.18158313444709626,
          0.20978627671541059,
          0.07294874781093369,
          0.3318701226309922,
          0.37844736795130396,
          0.22696266898176856,
          0.41557235395774794,
          0.07316986496090974,
          0.3002089199745663,
          0.07495688593249569,
          0.36553981348637016,
          0.32810240092565807,
          0.2259733859043864,
          0.36495726495726494,
          0.12860524075477348,
          0.37478844330280514,
          0.23596142938173567,
          0.07271193589202868,
          0.08362442217992429,
          0.34365466213136026,
          0.11118298539645202,
          0.26870167687518826,
          0.41450697328569613,
          0.2885642034279292,
          0.24035933391761613,
          0.376896227681568,
          0.35729362328382486,
          0.38834978843441464,
          0.09442463284635147,
          0.21821177175378165,
          0.25836177474402733,
          0.2519807096107475,
          0.2871610970996217,
          0.0597761169674619,
          0.06711123997293901,
          0.09474979843205873,
          0.33216763171472796,
          0.3391271213764399,
          0.22755912702036343,
          0.07093001320505565,
          0.06798949518529326,
          0.4116775706702876,
          0.21615794083956608,
          0.27341227125941875,
          0.24926205313217448,
          0.2994588093806374,
          0.06695156695156695,
          0.0771505376344086,
          0.08261382240586264,
          0.09151624548736462,
          0.21180653535752583,
          0.22380694876301202,
          0.0718679997814566,
          0.2028038368293454,
          0.22046589018302828,
          0.11912184983112496,
          0.2452600875060768,
          0.18098764244843007,
          0.3394530914094075,
          0.18937287611986406,
          0.08427188211949732,
          0.19344394981788748,
          0.1516690856313498,
          0.15159428257284221,
          0.054874339801792175,
          0.21605104700278602,
          0.25287089125482354,
          0.12688530340231496,
          0.14375637972099353,
          0.3484985835694051,
          0.27822832189644414,
          0.08879625148488715,
          0.08009695807362421,
          0.20724191063174113,
          0.4072554169402495,
          0.3220463746779536,
          0.2888521137355198,
          0.4068584348699912,
          0.06568119475769582,
          0.052560491982297834,
          0.2399473222124671,
          0.22501878287002253,
          0.40608119094505973,
          0.1878121878121878,
          0.29680824327720534,
          0.055535511239394736,
          0.08450079387316708,
          0.09632600086525342,
          0.18445530506069682,
          0.2325268078086335,
          0.29845242531824334,
          0.2229309271935283,
          0.04693009118541033,
          0.2232845894263217,
          0.2618925305661153,
          0.25749396009186626,
          0.1942186088527552,
          0.3246693502012651,
          0.192780642602142,
          0.30996913019792993,
          0.06953529861524084,
          0.06827259053569362,
          0.389797215321509,
          0.07649263309204785,
          0.11124143755278221,
          0.19068895935428076,
          0.15195105393862837,
          0.037918040508714085,
          0.06171205244578921,
          0.039195583596214514,
          0.22934343850399538,
          0.19256356511437164,
          0.40348101265822783,
          0.2569140093698051,
          0.17061412701739678,
          0.0629367510184662,
          0.2640343941490413,
          0.2598266239163995,
          0.18059540889526543,
          0.2710945442222975,
          0.2635143936433503,
          0.2084327271600731,
          0.13088029295302384,
          0.3449154393031325,
          0.09782175587727454,
          0.40151241418469,
          0.360381861575179,
          0.25835661985780484,
          0.2802753280275328,
          0.39256342858432136,
          0.08406093815860781,
          0.30400585330162794,
          0.27028112449799196,
          0.17661276879479915,
          0.20928620928620928,
          0.09343006249168993,
          0.32703611837858043,
          0.17615399227505857,
          0.3340032378719366,
          0.26678603401969564,
          0.3219730941704036,
          0.31888205274955883,
          0.23357161312548447,
          0.2859243063932449,
          0.3248399625980004,
          0.19441434934392682,
          0.3050671617341924,
          0.21007556675062972,
          0.10120766197882711,
          0.2508250825082508,
          0.28026067683350425,
          0.061142198815009874,
          0.12237779415377058,
          0.233249581239531,
          0.07352809291063181,
          0.19908045977011493,
          0.3194836935767204,
          0.25126306838077134,
          0.19158479282357968,
          0.1577708006279435,
          0.20710301837270342,
          0.18669014970436532,
          0.0852547257777401,
          0.36490500863557856,
          0.21723577235772357,
          0.3967194315319558,
          0.1769174385286866,
          0.25740609496810773,
          0.06537242472266244,
          0.32201980898478955,
          0.2687201583789449,
          0.05324922723024944,
          0.2581958507399278,
          0.0672552664188352,
          0.07907861046356097,
          0.3265180944592108,
          0.395742471443406,
          0.38992848045459,
          0.3599762419922786,
          0.2737156836096765,
          0.20699346945523683,
          0.25618915159944367,
          0.057594191522762954,
          0.07793736755356723,
          0.10769415821338359,
          0.06504408178578128,
          0.16447792458910732,
          0.20022916069894015,
          0.24284745762711865,
          0.08515649251616213,
          0.0999374273710557,
          0.23653125900316913,
          0.17366533023844694,
          0.3063583815028902,
          0.2672236209658961,
          0.3312003530450132,
          0.22351965729289022,
          0.13854941551540914,
          0.2221820809248555,
          0.24401664932362122,
          0.37651612903225806,
          0.2504397537379068,
          0.26421610953496977,
          0.19863289103337353,
          0.24497034538899873,
          0.3548732432863358,
          0.23970911086717892,
          0.39200773078672124,
          0.23020162128455623,
          0.24217128027681661,
          0.3929580552443124,
          0.11588969139855548,
          0.2518875648139725,
          0.0860386730530424,
          0.2120980091883614,
          0.32046613255644574,
          0.1591375770020534,
          0.29252383341695937,
          0.3099319549856059,
          0.07048929932056391,
          0.33708311680371716,
          0.2454281098546042,
          0.1820054945054945,
          0.3342327150084317,
          0.1833186941882594,
          0.2376486512617229,
          0.3698534970678981,
          0.16713603526386678,
          0.10596074454986601,
          0.19074405522884172,
          0.2433205057724024,
          0.05076923076923077,
          0.2859678182678656,
          0.3031684788962937,
          0.25345483677148006,
          0.28861911987860395,
          0.20860458533823945,
          0.10638900694149313,
          0.2869806094182826,
          0.20328504198578942,
          0.2735524555704185,
          0.24317040303809873,
          0.05516018470033798,
          0.14523809523809525,
          0.055414766007771586,
          0.34765117545991703,
          0.2241049467067505,
          0.30025999578385215,
          0.234313498495022,
          0.30958590103483213,
          0.37464939421102855,
          0.2270168855534709,
          0.09949759400915593,
          0.23595719381688465,
          0.06582774756544833,
          0.08904420713416411,
          0.35825306860461076,
          0.23495811119573495,
          0.08398283380632657,
          0.2947339915843853,
          0.20062362938596492,
          0.3091137649277184,
          0.28807236304170075,
          0.3877147420110748,
          0.34579492867250544,
          0.17232437529467232,
          0.20227358136039084,
          0.17671641791044776,
          0.060460652591170824,
          0.27504244482173174,
          0.07682965634280865,
          0.23749436683190625,
          0.3020914020139427,
          0.07159783344617468,
          0.22467161621930326,
          0.3244466800804829,
          0.266110307231551,
          0.20864160994377035,
          0.2764113539875794,
          0.2667468493437222,
          0.19581618655692729,
          0.189225546089296,
          0.24117110959216223,
          0.22148029718799964,
          0.19202973363617593,
          0.11773198133475649,
          0.3416842996191282,
          0.23588645734221375,
          0.27775193077137805,
          0.33084175656162407,
          0.06495014553787082,
          0.04718564420345985,
          0.18338727076591155,
          0.10254452926208651,
          0.2808865424322417,
          0.3665759339215318,
          0.08165174395296004,
          0.33638393350575857,
          0.0593387373448589,
          0.12266124517516722,
          0.24107875307629203,
          0.3317641784353284,
          0.07508557103601216,
          0.22329584669725144,
          0.20624916186133835,
          0.3839080459770115,
          0.36621276007465264,
          0.38352112759538387,
          0.37350470122895996,
          0.2977513248069123,
          0.29605826906598115,
          0.21668236828755708,
          0.07208029197080291,
          0.23228478825127427,
          0.1314495831366997,
          0.07983851189465542,
          0.33389801795697105,
          0.2329863409350743,
          0.18618143459915612,
          0.19148636763412488,
          0.2658369632856254,
          0.3823281315900464,
          0.23114667471880426,
          0.11482019085188838,
          0.1554783950617284,
          0.1820349761526232,
          0.2894472361809045,
          0.18488924050632913,
          0.12183573119650337,
          0.05451373035027069,
          0.20698280354351226,
          0.20622362869198313,
          0.08138318481208834,
          0.24139602520601067,
          0.1447602131438721,
          0.20986052546221212,
          0.10180727979055823,
          0.07412580517944,
          0.20768962713439423,
          0.17371855980054265,
          0.20718562874251498,
          0.2697778584831427,
          0.2504581871498141,
          0.25036619305697966,
          0.05189069831631245,
          0.27768863613283234,
          0.2791196226954409,
          0.2757298628209638,
          0.26047658175842237,
          0.23998358385061305,
          0.09455387766768293,
          0.307398182902445,
          0.13866486333049474,
          0.37278632515248716,
          0.07871757846556234,
          0.18510342863246343,
          0.09067188519243313,
          0.2592374213836478,
          0.08408265788584937,
          0.06451817145751551,
          0.05315603319276289,
          0.07164516955667549,
          0.11544396422312371,
          0.2856925880923451,
          0.051012928162068504,
          0.20285659139162324,
          0.170469075980887,
          0.25871390774186126,
          0.3780424650440186,
          0.19556451612903225,
          0.35363370806408784,
          0.17938144329896907,
          0.36838596689452574,
          0.13623920983358206,
          0.29574416927145947,
          0.09262327469310416,
          0.3403693931398417,
          0.1740432612312812,
          0.27194580024768705,
          0.04838918568884572,
          0.3748569560241949,
          0.07029245767060031,
          0.24634228062990954,
          0.04605592929692653,
          0.26116038970481315,
          0.163955852454255,
          0.3756660487416653,
          0.27083087802003536,
          0.16679302501895377,
          0.09850897439643166,
          0.30324211395114903,
          0.06314687640625306,
          0.31099614026443295,
          0.28187400030958154,
          0.31802727175119,
          0.2297872340425532,
          0.2664630006788866,
          0.12261467013010378,
          0.07174226950672981,
          0.2827025003448072,
          0.08275781227105332,
          0.2864110439801532,
          0.07070980521624298,
          0.07687124618083388,
          0.27731739916660114,
          0.20206992300896126,
          0.20762229806598406,
          0.17756638921918352,
          0.2820139697322468,
          0.159270699917125,
          0.20200235571260305,
          0.04097249128244866,
          0.08865737934856015,
          0.06651688585023209,
          0.24172729406242666,
          0.1702862783810464,
          0.32408136085719474,
          0.3713020860700962,
          0.27094203585997534,
          0.21932058297664841,
          0.37110758963655804,
          0.19850248229836412,
          0.19706978319783197,
          0.059795391252903916,
          0.1498676081200353,
          0.2843202780376955,
          0.3430464701384759,
          0.23355263157894737,
          0.19090351952372614,
          0.12313222441499859,
          0.055167829843801926,
          0.22779300338545866,
          0.24771823518273053,
          0.07698231944860653,
          0.07451219512195122,
          0.2433734939759036,
          0.31513087716419136,
          0.26444727251692024,
          0.33826081153230114,
          0.2615626226933647,
          0.043952356987082705,
          0.03821183453904656,
          0.15760869565217392,
          0.3211313213084065,
          0.16861489191353082,
          0.1771097046413502,
          0.2152317880794702,
          0.3659592440080245,
          0.1391045762431852,
          0.31868896390012624,
          0.2299168975069252,
          0.0673217885284955,
          0.23577586206896553,
          0.3665254237288136,
          0.2846627408993576,
          0.21345238388871074,
          0.17752161383285303,
          0.3101527966308169,
          0.13596552203531212,
          0.22798422750627315,
          0.21131208728107953,
          0.09132384226636625,
          0.0644857296715132,
          0.1885014137606032,
          0.23045993919780328,
          0.034004505773021686,
          0.22774297980153424,
          0.30991655346400154,
          0.32984250690047084,
          0.2527945619335347,
          0.06604938271604938,
          0.19721142701302244,
          0.27018215690333264,
          0.2195244055068836,
          0.15253164556962026,
          0.28079140461215935,
          0.16751269035532995,
          0.20315904139433552,
          0.09297883383837999,
          0.3385303221368795,
          0.22273215910030597,
          0.05906188605108055,
          0.34587737843551797,
          0.19854132901134522,
          0.3615064940947334,
          0.18508997429305912,
          0.07417911499436303,
          0.2813923227065712,
          0.26038084483909046,
          0.269212869131799,
          0.322010811731154,
          0.25142979696883044,
          0.2594699597613431,
          0.36082896932727165,
          0.2612186084808563,
          0.06039202803328953,
          0.2800548893264125,
          0.22821008538746576,
          0.06292788914852622,
          0.23675333083449757,
          0.20790970991511987,
          0.10417040627056783,
          0.08696590418644799,
          0.2863127366470636,
          0.09621122558126442,
          0.19900574801926363,
          0.13548339043646657,
          0.1457057897498688,
          0.2874206793579694,
          0.334841628959276,
          0.33763255947262827,
          0.2181329963670826,
          0.3228236306897665,
          0.2666812513673157,
          0.3360089602389397,
          0.1827581388850077,
          0.21518847313255343,
          0.2050163576881134,
          0.26418126305640366,
          0.2584576054537708,
          0.1993782383419689,
          0.2461869378177552,
          0.0540100578471556,
          0.17439346625030028,
          0.23865612204834818,
          0.2698412698412698,
          0.06338303699517454,
          0.19224667856434663,
          0.19307786135393373,
          0.22463091011025976,
          0.21632146525162615,
          0.27174265371589523,
          0.18398268398268397,
          0.33103570010149597,
          0.26906222611744085,
          0.05146112656178656,
          0.20124633431085043,
          0.21706011528959648,
          0.26051459673428995,
          0.24971428571428572,
          0.2556469708302169,
          0.17184048621754194,
          0.2351126927639383,
          0.10436324126493966,
          0.28060620412029363,
          0.2563817980022198,
          0.2388996138996139,
          0.144287193648602,
          0.059507887985152025,
          0.28852212025749896,
          0.2318075117370892,
          0.1543031320954247,
          0.15460526315789475,
          0.06633216184030905,
          0.19453312051077415,
          0.03699489084997678,
          0.17552916881775943,
          0.05841393516030808,
          0.18618365627632688,
          0.1734333627537511,
          0.2049448713665219,
          0.06162048454954301,
          0.23082684242061113,
          0.20042643923240938,
          0.2169124509986933,
          0.2065426555484285,
          0.2189922480620155,
          0.1849175240894986,
          0.18799335272122975,
          0.22894957479937716,
          0.29094792180055856,
          0.2707971014492754,
          0.3331140678726267,
          0.19026572234943287,
          0.031443009545199324,
          0.2757600215227334,
          0.1516570923552806,
          0.20601586500985833,
          0.24605126877265665,
          0.3032801262936327,
          0.08428355118815858,
          0.12295696506222822,
          0.19151619755708976,
          0.04172772311771684,
          0.31366772823779193,
          0.06296590492484419,
          0.30352045670789723,
          0.3115886415963162,
          0.1064427705986686,
          0.11544505037434144,
          0.16254968767745598,
          0.19090252707581226,
          0.06207111665626949,
          0.22533240027991602,
          0.20228298380674276,
          0.18769372058317071,
          0.252265209262189,
          0.19039506773748682,
          0.1662865706652766,
          0.347991128080068,
          0.19653965785381025,
          0.14583049461779535,
          0.08694491287240022,
          0.25653082549634276,
          0.18282828282828284,
          0.20150575730735165,
          0.17614057372710915,
          0.22038697498820198,
          0.26787807737397423,
          0.346530330681709,
          0.23655237496067946,
          0.08967433588974102,
          0.24042901832265753,
          0.18196350807562978,
          0.30591471801925724,
          0.237097364568082,
          0.30050569783971476,
          0.20816044260027664,
          0.07489853646537942,
          0.34624102757839065,
          0.19174420906751138,
          0.22487046632124352,
          0.04712275261118569,
          0.30260020438287727,
          0.10173160173160173,
          0.2547071129707113,
          0.21581808616355877,
          0.04433466733366683,
          0.24517906336088155,
          0.16459376514294943,
          0.06172450052576236,
          0.05980176982885428,
          0.15136986301369862,
          0.1502122162760657,
          0.2883358766678405,
          0.1943802116179665,
          0.16604651162790698,
          0.08171098691887245,
          0.17565020731247644,
          0.03657626275192834,
          0.05332094473084762,
          0.08021787571180986,
          0.23694313007767165,
          0.06608319891670152,
          0.19834384858044163,
          0.2726997578692494,
          0.2053605134012835,
          0.050168279343710556,
          0.05878834486883705,
          0.20013048442342196,
          0.22539149888143176,
          0.2029723991507431,
          0.2033096926713948,
          0.20724992352401345,
          0.05257082485521991,
          0.24390489962000203,
          0.25386798864590415,
          0.20665009322560596,
          0.2073440285204991,
          0.21455304731513217,
          0.2207220428529498,
          0.2478714859437751,
          0.26255763164280516,
          0.14497920380273321,
          0.06824320944424991,
          0.07452179021184419,
          0.24356604578416038,
          0.23764384380537587,
          0.2288205777756126,
          0.1943993171242118,
          0.3026763189645717,
          0.05743953732912723,
          0.2840487546369899,
          0.30197387803201414,
          0.3084423401011155,
          0.21115796302302953,
          0.06950618103009797,
          0.21279451237697583,
          0.3384937545922116,
          0.19107960604729943,
          0.22787878787878788,
          0.08452041645565148,
          0.1964608887995174,
          0.06830973606012934,
          0.33056646102075155,
          0.1916342412451362,
          0.07807215877248923,
          0.21734654484622315,
          0.20309646987218502,
          0.17254691689008042,
          0.20839857651245552,
          0.16782487838776927,
          0.2999821439200048,
          0.07096267377642354,
          0.1644927536231884,
          0.23878247179218054,
          0.15058823529411763,
          0.049132997206513596,
          0.1767756750336527,
          0.054542410034707424,
          0.18899858956276447,
          0.08994934431662169,
          0.1575984990619137,
          0.20570031726218338,
          0.10752056404230317,
          0.31559526121577003,
          0.2734567901234568,
          0.21855146124523506,
          0.0708103993441855,
          0.2514660227664712,
          0.1896878212411405,
          0.20599917819476785,
          0.18007662835249041,
          0.1560376372190277,
          0.17435689540797522,
          0.27755839718752706,
          0.13192419825072887,
          0.051839464882943144,
          0.048564983080586537,
          0.1703067097689821,
          0.28656115634434176,
          0.17963496637848222,
          0.16088730239673635,
          0.09029447115384616,
          0.27702948671277755,
          0.3312199442131488,
          0.25484261501210653,
          0.30858073859522084,
          0.07267435485960907,
          0.21407310947818808,
          0.060505418236784396,
          0.06508425045078654,
          0.10699863802537574,
          0.045603961219989185,
          0.2858601216333623,
          0.21491625709786707,
          0.16543834561654383,
          0.05990052905859274,
          0.044758677106462544,
          0.23662759102554148,
          0.3039235931853381,
          0.2347572106608251,
          0.3185560016867426,
          0.24979253112033195,
          0.28231857318573184,
          0.3036153036153036,
          0.19154778648449536,
          0.1795029321418598,
          0.24333333333333335,
          0.1188322909036269,
          0.2413382140120882,
          0.08996354636968663,
          0.25880577628361856,
          0.14425949637217242,
          0.2403072421360644,
          0.06393338906839596,
          0.21580889891326635,
          0.29893631107384033,
          0.26681214044832374,
          0.09339975093399751,
          0.21299330388944293,
          0.044533009876971064,
          0.19016817593790428,
          0.22112316528398213,
          0.1437125748502994,
          0.15228668219352107,
          0.3263494724010514,
          0.15611015490533564,
          0.043282828282828284,
          0.14015773907328294,
          0.22136669874879691,
          0.1836053412462908,
          0.15393563396665375,
          0.3245001586797842,
          0.1554074708076053,
          0.18817733990147784,
          0.24135972740548434,
          0.20195667365478687,
          0.20032158033765934,
          0.2852128998079597,
          0.20939597315436242,
          0.16767371601208458,
          0.13148417745766608,
          0.04240651062684961,
          0.32242405811002073,
          0.13157894736842105,
          0.24692462536345336,
          0.2621830606006114,
          0.20957918050941307,
          0.27125218178292065,
          0.08808334445259858,
          0.14627887082976904,
          0.03669022379269729,
          0.1963894967177243,
          0.3094506994199932,
          0.20461309523809523,
          0.16336353340883353,
          0.04267892855971935,
          0.2307433220198461,
          0.16956521739130434,
          0.3121144683584007,
          0.17808333333333334,
          0.16554516762936938,
          0.037396841900058486,
          0.045003213367609256,
          0.2753482972136223,
          0.15972311242148443,
          0.12478920741989882,
          0.08212416492915195,
          0.19619527847811138,
          0.2372660699755899,
          0.0738627506001933,
          0.19230769230769232,
          0.12535517299013874,
          0.23620620217478855,
          0.12101313320825516,
          0.033472579263067695,
          0.0484994640943194,
          0.10389352403655144,
          0.14514285714285713,
          0.2828513859391167,
          0.20028373529166318,
          0.1591403417918177,
          0.17069486404833836,
          0.18144554124142545,
          0.15926195678562757,
          0.21059627800987465,
          0.283041440962414,
          0.05097250167672703,
          0.05141823275358935,
          0.1870796313210994,
          0.15290131300296483,
          0.1398774452038652,
          0.1398946115927248,
          0.28632774622523893,
          0.1394204483324221,
          0.23350296154167013,
          0.1068941504178273,
          0.2234313498495022,
          0.25580395528804817,
          0.050318717403901876,
          0.254875061244488,
          0.15644687106257874,
          0.14819759679572764,
          0.22371579452712434,
          0.228538283062645,
          0.1933271547729379,
          0.1375513993898395,
          0.12571015017188347,
          0.21639668603932236,
          0.28626258157283485,
          0.09617915306968501,
          0.19325201964200855,
          0.24102172868808455,
          0.18495551361552978,
          0.19507585700036748,
          0.19546169400134802,
          0.15131854332356634,
          0.05987948967264799,
          0.19554352353186172,
          0.2619313000303982,
          0.22990625480252036,
          0.1984611903145508,
          0.194086260560249,
          0.30836563711391773,
          0.22552574329224076,
          0.05120824273571852,
          0.053170926272512506,
          0.23243243243243245,
          0.23669064748201438,
          0.06673965048858614,
          0.23650797282148658,
          0.3080020899481532,
          0.26773547094188377,
          0.11172217130053977,
          0.20380766414449597,
          0.07894798500468604,
          0.24260651629072683,
          0.19267617628273365,
          0.1918048469387755,
          0.1478577429291515,
          0.23371615391063794,
          0.19042365401588704,
          0.17932701994761233,
          0.05356171832517673,
          0.20482309452561168,
          0.304540646861257,
          0.25728062244870004,
          0.22860316578728132,
          0.05683715160570343,
          0.2691932680486668,
          0.20680796403339757,
          0.17857142857142858,
          0.22873825844122875,
          0.041014255667211966,
          0.06113398796325625,
          0.1997716894977169,
          0.06630516376279089,
          0.1753711417280786,
          0.11861471861471862,
          0.23533471359558317,
          0.1272577996715928,
          0.02897293546148508,
          0.1976127320954907,
          0.04435703479576399,
          0.17262128619781872,
          0.08697077941090356,
          0.21324887833201372,
          0.0689130033490678,
          0.07259293528547325,
          0.0731015009659682,
          0.15895283331492324,
          0.06770622384231133,
          0.1431995206710605,
          0.14939024390243902,
          0.05294507415552924,
          0.02256003098373354,
          0.2720636304205709,
          0.1336537361254148,
          0.24705279343926193,
          0.1235877334563062,
          0.1417905871531504,
          0.04483037156704362,
          0.2958866608718241,
          0.2203444218633009,
          0.2975972643009269,
          0.21478251389948763,
          0.1626003462930899,
          0.12318994889267462,
          0.24807723776795942,
          0.11796913887506222,
          0.2647939212525904,
          0.2568203198494826,
          0.16620784583620096,
          0.23138832997987926,
          0.24434908739272332,
          0.18665503706934147,
          0.21131741821396993,
          0.21117196056955093,
          0.177594442032132,
          0.21024258760107817,
          0.11266511266511267,
          0.15365363818940214,
          0.27975223615532885,
          0,
          0.22061528702822708,
          0.2302231237322515,
          0.08546604222842455,
          0.18460188435248476,
          0.29450508091832894,
          0.21989247311827956,
          0.10189677988531098,
          0.29429506844371117,
          0.21027231988969322,
          0.21067415730337077,
          0.05071675073002389,
          0.177,
          0.14488939469379045,
          0.2631251112297562,
          0.16051108005589937,
          0.13508010296208076,
          0.08986638287808915,
          0.17624959163672002,
          0.2646443692506504,
          0.21581046211588084,
          0.0907060152148823,
          0.1375980687990344,
          0.2134020618556701,
          0.18202075064410556,
          0.17606837606837608,
          0.19154929577464788,
          0.21654114234925387,
          0.22712933753943218,
          0.042034462878739354,
          0.1374113475177305,
          0.10758620689655173,
          0.078809619916926,
          0.12714228776404943,
          0.18285280728376327,
          0.2148111819519372,
          0.28941278816876903,
          0.03509794776119403,
          0.14490943160524672,
          0.23652741926987306,
          0.1759093619558736,
          0.08631690889755406,
          0.18492037699057523,
          0.182053494391717,
          0.13402061855670103,
          0.13072472295773266,
          0.2741865509761388,
          0.20203105165511182,
          0.17453605825698848,
          0.06205108131911146,
          0.27018365142239825,
          0.2707144437071444,
          0.1746431570109152,
          0.2549169114843803,
          0.18043216821197192,
          0.1893780573025856,
          0.04068237041036717,
          0.057089777063667406,
          0.07132698173343843,
          0.05162592633558235,
          0.12807881773399016,
          0.08107517482517483,
          0.14511609287429944,
          0.1710497479728249,
          0.16960565632759564,
          0.16009280742459397,
          0.17214339058999253,
          0.20745092681149518,
          0.041928721174004195,
          0.13602457218078104,
          0.1989247311827957,
          0.11895910780669144,
          0.2080010208639061,
          0.16038351488379096,
          0.27856105272152437,
          0.2761775669264656,
          0.15401251255117016,
          0.21408608160983789,
          0.1630893736805067,
          0.05325576954552894,
          0.1405384006334125,
          0.15837383041996084,
          0.20562553125724442,
          0.14846625766871166,
          0.24450565214896425,
          0.2458025520483546,
          0.1540453926862461,
          0.1913574780837687,
          0.17259601381433862,
          0.2526687789422374,
          0.2792827251046213,
          0.16204986149584488,
          0.19450610432852386,
          0.030393457117595047,
          0.20206036508223388,
          0.09569377990430622,
          0.11853370312311588,
          0.08751983077736647,
          0.20760330578512395,
          0.1433530024297119,
          0.20078592814371257,
          0.1681995982662015,
          0.19557344064386317,
          0.04303147077713552,
          0.14027732989358271,
          0.17938517179023508,
          0.05791393529287376,
          0.1941390190266756,
          0.27390505371156687,
          0.26398740624131867,
          0.09270421949698607,
          0.22814257393696646,
          0.1810604539064069,
          0.2377425412059253,
          0.16839134524929444,
          0.14260768335273574,
          0.11023622047244094,
          0.06477272727272727,
          0.2694026122332453,
          0.09172259507829977,
          0.03023880175215487,
          0.13601604613263132,
          0.17122117847993168,
          0.07773568410316188,
          0.1742535046466101,
          0.026474264288149075,
          0.06912884018426256,
          0.1735656556344304,
          0.1368199859911277,
          0.1592340819304552,
          0.26458692300716424,
          0.06686312375565452,
          0.17098833543505676,
          0.09009794424712086,
          0.26674686858679497,
          0.15091410831321145,
          0.1683011705156596,
          0.18663101604278076,
          0.13888431792002634,
          0.12550066755674233,
          0.17101524153965383,
          0.11029976940814758,
          0.25322938164029657,
          0.04721929428298951,
          0.19042795644466953,
          0.18409169850642584,
          0.2423195084485407,
          0.1535207011181626,
          0.15511345974510413,
          0.030534351145038167,
          0.17551622418879056,
          0.04359583007047768,
          0.20276212725024048,
          0.14732245460813606,
          0.22015334063526834,
          0.18152647261058905,
          0.14327700220426157,
          0.12876254180602006,
          0.039519109350201,
          0.18403547671840353,
          0.2178134233853947,
          0.258229836899596,
          0.19950903816112475,
          0.10304449648711944,
          0.20624124824964993,
          0.15524560339599758,
          0.2576794804282956,
          0.1847210994341148,
          0.20213228894691035,
          0.17762788083192804,
          0.1397459165154265,
          0.10948616600790514,
          0.12426900584795321,
          0.19047619047619047,
          0.12425277540563621,
          0.05629241209130167,
          0.17306028266512835,
          0.14521452145214522,
          0.1693548387096774,
          0.16145833333333334,
          0.20617367054524474,
          0.17299477930707166,
          0.1550695825049702,
          0.1582931865106676,
          0.17959856676285,
          0.18624420401854713,
          0.1191286589516678,
          0.20279512340172465,
          0.15759887572776551,
          0.21377331420373027,
          0.13472803347280335,
          0.13125,
          0.09299416180150125,
          0.19470774091627172,
          0.21508346343220847,
          0.16846105129829006,
          0.19230769230769232,
          0.22409029987509005,
          0,
          0.03864809402400348,
          0.23514146693097857,
          0.14247191011235955,
          0.10447368421052632,
          0.1349141455437449,
          0.10271317829457365,
          0.16257029785461363,
          0.06817637908340314,
          0.174839596700275,
          0.13662790697674418,
          0.22819543609127818,
          0.15782057303898545,
          0.1265377855887522,
          0.02474457215836526,
          0.15072463768115943,
          0.1553627760252366,
          0.13194313983342726,
          0.15884970900376583,
          0.11982026959560658,
          0.13286219081272085,
          0.14300960512273211,
          0.1794333683105981,
          0.07188703465982028,
          0.19701140385371607,
          0.1486743483611142,
          0.17729158807996984,
          0.1487527512839325,
          0.14552736982643524,
          0.02879032258064516,
          0.13352826510721247,
          0.10743559718969554,
          0.12226277372262774,
          0.15957847196085811,
          0.12519845770015878,
          0.20711715313874451,
          0.08159583929469084,
          0.15340253748558247,
          0.14447300771208227,
          0.10935984481086324,
          0.0738693640820272,
          0.15025041736227046,
          0.12615126988557074,
          0.1509581540868205,
          0.15,
          0.10818363273453094,
          0.1939196797197548,
          0.1462655601659751,
          0.1498913830557567,
          0.11018333635868578,
          0.1293471629042099,
          0.22444807849550286,
          0.18296296296296297,
          0.1501297664204432,
          0.1705310396409873,
          0.10005621135469364,
          0.1689829437776374,
          0.1603459747172322,
          0.1720792914382117,
          0.03418803418803419,
          0.028830752802989856,
          0.13402061855670103,
          0.16145307769929365,
          0.1799419542083199,
          0.09906340057636888,
          0.12326454033771107,
          0.09015119400876077,
          0.1081513828238719,
          0.11338582677165354,
          0.1585709808837355,
          0.22758203538484803,
          0.19072164948453607,
          0.11206896551724138,
          0.11398416886543536,
          0.05635774678818491,
          0.1170858629661752,
          0.14570217139920338,
          0.15302491103202848,
          0.1393526405451448,
          0.09866905554133606,
          0.14903846153846154,
          0.18350515463917524,
          0.12849162011173185,
          0.027493606138107418,
          0.16519823788546256,
          0.03048643801838153,
          0.12344730439236778,
          0.16414435389988358,
          0.16475893166840097,
          0.12389380530973451,
          0.11434735706580366,
          0.029195590036749694,
          0.12888601036269431,
          0.11752988047808766,
          0.10852713178294573,
          0.14497697424526693,
          0.09262759924385633,
          0.15675297410776767,
          0.15963511972633979,
          0.04403196700180459,
          0.12560207484253427,
          0.16404199475065617,
          0.1764,
          0.10510510510510511,
          0.13115301184715503,
          0.13333333333333333,
          0.12282453637660486,
          0.1433729216152019,
          0.12267287234042554,
          0.09847984137475214,
          0.12372093023255815,
          0.13755458515283842,
          0.20946669158497427,
          0.12014563106796117,
          0.09606404269513008,
          0.20037854889589907,
          0.1519913302628014,
          0.08714097832081795,
          0.19281045751633988,
          0.1811389337641357,
          0.13623789764868602,
          0.18415094339622642,
          0.10920634920634921,
          0.12520868113522537,
          0.12801561846325477,
          0.13498312710911137,
          0.09814323607427056,
          0.12168486739469579,
          0.13022113022113022,
          0.13183279742765272,
          0.07981220657276995,
          0.14736842105263157,
          0.11375818939845146,
          0.04871733588272785,
          0.11284840244731476,
          0.19794662460958035,
          0.12390924956369982,
          0.07985257985257985,
          0.11424196018376723,
          0.12243629583592293,
          0.10317460317460317,
          0.1441095890410959,
          0.08444444444444445,
          0.10112359550561797,
          0.1099965804171891,
          0.1900709219858156,
          0.15392561983471073,
          0.030766272473800597,
          0.10173010380622838,
          0.047035139092240115,
          0.1172465960665658,
          0.06027060270602706,
          0.03552475247524752,
          0.06060606060606061,
          0.11339688911189162,
          0.12724550898203593,
          0.0705521472392638,
          0.13390557939914163,
          0.09804915125411705,
          0.07923468584326282,
          0.127017841971113,
          0.14853400803691025,
          0.1334841628959276,
          0.10558069381598793,
          0.1153169014084507,
          0.05397572903459518,
          0.09384023099133783,
          0.02468427095292767,
          0.09234828496042216,
          0.1422872340425532,
          0.10159118727050184,
          0.038461538461538464,
          0.09513132607303011,
          0.04109900090826522,
          0.04138141583095881,
          0.09988109393579073,
          0.024617451232332672,
          0.11976744186046512,
          0.15204071035413855,
          0.02615325226790195,
          0.06744604316546762,
          0.03287070854638422,
          0.10652788486250321,
          0.12617096018735363,
          0.13556338028169015,
          0.12757201646090535,
          0.027167875579951643,
          0.09123823316437364,
          0.11669128508124077,
          0.025201938610662358,
          0.09876543209876543,
          0.056291390728476824,
          0.09682187730968218,
          0.11719466591406195,
          0.15579710144927536,
          0.06367041198501873,
          0.022137887413029727,
          0.05043050430504305,
          0.08313302793496812,
          0.1048780487804878,
          0.09896940945525928,
          0.07394366197183098,
          0.0802775024777007,
          0.1053864168618267,
          0.029078665442301806,
          0.11041009463722397,
          0.03090909090909091,
          0.08564814814814815,
          0.05333333333333334,
          0.04975124378109453,
          0.09173387096774194,
          0.09858943577430973,
          0.050314465408805034,
          0.0810942843185149,
          0.09569074778200254,
          0.05972434915773354,
          0
         ],
         "xaxis": "x",
         "y": [
          1.0606827872716902,
          1.1168510759667964,
          1.0471485367686804,
          0.9559482316277459,
          1.05067395362181,
          0.35307832917071313,
          1.0170546486598067,
          1.020034961273666,
          1.0282231299282774,
          0.3384991315758554,
          0.9544802978375274,
          1.0234008611939607,
          1.0479807941293415,
          0.7358772031371341,
          1.0602622800264712,
          1.0027953053908243,
          1.0631883475426136,
          0.4986013483189148,
          1.0058867486215517,
          0.8712872803609621,
          1.0472555025144474,
          1.0318487407879362,
          1.0579480318806365,
          0.9668028159711773,
          1.1339958689882477,
          1.0721693525631388,
          0.39560406049072716,
          0.9702409691560754,
          1.0640469308665068,
          1.074237803455731,
          0.47703328939184586,
          0.9596619248849434,
          1.1388903408230293,
          1.1320134861566338,
          0.7441228539105806,
          1.0354093515454492,
          1.1140390644741345,
          0.4040374353149181,
          1.073562551847027,
          0.4414245426418295,
          1.1196836737339504,
          1.0383922017723448,
          0.8605967486410727,
          0.9682080215201995,
          1.0426792934397329,
          0.8372624737000739,
          1.04167950709158,
          0.8734363510266638,
          1.1022274450555753,
          0.5217567874419632,
          0.9685171307837114,
          1.009604299001758,
          1.192533624803103,
          1.007183402241024,
          1.1058469694875268,
          1.1802517279328701,
          1.0795251385736198,
          1.0308558116635922,
          0.9877928779234393,
          0.994828641771421,
          1.0382675179512977,
          1.0365702180406229,
          1.0557588549804684,
          0.6234497410603309,
          1.0460531059340226,
          1.0708948904663376,
          1.1046653295876865,
          1.1077055774649884,
          1.1573542993904908,
          1.1536906274014076,
          1.0186974787635,
          0.9072825744286497,
          1.1384632499176777,
          0.9915331514360061,
          0.9765503389140965,
          1.1130707785002953,
          1.033332906178631,
          1.089790571216306,
          0.49877390103486396,
          1.1064393863339967,
          0.9988344880824347,
          0.984768695767298,
          0.9870643371688134,
          1.0709997226228,
          1.1525079593111993,
          1.1438814139858473,
          1,
          0.9686351653386353,
          1.1130672787544347,
          1.069262619321616,
          1.1423634546589072,
          0.5293503660771336,
          1.0860988279215236,
          1.0986977189788687,
          1.0990388236069664,
          1.022739451501506,
          1.0405314716776222,
          0.4767446585098811,
          1.0557102901503577,
          1.1024037677500507,
          1.0981929766649734,
          1.2204047994158134,
          1.1144671332315188,
          1.106531224487254,
          1.090099008047922,
          0.47410088078261314,
          0.8336716529730193,
          1.0298036694553216,
          1.0273851060884138,
          0.6069782395076688,
          0.9157891104252128,
          1.1428099748941372,
          1.0840972652182137,
          1.0887990644463512,
          0.9198933480098309,
          1.0146131918331793,
          1.0547040065950686,
          1.1347150683217682,
          0.9530970186597305,
          1.0618237053943864,
          1.1246487324806875,
          1.0218913255404365,
          1.0062109521576872,
          0.7325436328117756,
          1.0466448080350164,
          0.6472462593185196,
          1.0629537432372163,
          0.9804582017941699,
          1.0601448233260196,
          1.1154573699385442,
          0.48206755921555855,
          1.0874999892475716,
          0.48363179129558276,
          0.6206719327120289,
          1.1064645355101852,
          1.018635581126213,
          1.124782334121023,
          1.0610685203394605,
          0.5664080972790505,
          1.0799340656019545,
          1.064382711878811,
          1.1129421622712576,
          1.067087301894741,
          0.5754870853741336,
          1.1150830175094804,
          0.991006826901131,
          1.4170953743740098,
          1.1036592771469165,
          1.0087852521152603,
          1.166041454636535,
          1.15078532393022,
          0.5520064648996884,
          1.1583607234989852,
          1.010543384424178,
          1.0407586988458088,
          0.5236136606633356,
          0.9688834858540205,
          1.1291735213579648,
          1,
          1.0783119808771227,
          0.9765977528950099,
          0.9520828877634749,
          0.6670387204079862,
          1.0565566726598208,
          1,
          0.4883748957288855,
          1.0304447348240318,
          0.47158371160135204,
          0.5170462031638129,
          1.1444776728530566,
          0.4943671847540917,
          0.930688752462209,
          1.1417044201036872,
          0.562841066149308,
          0.4940654235989908,
          0.6764290579509297,
          0.9843559820911575,
          0.9450842413722967,
          1.0049200989349112,
          1.2096618386217033,
          0.6542163651933597,
          0.9608573035144865,
          0.5887953126947535,
          1.072137856446212,
          1.0718321181259476,
          0.6524436926462143,
          0.6338988867992618,
          1.0166255219636118,
          0.486410864919849,
          0.5070140992884864,
          0.9355264601404674,
          0.5383890839682346,
          1.06014749314288,
          0.6085521602825871,
          0.9131481928139965,
          1.1020038207708782,
          0.503296811099758,
          0.5026845175197323,
          1.1775734772210487,
          1.1338273438399415,
          1.1367072392835764,
          0.677956451490852,
          1.0625416401429373,
          0.9212562208069122,
          0.471915793475688,
          0.5381767768329532,
          0.9625256456457426,
          0.4921942415826641,
          1.0243138869330444,
          0.5066630681856055,
          1.2725343446352966,
          1.157430189003583,
          1.1162802989212413,
          1.1476307682573474,
          0.997225947258204,
          0.982019963626894,
          0.7012777372886125,
          1.1209378365787832,
          1.1324739969016164,
          0.5142738142677842,
          0.6041475880714894,
          0.9286280750111778,
          0.5918481141060355,
          0.4916811005229654,
          0.6221009548149796,
          1.052661513593295,
          0.7877737821589217,
          0.9229589532274719,
          1.0653933255247732,
          0.7109886424684362,
          1.0595239329685766,
          1.0530270974253975,
          0.5137384108569761,
          1.0373786286753148,
          1.1416465686986492,
          0.4665441156814686,
          1.1152992193833402,
          1.043777844324619,
          0.9607158705715322,
          1.0515419584050951,
          1.0764619711884453,
          0.5688904411243829,
          0.5907943863458394,
          0.9406408838831608,
          0.9672468862667251,
          0.7145384035208958,
          1.1444864265665662,
          1.114917587905016,
          1.1515935018331174,
          0.9910557375145808,
          1.0325679870719973,
          0.9825852541754355,
          1.0508217798711514,
          1.054023834517674,
          1.032937453061556,
          1.0501627484749418,
          0.882325355792287,
          1.0381002311053127,
          1.0702988171306211,
          0.4721731809062321,
          0.5192861705392491,
          0.5929487994828199,
          1.0054398384014624,
          1.0447987063983328,
          0.9471332456957906,
          1.0064038995327578,
          1.095615171332261,
          1.0287357679301383,
          1.0930035297560976,
          0.9609498687963178,
          1.0662514770481883,
          0.692389927073611,
          1.0511219761275852,
          1.0643463334708074,
          0.8322745926426818,
          0.6099838953636357,
          1.0456415434238873,
          1.1370639011665762,
          1.0739587602973089,
          1.013464217085111,
          0.9882762955412789,
          0.9197168091831455,
          0.8618086442056191,
          0.9086631080524867,
          0.5324646961496411,
          1.1350951368874136,
          1.0611596030999102,
          0.6408110458862795,
          0.9508725810010996,
          1.0843554255670365,
          1.1029090089261628,
          0.6403544162437559,
          1.2290851187111014,
          1.025642326686981,
          0.9775016089324475,
          0.9424874706233812,
          1.057558227065277,
          0.689498885062102,
          1.0310910688046913,
          1.1411409295019395,
          1.0072566606594526,
          0.6660080513150539,
          1.1604092441640081,
          0.5266155534023085,
          0.6410124717082138,
          0.9703501386813501,
          0.8537275839250982,
          0.9819946021807341,
          0.8543177923655514,
          0.9510725698933841,
          1.1719358300883447,
          0.909955786025103,
          1.005774177136322,
          0.76025827855603,
          1.0931450685713955,
          0.639733098314671,
          1.016470875352994,
          1.2614998968517177,
          1.0349064254426799,
          0.9396761100396482,
          1.0770877879304948,
          0.92786794560115,
          0.6778089899512354,
          1.0565328774929497,
          1.107563493239414,
          1.0819134592506388,
          1.098635271053472,
          1.1391755360531366,
          0.8893519661406367,
          1.0020974855070564,
          1.0266105916682968,
          0.9280685116796951,
          0.9839746004877271,
          0.5184999286850398,
          1.1932709226244833,
          1.0262132473565089,
          0.9772763361913229,
          1.0118656212479142,
          1.1380450777166597,
          1.0774573187170084,
          0.6658566634144049,
          1.0800948847814835,
          0.6062534417632092,
          0.5579203007667877,
          1.0941693712058342,
          0.9930637687325212,
          0.9284820752613862,
          1.0127000713705583,
          0.6495577379447424,
          0.9765449380040658,
          0.8536589111251119,
          0.7434706129072949,
          0.574097020689829,
          0.714430777787452,
          1.0867621385795079,
          1.08877542768937,
          0.9069539115095044,
          1.1474777957417377,
          0.9574442435689892,
          0.9466330141865489,
          1.1047839716873267,
          0.6417411370226183,
          0.6004028329695683,
          1.020663101743208,
          0.8933868037624877,
          0.6369922536271526,
          0.9473666813869738,
          1.0036689718784348,
          1.1186987022332515,
          0.5403182173628871,
          0.9512148079380687,
          0.6862204647376402,
          0.7004693913184628,
          0.7365289139072382,
          0.6759898620597475,
          1.0980007591231586,
          0.544334757281317,
          0.5271064394970036,
          1.0770905866378186,
          1.0124020530932047,
          0.9532605856034879,
          1.0368628608007,
          0.8982591252458785,
          0.539316972850475,
          1.1107877962692525,
          0.5363924278051557,
          0.9700505352164832,
          1.0332012602102307,
          0.6869007443222327,
          0.686852644840802,
          0.956334624395944,
          1.0064685847751251,
          0.8543899826704446,
          0.6242202553580368,
          1.0285739113312933,
          0.6710003002005336,
          0.6512444683216077,
          0.9700576976325715,
          1,
          1.1400068331997044,
          0.5687682082381424,
          1.0363787693439086,
          0.9286293930738417,
          1.014890203505615,
          1.1013814841587068,
          0.6209465957643886,
          0.9632188028217492,
          1.0289979329798955,
          1.1258701566537725,
          0.5446694720663916,
          1.042481975977168,
          1.028432207332028,
          1.0454430623678008,
          1.006888810605127,
          1.0098236245476637,
          0.9204501114915826,
          1.0789975439217532,
          0.9633975825102463,
          1.0477722038196866,
          0.5620032845832682,
          0.576792917491312,
          0.9355913732142693,
          0.8155475715793709,
          1.073142962402823,
          0.6825364703661911,
          0.9578587554063165,
          0.9497126055120746,
          1.0660614524484786,
          0.9786551701328292,
          1.1957363187332253,
          1.2257738290216977,
          0.5537742514546752,
          0.7313015516350555,
          0.6359589980453293,
          1.0498674847373572,
          0.798760292716052,
          1.023422787081602,
          0.7038847203169588,
          0.8657764075095782,
          1,
          0.6649046548841188,
          1.0528208622621062,
          1.0098040365105878,
          0.7190253911841777,
          0.5890466897517584,
          1.0040920740240447,
          0.7165971863552664,
          0.591556213869521,
          0.9836407706675738,
          0.552518270154281,
          1.0324610580923421,
          1.0499630811159888,
          1.1100632442122196,
          0.9575434409190106,
          0.9965430804021356,
          1.053743609309823,
          0.8474649133132064,
          0.6377044252814538,
          0.9357381359156351,
          0.809439583252191,
          0.9420520873887401,
          0.9589204326068127,
          1.0211493912997198,
          1.0362860980372983,
          0.9262775219002255,
          0.5566143381217069,
          1.0032410083164431,
          1.1136388113107993,
          1.1259906691287278,
          0.9812246413479911,
          0.9264076464416495,
          0.9552679786353693,
          0.5904379833620044,
          1.1211444252945737,
          0.900474488828171,
          0.6095932752955467,
          0.6811650982319104,
          0.679889498430984,
          1.071924243447991,
          0.5377226026695049,
          0.6760377384613817,
          1.0237798277366807,
          1.0328554741515874,
          1.028263536980599,
          0.9976495220787268,
          1.1329210787576929,
          0.9449339442256344,
          0.6991203418862451,
          0.6807580676651759,
          0.7226892819362771,
          0.9359927021014367,
          1.1428655003807846,
          1.1451114009584151,
          1.0447765583982518,
          0.8973567102902894,
          0.7123742374885401,
          1.1994971280366094,
          0.7425823486357427,
          0.8871619139195694,
          0.6616852879611187,
          1.0541022771057456,
          0.9316367861312259,
          1,
          0.7896714324214498,
          0.586596391087554,
          0.7288033748513244,
          1.0183226164173393,
          1.1096404713028916,
          1.035610071406588,
          1.0278634376077704,
          0.7177932928713,
          0.8732033167284763,
          1.053558201005419,
          1.0205547166801976,
          0.7738132208454334,
          1.080984603711783,
          1.046647805992063,
          1,
          0.9496371792434692,
          0.887579677573724,
          0.6339170354979302,
          0.9509650540984778,
          0.981244752061776,
          1.0636714707436097,
          0.8068677411711462,
          0.9769602560665838,
          1.0331171306109346,
          0.9456348250455321,
          0.586289961050628,
          0.5823682979647518,
          1.0142857366853801,
          0.901496927189366,
          0.9635638530124229,
          0.957543943828708,
          0.5639216118017105,
          0.9346168584233148,
          0.7608152347002436,
          0.7379242474730598,
          0.8655657788720348,
          0.9351961315333122,
          0.9382855588776609,
          1.0562487778967231,
          1.0340750178069973,
          0.5609922167615657,
          0.9541696916524267,
          0.7573096914744744,
          1,
          0.804378429704993,
          0.8774415313110338,
          0.5677105014425575,
          0.9534275680536884,
          1.0349240252079535,
          0.6634555245507507,
          1.0125307233816652,
          1.0398435171275036,
          0.8731533952495751,
          0.7145461708601719,
          1.1294772469044405,
          0.7599434298037291,
          1.0117776812847599,
          0.8798555049811806,
          1.1465832384270032,
          0.9222474954788055,
          1.1050495445357775,
          0.8017308496651916,
          0.7204547456916293,
          0.6071661198757228,
          1.0442381203786129,
          0.9378538055907897,
          1.0429533640372062,
          1.1038043820259862,
          1.0226658956113621,
          1.1192476403716431,
          1.062196661225066,
          0.5478782102892872,
          1.0834416990958082,
          0.8700904298236323,
          0.9134181268667787,
          1.071427632105649,
          0.8596423331265279,
          1.0776148989072118,
          1.0495308460292183,
          0.9680069482270364,
          0.9604623330626139,
          0.9068625906847069,
          0.99379211423062,
          0.9240972240782723,
          0.5745744737925051,
          0.9628107195280277,
          0.9405906274704645,
          1.0125063847484426,
          0.6878536945805495,
          1.0840571797411511,
          0.7473687992501463,
          0.9899895198243709,
          0.8417159306180116,
          0.6457269646616784,
          0.847677951159422,
          1.0565708890889502,
          0.6532036341615757,
          0.7111846385848909,
          0.9343328621326219,
          1.1120532593661858,
          0.8282686480999608,
          0.5991480974413148,
          1.0531755784869716,
          0.8570982856101668,
          1.0684134096889844,
          1.0552292437908761,
          0.5733681936180715,
          1.0195949629144105,
          0.9124564425864247,
          0.9096543363928895,
          0.8368943703263292,
          0.6768056129773563,
          1.0365155972189282,
          1.0599254923828714,
          0.7558056804171761,
          0.727763973846735,
          1.0059214964207148,
          0.9935785349673636,
          0.7741539505241947,
          0.7433605733695683,
          1.0240434476354583,
          0.6737886865398119,
          0.5884868111496804,
          0.5679409211385922,
          1.030591848954932,
          0.8698791241377863,
          0.6887856360262656,
          1.1277973257315033,
          0.9957336096296291,
          0.5802606068751639,
          0.9235575446156415,
          1.1199083771059644,
          0.5846249045563332,
          0.9515453950922709,
          0.9792215468276784,
          0.6583951744932519,
          0.9893344919343654,
          0.7285326284371355,
          0.7725681164890215,
          0.6132504504487141,
          0.9530387145665979,
          0.9807809976925017,
          0.6947065284897863,
          0.6884906470026088,
          1.1655179454812978,
          0.9057608210281466,
          1.0350809931087186,
          0.6291675997597905,
          0.9656188654961193,
          0.6762897571149867,
          0.9670090754079326,
          0.589226935519366,
          0.6041874458998407,
          0.5958359645544848,
          0.5859149628908447,
          1.0584806607086967,
          1.0275482967331646,
          0.8725461209430893,
          1.0736015442871758,
          0.999298568399436,
          1.0880851493615062,
          0.7607728859261218,
          1.0690629998890442,
          0.9449490107694518,
          0.6551488910541308,
          0.9439670113177083,
          0.6028398339527647,
          1.0198681920888406,
          0.819480335737598,
          1.0698815827817536,
          0.7203637905945383,
          0.8964850748566707,
          0.594333453393169,
          0.587953156634195,
          0.6724235952153379,
          0.5877557138803391,
          0.9768576943754093,
          1.2825649566182018,
          1.0034516493038088,
          1.0561658246708396,
          0.95866943718514,
          0.9974608936902369,
          0.9931951671060146,
          0.7359639684893201,
          0.5780159953222883,
          0.6300056060124434,
          0.8503020999377854,
          0.9454345664541584,
          0.7427313030086109,
          1.0483942166003508,
          1.0104987473093694,
          0.9107157794044676,
          0.8957170501667437,
          1.0077981815354966,
          1.0578559210882035,
          0.9226934588953448,
          0.7448929700467439,
          1.0200950042860133,
          0.8762602538183615,
          0.876110740054165,
          0.9375051613381267,
          0.91573304594811,
          0.9907898043105317,
          0.7864571071368305,
          0.6246301832438221,
          0.7836000173826989,
          0.9452067913263866,
          0.9294604681591365,
          0.6105994152605685,
          0.7052768982705457,
          1.1093763207462866,
          0.9591696324028652,
          0.8158048442732928,
          1.0613160684830856,
          0.9961888550668818,
          0.6940349865676345,
          1,
          0.9414908204248132,
          0.6201114968857091,
          0.5937061031622177,
          0.9577224577676419,
          0.9235140881702434,
          0.6507905558167075,
          0.9710258303453609,
          0.9913366807208583,
          1.0096762413198672,
          0.599748946885606,
          0.9458911644180296,
          0.5938583510536586,
          0.7026339003192961,
          0.7894907475373995,
          0.9150678769223486,
          0.9151475457127748,
          0.8854997718571527,
          0.9279707921276291,
          0.9938748716126009,
          1.0046459518469681,
          0.733067467103954,
          0.8904809295326491,
          1.0424308210052495,
          0.9817835026804247,
          0.9736858382127753,
          0.7780249852871237,
          0.7694426930238848,
          1.14473924920223,
          0.9935718884502583,
          1.1106287394668328,
          0.7925245966173251,
          0.8253224016061684,
          0.7819507059770989,
          0.8826184614905583,
          0.9958026743575878,
          1.0696739255541334,
          0.9132098990154487,
          1.0531764258726288,
          1.0972358940566316,
          0.917314235705142,
          1.0787880368745721,
          0.9036936006358713,
          0.9186524624732078,
          0.6093508894375894,
          0.9981473974841393,
          0.9708899506321929,
          0.7778686452719861,
          0.704102582456321,
          0.7043371476493651,
          0.90918452581716,
          0.7555502408779275,
          0.9992404098379969,
          0.7682429225792711,
          1.0890888994900563,
          0.8902386845483974,
          1.0728094467161777,
          1.1190816884743071,
          0.8821092040402979,
          0.6179948915851807,
          0.564577000248401,
          0.7731568524181921,
          0.8680480517228438,
          0.6002346163321797,
          0.9344711213780541,
          0.6075847048460208,
          0.8777473003633716,
          1.0250686767530794,
          0.9802727964813334,
          0.983264691983029,
          1.0035885060630851,
          0.9385814615814356,
          1.0612965225874993,
          0.8572380583410131,
          0.9103419772912481,
          0.9014087752534956,
          0.8193991525072768,
          0.7688007077102093,
          0.6159545545111345,
          1.187264527996934,
          0.7301496749728016,
          0.9926848868014337,
          0.971806608530788,
          0.6334155217094585,
          0.9016856528171426,
          0.7047451203057341,
          1.1196911340829991,
          1.1521242121173827,
          1.0419525090663164,
          1.0685560907827458,
          0.7302336621461348,
          0.8503658670747821,
          1.1115404772381594,
          0.9287303962710785,
          1.1022379537184575,
          0.8370190039501009,
          0.8547769702998256,
          1.039291898011946,
          0.9379946098736429,
          1.0124006599362643,
          1.0015698607675212,
          0.6394614638117757,
          0.8597670553657307,
          0.9269292156063138,
          0.924274070436975,
          0.8973870361106835,
          0.9678405859552033,
          1.0817323593715416,
          0.8825059666505257,
          1.0681228135968739,
          1.020456681396555,
          0.897658903283198,
          0.8890409962484184,
          0.9667339878779131,
          0.8729255719439036,
          0.9334268628768851,
          0.8909190138992682,
          0.9365730435167929,
          0.6526669184900242,
          0.7213111523331411,
          0.9763314282513389,
          0.9265965789538331,
          1.0163125445806733,
          0.9825009982213858,
          0.6157119851373533,
          0.7726571085314724,
          0.904589201811312,
          0.7251439188905171,
          0.6598651031722478,
          0.5908171498546269,
          0.9931747772298816,
          0.9360834198368861,
          0.7507217119290305,
          1.023459334933437,
          0.830424354677375,
          0.9363097845755621,
          1,
          0.8766496170836509,
          0.876914298896199,
          0.9125745770585348,
          0.9762495260578151,
          0.6904016715074215,
          0.8408933231905478,
          0.7787024357964052,
          1.174843555384452,
          0.6033068243215873,
          0.9544003426397993,
          0.6125867103643095,
          0.6047422070517298,
          1.0807391558453119,
          1.036913944085113,
          0.5894310320034059,
          0.9667121208534922,
          0.911937390832619,
          0.9594497469701384,
          0.9158388610387607,
          0.9273050071404065,
          1.003955134113013,
          0.6856501622709346,
          0.6102691195308755,
          0.6847544230343537,
          0.8860104444114332,
          1.050800342660525,
          0.60288290421266,
          0.797272073463164,
          0.9022348591664129,
          0.9174925805522303,
          0.9135971729836612,
          1.082247775792824,
          0.7048178274837265,
          0.9490879884971976,
          0.6164667255073337,
          0.9225624678159041,
          0.9321211905251222,
          1.064813139804968,
          0.9926512691739113,
          0.938293146036131,
          0.8487347060251036,
          0.8313688779896246,
          0.9053163104057484,
          1.022402915025043,
          1.051538264984859,
          0.7203468471272335,
          0.8744524125284087,
          0.8979713405671693,
          0.6184885204133697,
          0.6991606297332199,
          0.7833540617757817,
          0.7972035282467046,
          0.8094717642632727,
          1.2257107979961828,
          0.735480861649179,
          0.8992116376146614,
          0.6258808995483085,
          1.1152308643981446,
          0.6748629219877588,
          0.6196498062306813,
          1.1233433011278642,
          0.7125017366127959,
          0.6294560947872441,
          0.8241117305722131,
          1.0672588334218749,
          0.9214077872600878,
          0.9385403637938141,
          1.0037241588690144,
          0.8939738637663193,
          1.0758131788786471,
          1.1343448088032593,
          1,
          0.6390099285292034,
          0.7870583043028754,
          0.7190873489720199,
          1,
          0.7346475508920822,
          0.9677307820154576,
          0.7006917871554215,
          0.9675477681596585,
          0.613279188510195,
          0.7799749579213475,
          0.9726415359004497,
          0.8965650620551608,
          0.849197145622077,
          0.8567309406441583,
          1.0466122721964075,
          0.8156793575581667,
          1.054765265117397,
          0.7302572114492347,
          0.691994705082382,
          1.055991702762046,
          0.8707941853107659,
          1.0790255060812746,
          0.8662495566384987,
          0.8067456728193738,
          0.8193220702058359,
          0.6186070957791194,
          1.0672969667025014,
          0.8671640467429013,
          0.5991512004513552,
          0.6146265704687828,
          0.9117236874234715,
          1.039235768840204,
          0.6142046097694095,
          0.861905228803022,
          0.9458720784809238,
          0.921936005834743,
          1.1167215555153724,
          0.6712640406870147,
          0.8787323410952594,
          0.8381773492331414,
          0.8724205633629107,
          0.9354021906275758,
          0.809598174853056,
          0.6264611025005077,
          1.0909311851074694,
          0.9373754941980346,
          0.9763844278106508,
          1.0345258636477006,
          1.0077355303478648,
          0.847300389056727,
          0.6194788395249483,
          1.1916937774083258,
          0.7937072468147971,
          0.764682882185628,
          0.995371776130056,
          0.6451476568522809,
          0.8574244385797349,
          0.6911756977610566,
          0.7684545782665241,
          0.8010892356078776,
          1.0675516259932905,
          0.993363612957064,
          0.8199812165639122,
          0.8684025864226654,
          0.8712077053867455,
          0.9220984273765064,
          0.6522807690685315,
          1.0405990093398727,
          0.7344924027179691,
          0.8968251586935252,
          1.0210044238059062,
          0.6166842099604621,
          0.9981442552689315,
          0.9071829217021251,
          1.102867996752003,
          0.9116312696336775,
          0.9807932580395022,
          0.9169516050625797,
          0.7992362136506339,
          0.7683787798392094,
          1.084763390156041,
          0.9042115034855654,
          0.6212300752140806,
          0.875852857020361,
          0.8483388013598436,
          0.9281283801625231,
          0.9469918334313054,
          0.5943244279879558,
          0.8527462276645419,
          0.7294543415846513,
          0.9664496586968536,
          0.8675801310318588,
          0.6590562279290383,
          0.7976539371582833,
          0.7892242108388614,
          0.8592653116157536,
          0.6235824463456229,
          0.9860038980415617,
          0.800268832190971,
          1.1744435994341744,
          0.857260470752367,
          1.043682907925103,
          1.211948192523806,
          0.9005365349598768,
          0.7270164891983728,
          0.9666814785724327,
          0.9396803707173319,
          0.9884677529490138,
          1.03135505984528,
          0.7418336368259569,
          0.9068876954748628,
          0.9890096098374095,
          0.9444510709673641,
          0.7959597976761831,
          0.9126474093456509,
          0.8888109781390956,
          0.6432099464256793,
          0.729624953019227,
          0.6395260050603662,
          0.8704574976099055,
          0.939585876184084,
          0.7008110840808116,
          1.000876979478261,
          1.107072509862282,
          1.0634157860841933,
          0.9125159735231456,
          0.6249914485478338,
          0.6454528115771228,
          1.0462423457072267,
          0.848381912923351,
          0.6370607868142283,
          0.7446343982530547,
          0.8982878769239329,
          0.8106995724993706,
          1.0163038789368417,
          1.2364151180902923,
          0.8154232381870372,
          0.644411849656005,
          0.8895254164547267,
          1.0289003345246812,
          0.7961085139869284,
          0.9955276164631648,
          0.8464094510929985,
          0.7294075867603289,
          0.9374718291205411,
          0.8535170108509643,
          0.8581684405614585,
          0.978305873640811,
          0.919903958215017,
          0.8086311491454673,
          0.8054724982773154,
          0.9688413097187716,
          1.120395264259559,
          0.8214126056507034,
          1.0386161143074315,
          0.6878290760753225,
          0.9025280604116815,
          0.877213247469064,
          0.8838115505016126,
          0.8810937219402697,
          0.6752902352902987,
          0.9659257582512375,
          0.6407848022025044,
          0.8998669984869295,
          0.5877420244219544,
          0.8092595980514536,
          0.8194691467567062,
          0.8746280292167743,
          1.0384169170101285,
          0.9230666589179026,
          0.9264465142674642,
          0.9396206148959544,
          0.8655902536194946,
          0.9538268738498248,
          0.7124126448081284,
          0.7794117296801921,
          0.6561551698103971,
          0.7602060523427934,
          0.8923688101230818,
          0.7977356586828446,
          0.9258720742855892,
          1.044493553333819,
          0.6404359451306899,
          0.9465005393750245,
          1.083916349127157,
          1.054703418713146,
          0.692415567982822,
          1.128996505982093,
          0.8660350473732633,
          0.7420554909804417,
          0.9557424937164334,
          0.8408683794216717,
          0.9484491982108363,
          0.7252874479177096,
          0.8588826920246506,
          0.6934347694294443,
          0.9308379269265457,
          1.044120369306511,
          0.8760279096021109,
          0.6687442958180171,
          0.8108175467488296,
          0.7027600516766837,
          0.7647836039596867,
          0.7462883063039809,
          0.9511217957709159,
          0.6324946920519359,
          0.8503453895478557,
          0.792882388732242,
          0.7831783163954603,
          0.8312079995322603,
          0.8582200267435842,
          0.9154537693106966,
          0.9582484986919406,
          0.7755520243765752,
          1,
          0.7080250783057561,
          0.8426064699977027,
          0.6621000406007495,
          0.6347410834567935,
          0.6326618758606524,
          0.9656657198158777,
          1.021096092611236,
          0.8513563275804804,
          0.6427627978319356,
          0.6546281460544456,
          0.8043194714502353,
          0.9155757223492359,
          0.9637388329414387,
          0.9280183899155281,
          0.9662878969825154,
          0.762178591561739,
          0.6207388591058399,
          0.6627108900483234,
          0.7034248592690883,
          0.9467681364625598,
          0.8536520607520908,
          0.8576517679740268,
          0.9097755325491617,
          0.8037958438648722,
          0.7544358688776676,
          0.6405774745492271,
          0.8808888519897988,
          0.7204181208047035,
          0.8722718583575484,
          0.9987945321177929,
          0.9367916398592837,
          0.9109501005253618,
          0.6437227775903572,
          0.6511705016723637,
          0.908081274127541,
          0.7581203436634332,
          0.9218502670298326,
          0.7071194044023867,
          1.0143608490680298,
          0.9514780737217465,
          0.689959545537224,
          0.7739826086417714,
          1.0156636590838144,
          0.7130633946137434,
          0.9443404727233708,
          0.8005812967700021,
          1.0465749506102238,
          0.6451685258773436,
          1.079248544925796,
          0.9218071920202247,
          0.8519561779377357,
          0.8162708366492234,
          0.9875695008433503,
          0.9256716587267133,
          0.9600543772053476,
          0.6497684277953804,
          0.6875648990949522,
          0.9709233340621897,
          0.7930924772113415,
          0.8796306759598767,
          1.2288109170584032,
          0.9172416287899998,
          0.9189024608565641,
          0.9271461672398559,
          0.7936182421607643,
          0.7231990635164098,
          1.0314028644906361,
          0.7404313687137629,
          0.9565821728895154,
          1.004614640962756,
          0.8073245967420697,
          0.8743888842530119,
          1.0523945810370507,
          0.746579606530565,
          0.6667359065156473,
          0.9669325402941209,
          0.9727582695303137,
          1.0028911824281552,
          0.8265044942002093,
          0.9478329567144868,
          0.9528984122129509,
          0.895007141352236,
          0.6412913408750127,
          0.8065380552603976,
          0.7830163206377241,
          0.7354153497792406,
          0.7687132073347098,
          0.979373422085688,
          0.725720539044279,
          0.897032436565462,
          0.7911217489910978,
          0.6652155504764292,
          0.6560096450985906,
          0.6353173909376173,
          1.0809420663037912,
          0.7163181302164663,
          0.9749760698334438,
          0.8618217914429045,
          0.7767726096614135,
          0.6415246724434381,
          0.9888901958517295,
          0.893351218668363,
          0.8086841201020598,
          0.9143468242852973,
          0.8654494753106698,
          0.9306610253039692,
          1,
          0.7534111853623089,
          0.8481423389483103,
          0.9388290336117047,
          0.9522499300749006,
          0.9063658211539356,
          0.8148901842536097,
          0.9744772614187804,
          1.1865297906538217,
          0.8112353685561149,
          0.6595591554570905,
          0.7921266423905816,
          0.6364482754438328,
          0.9160494064740212,
          0.7093124986980167,
          0.9376977452210771,
          0.7456921947211089,
          1.04914811613284,
          0.7595450471357843,
          0.9532029548669287,
          0.7175056030305931,
          0.693608023597789,
          0.6138555264220564,
          0.9960367019376173,
          0.6777306130914936,
          1.0164050482639275,
          1.0777038925789881,
          0.6576332841983796,
          0.835345716376682,
          0.6865820249276988,
          1.006536634004139,
          0.9449698689530845,
          0.7336395767606549,
          0.899965375611882,
          0.7325375928936645,
          0.8855630963053365,
          0.9945870982795926,
          0.9931707577392599,
          0.9674411901932398,
          0.6661861067864251,
          0.7691205903772005,
          0.9092688100986971,
          0.9636804630018652,
          0.9586363325772956,
          0.9084526726631859,
          0.8311773539574053,
          0.8451567328945322,
          0.8776250731142297,
          0.6450207219205115,
          0.6495294072866038,
          0.9792445346521778,
          0.7271051344648123,
          0.9738226054624441,
          0.9802652179961842,
          0.9514873273541076,
          0.9158574422289143,
          1.1021941616606563,
          0.6467090090702281,
          0.9849170147826869,
          0.7275061504474442,
          0.8016973505485028,
          0.9829661574426305,
          1.0261812122986518,
          0.8351955152309499,
          0.6780283311596637,
          0.7268026871078116,
          1.0945875499136068,
          0.7767957797018114,
          0.9031766400537184,
          0.9147096438972295,
          0.6872002275820411,
          0.7872769497097278,
          0.9468983626410947,
          0.6499837968009488,
          0.9364196740388433,
          0.8358794625318478,
          0.9591984262553499,
          0.6248847114573831,
          0.9681972411488727,
          0.8797012954085812,
          0.864803506854205,
          0.8256237168774166,
          0.964336987270153,
          0.9034324303440986,
          0.8621260036874892,
          0.6533213794252516,
          0.9760332167674998,
          0.6603753012315561,
          0.893915458782518,
          0.8937889755416535,
          0.7565897673494569,
          0.8234274822537073,
          0.829441082721446,
          0.661130123305606,
          0.8423068628806145,
          0.9388716831128917,
          0.779218129991098,
          0.8915878833406722,
          0.94270795743767,
          0.864391192520822,
          0.673344334215124,
          0.6510041525395758,
          0.7057174958051944,
          0.8837143565263492,
          0.7917179198447306,
          0.8649486343078127,
          0.8420997306327835,
          0.8494969366593584,
          0.7775861096205177,
          0.9357430939174407,
          0.9956602621327431,
          1.0171504935397113,
          0.7868455682627671,
          0.9503351847551227,
          0.649350586348528,
          0.8855704094341001,
          0.9315942601265701,
          0.8992508015148539,
          0.8173850195450333,
          0.9224833153794718,
          1.122010630784363,
          0.8939403626369575,
          1.0218072984939186,
          0.8343381404914975,
          0.8857257428579273,
          0.9938285220485468,
          0.8652244401461489,
          1.002561589085131,
          0.8855552385893896,
          0.8979954361607467,
          0.6599790895535609,
          0.6427904074504364,
          1,
          1.1189975128119496,
          0.6539596082261068,
          0.9036475903138214,
          0.8249974401515424,
          0.8533488807380387,
          0.9366847308958851,
          0.7200208620965916,
          0.8376314085578171,
          0.9366544963540853,
          0.6487358700855343,
          1.1805743231935226,
          0.9041093342824599,
          0.7015800250337474,
          1.052900088067477,
          0.9046428309987347,
          1.0011154286265642,
          0.6671553135101085,
          1.079457119167155,
          0.7064910595426422,
          0.7072737121557876,
          0.8034950162733516,
          1.1379656684872292,
          1.0886777185708594,
          0.6473968995790105,
          1.0109157838364005,
          0.7323003014935852,
          0.9645973728580257,
          0.6638981829272507,
          1.0165185851498695,
          0.6610433837524841,
          0.8582162227450164,
          0.6838265736158212,
          0.6709384069589475,
          1.0037537000072916,
          0.6583378054446863,
          0.7872243368943661,
          0.988712304999742,
          0.9741884486429098,
          0.9622743183700584,
          1.0093414938232297,
          1.0228836381576958,
          0.6647377178271205,
          0.9786801612754026,
          0.662731092805143,
          0.8873489232047569,
          0.9712349620789006,
          1.005077604078845,
          0.6533172999181089,
          1.1169462846220886,
          0.9228989050725882,
          0.9183700893917837,
          0.650006507301911,
          0.8666053148530899,
          1.1499503581808805,
          0.78102861066041,
          0.8540604545054811,
          1.0796257369521056,
          0.8080238946763755,
          0.7990298624782076,
          0.8759816216661116,
          0.8137266794338724,
          0.6738543427075832,
          0.8144259289361976,
          0.9418344288783109,
          1.029203973212389,
          0.8290742057092135,
          0.850214011767169,
          0.7306026409543785,
          0.922817191800569,
          0.9112694685974226,
          0.8623215417289839,
          0.6561746101827939,
          1.0715182720420056,
          0.9302059752829985,
          0.8318489766478059,
          0.699821233417048,
          0.8640943848176015,
          0.6889912633476378,
          0.7319838604116752,
          0.621874460470828,
          1.0316729756430298,
          0.8649139911784924,
          0.651581104803721,
          0.7779663286971659,
          0.966861558206041,
          0.9110673679709478,
          1.028203063535503,
          0.7226445597514625,
          0.6696074761656758,
          1.0063976571875495,
          0.8094514907728168,
          0.8445909461882649,
          1.0550138014949155,
          0.7206814456582951,
          0.8446640783711948,
          0.8872290228047333,
          0.7391112379916245,
          0.9686000124791075,
          1.0225056375771322,
          0.9250787968439755,
          0.8710771417523755,
          0.8824234464431983,
          1.0324050318449634,
          0.8371578435538034,
          0.9009403975504644,
          0.94859819473854,
          0.8382010451384987,
          0.92808681582661,
          0.6619174909381579,
          0.8561840178466029,
          0.9807678677125221,
          1.050775102399591,
          1.0886242392667396,
          0.8076888808826957,
          1,
          0.6824321084326215,
          0.7467332632164085,
          0.6267078524548784,
          0.8161792492682047,
          0.7703390590853908,
          0.8803896147662886,
          1.0983900390267163,
          1.0204577785126656,
          0.6594541533107743,
          0.9404422724016146,
          0.9940123408467274,
          0.7249093618356051,
          0.8724042769043086,
          0.9414924932878856,
          0.8616921321626135,
          0.7610682797630657,
          0.8521263302170718,
          0.6536229200216978,
          0.9774169694557722,
          0.7395673142984727,
          0.7883743114439907,
          0.9713352902353439,
          0.7222143740280411,
          0.9903725201954343,
          0.913173778673511,
          0.8725383969040355,
          0.9127125833513018,
          0.8403265710794242,
          0.8136915196644182,
          0.8915986902211817,
          0.9486715406766232,
          0.9142853465102053,
          0.9978591794332827,
          0.6636033600947093,
          0.8363608395198772,
          0.6988737269259904,
          1.0668174077664094,
          0.8751557224570949,
          0.9086266879724165,
          0.6697117369264807,
          0.9277197346685832,
          0.9217009468502777,
          0.8227456529481232,
          0.6625810147452086,
          0.7330359569069289,
          0.7827268913306556,
          0.8983672842198536,
          0.9963647742861172,
          0.6535598612376432,
          0.7920735213288687,
          0.8345650019480455,
          0.8566939178976425,
          1,
          0.6764772301162982,
          0.9794129082526456,
          0.9465717806469829,
          0.8142250122620833,
          0.9494780761409947,
          0.6716028687536735,
          0.8434953888437327,
          0.8332700111610375,
          0.677567732059394,
          0.9654299639555901,
          0.7765463804816698,
          0.8428731919518899,
          1.0102992498798853,
          1.0177199556905092,
          0.6715880986809047,
          1,
          0.7063735164696111,
          0.8906266047763867,
          1.0139977483986569,
          0.6746846916354374,
          0.9147461818022948,
          0.9066163857304337,
          0.980975129499454,
          0.8829741818618415,
          0.7056319062142564,
          0.7817182429436473,
          0.6725684292449743,
          0.8704423759457188,
          0.9350803399529172,
          0.80721428190223,
          0.953497054416069,
          1.0001760252525123,
          0.8016598244986506,
          0.908805641715901,
          0.9530102709755511,
          0.9089070256242331,
          1.0708800489437316,
          1.029573403612795,
          0.7180653429537719,
          0.8823563372460272,
          0.8358199879256559,
          0.9425764299876772,
          0.9478081722357129,
          0.8492338949397127,
          1.039072337956583,
          0.9953869385835419,
          0.874698421729797,
          0.8977709572748325,
          0.9278718613565282,
          0.8792701156843046,
          0.9155029139972555,
          0.9080989542178949,
          1.0822072317675828,
          1.0247447906272253,
          0.9272724493930443,
          0.8231089630734186,
          0.9443321364575512,
          1.0057818771257183,
          1.0045883087557619,
          0.9255358304238523,
          0.6705026653145532,
          0.9018874897962428,
          0.904705215572273,
          0.7886316063672354,
          1.066122863074942,
          0.857568900636871,
          0.935044000882679,
          1.070457112189254,
          0.9196369704105699,
          0.6791024827494693,
          1.0461836845567156,
          0.8724137013360715,
          0.822138072002375,
          0.7653777671136601,
          1,
          0.6674365811317671,
          0.9072897144790676,
          0.8571504729254902,
          1.0659541210688814,
          0.8681930259205161,
          1.020780254175067,
          0.9094044784711117,
          0.9138701285718585,
          0.8052412994008351,
          0.8586427700155677,
          0.7049471742131326,
          0.9376876312971772,
          0.7118599990710507,
          0.7242595358482351,
          0.678457529461391,
          0.9731357359440402,
          0.9601470131301825,
          0.9191671156952855,
          0.8481951705517061,
          0.9231873938160007,
          0.9232191036435452,
          1.0605147112604083,
          0.919939636622916,
          0.9833156203266319,
          0.8994839466848001,
          0.8670690489894219,
          0.9946276770230436,
          0.8633369044015231,
          0.8762140211907096,
          0.6691337642422324,
          0.9809272231279702,
          0.7929257191678891,
          0.7715399392373883,
          1.0259000970289915,
          0.9384540363046194,
          1.0991344584284852,
          0.8801534432497303,
          1.0650377653173464,
          0.8743740273600582,
          0.8752166881945675,
          1.0935377636191568,
          0.8760548544648222,
          0.7000888365802261,
          0.8627312890938645,
          0.96856898025516,
          0.6878714335594878,
          0.7311489979374813,
          0.9776589054054048,
          0.9732212983979567,
          0.6719930077537126,
          0.8532411067337957,
          0.879125865910602,
          0.9347238407455514,
          0.908090473812178,
          1.0368529539736409,
          0.9582856022916753,
          0.9342256904078984,
          0.8858863484633706,
          0.9578090327188405,
          0.7167807596919925,
          0.9452256256645946,
          1.010179273515896,
          0.7350791784196692,
          0.8443532303940621,
          0.8900691924063566,
          1.043440501585904,
          0.8598955109967757,
          0.7260392930844468,
          0.6655217951473962,
          0.9879537681026185,
          0.8284140995913952,
          0.9539581761706682,
          0.9326901749122419,
          0.6910901061917285,
          1.074890014306996,
          0.9994867058162016,
          0.8895368301517955,
          0.8590887943767616,
          0.9403323659293774,
          1.0500680061528027,
          1.0983790930275779,
          0.7385984257504651,
          0.7696682967637443,
          0.7643335644995004,
          0.6650293046339869,
          1.009747425866786,
          0.8052650261044927,
          1.0032313119787188,
          0.8160370271306817,
          0.838534800195506,
          0.8171996688969078,
          0.9595621339021471,
          0.9338963155100819,
          0.7288629810424833,
          0.9882609133006288,
          0.8657259779477925,
          1.0353076248361228,
          0.853653860187974,
          0.6968081178574604,
          0.934281826225774,
          0.8837948270047506,
          0.8784146763343583,
          0.9126588304531198,
          0.6960429344146072,
          0.8006645829051101,
          0.8655813523850941,
          0.7924891269869815,
          0.9457835875886191,
          0.8757855671930799,
          1.0012188172406762,
          1.0219854417247203,
          1.01922536552344,
          0.9325030932274834,
          1.034246187403633,
          0.9078459088589486,
          0.8278779334042706,
          0.9999982794364465,
          0.88167614338024,
          0.6807591609493678,
          0.6542066407046433,
          1.0358497680461811,
          0.8893287002099219,
          0.805704512541569,
          0.9986346197191164,
          0.9744125591327417,
          0.9380413521763098,
          0.8030515278961352,
          0.6799382220591457,
          0.8758703862974919,
          0.8559979261063194,
          0.8742574256616892,
          0.9038807034441706,
          0.9973161626505591,
          0.6791901892174182,
          0.9055212175690469,
          0.6827094809553257,
          0.6915091609580458,
          1,
          0.9054865688162312,
          0.9220113679017397,
          0.8305363415063014,
          0.9125020738161775,
          0.7535007734958028,
          0.687019879081595,
          0.7021660370100747,
          0.6843304884049217,
          1,
          1.0657993492283862,
          0.8772566692099839,
          1.0295038807554733,
          0.8763700002921031,
          0.8823880267169446,
          1.0117805307635068,
          0.9098102025691659,
          0.6947318012063162,
          0.678187629338892,
          0.85436484107683,
          0.9414970313579236,
          0.9909825181315448,
          0.9098893520535138,
          0.993319985573451,
          0.6989082260038543,
          1,
          0.6800646528722226,
          0.9739283724921486,
          0.9522710740536341,
          0.8532677422164943,
          0.9025352245177113,
          0.7099835590595063,
          0.7161247407027904,
          0.9319460943017321,
          0.9077087961507997,
          0.6832835044550923,
          1.0076016192683328,
          0.7871945727209984,
          0.950550887203675,
          0.8069388833118226,
          1.018917236814124,
          0.6873813775815054,
          0.942312337100428,
          0.9044947971900348,
          0.8439329535566513,
          0.8371702659152283,
          1.0101928492560681,
          0.8655607192879822,
          1.0145188577763973,
          0.9634511442632882,
          0.9461075555815912,
          0.7973842428259922,
          0.8949092842585593,
          0.9155498525582269,
          0.6993176598964772,
          0.9959978771669277,
          0.8280814133339696,
          0.6988208396900719,
          0.7969074860416742,
          0.8988773800620464,
          0.9511749823626185,
          0.6703275627989596,
          0.855430314529463,
          0.9277908991752684,
          0.780654602587619,
          0.823250167764022,
          0.9492078422810933,
          0.9334894135469396,
          1.055255386162913,
          0.8721419577029625,
          0.9498107818367838,
          0.9124009045258976,
          0.8027356587057565,
          0.9194022098680583,
          0.6989756078609863,
          0.9410457653057351,
          1.007911545645092,
          0.8984824614285708,
          1.1273292862181208,
          0.6898931384801164,
          0.9136910375863265,
          0.6902830067546485,
          0.9854996686877392,
          1.011643129695515,
          0.9062104671033955,
          0.9784364990837867,
          0.7296093174067861,
          1.0105585703329583,
          0.8558027410888797,
          0.6936204490511739,
          0.6864076106858141,
          0.9563943062807356,
          0.7126224069744372,
          0.9293534786237402,
          1.0276192745930768,
          0.904453234813742,
          0.8595327205265167,
          1.0240352529348173,
          1.018756871853507,
          1.000374570873741,
          0.7059593202031546,
          0.8411128497933184,
          0.9442629755352319,
          0.9113163307305624,
          0.922190606189706,
          0.681998326790046,
          0.6999644720662427,
          0.7144669310709504,
          0.9421808795662003,
          1.0024821915983981,
          0.8597265127108873,
          0.7023666617997971,
          0.6989675820351732,
          1.0625493279673002,
          0.8568120895043678,
          0.9276880090614066,
          0.9092585699443074,
          0.9648597136711644,
          0.7012276481703192,
          0.6898234226025872,
          0.6852683971573269,
          0.7079803497219537,
          0.84501637530399,
          0.8368246231765818,
          0.7141430722741896,
          0.8307807314229866,
          0.8565680807014967,
          0.7401365301532563,
          0.9143175324269626,
          0.8252732243631691,
          0.9804446175212388,
          0.8188663021445103,
          0.6992794080584611,
          0.8375825454229174,
          0.8040749666710454,
          0.801024724132413,
          0.6720959073892274,
          0.8649436187227241,
          0.8865760751838354,
          0.7754949512137209,
          0.7776776456608456,
          0.9768368970617194,
          0.9329423336391072,
          0.6958080879844906,
          0.740348552438678,
          0.8407441576788758,
          1.0662935034897367,
          1.0088386846028903,
          0.945441149434106,
          1.0695507456121782,
          0.6936766061860149,
          0.7020182856444352,
          0.8954579010719631,
          0.8505202263727752,
          1.0350659657448162,
          0.8638700951619874,
          0.9313922722649225,
          0.6697744495961273,
          0.6963082063121826,
          0.7285763338700848,
          0.8171330180133216,
          0.8601095043966416,
          0.9273976750212938,
          0.8558905286130781,
          0.6863528386663198,
          0.8705754086810226,
          0.9162857912595246,
          0.8872343086187113,
          0.8251455311900796,
          0.9346161052186874,
          0.8235453558713896,
          0.933525285373358,
          0.7010807948790774,
          0.7053452847894472,
          1.0411827415135808,
          0.7190566102423668,
          0.7629940394212679,
          0.8357425725537977,
          0.7897781679335967,
          0.6895231032629574,
          0.7052642134148591,
          0.6913714640181363,
          0.8687938040772113,
          0.8233374538593176,
          1.053305104477281,
          0.8947400894503563,
          0.8119259463766613,
          0.6832501505924706,
          0.888497749776804,
          0.9490760180292119,
          0.8436569258679751,
          0.8945341338360819,
          0.9113566729190191,
          0.856814529055324,
          0.7388220523619302,
          0.9676737337743888,
          0.7189846749057706,
          1.0812776211197324,
          0.9754719275133934,
          0.8928724337922432,
          0.907681573317721,
          1.0093432784743328,
          0.6969775304129058,
          0.9852191297624837,
          0.9045333655949434,
          0.8339276362639947,
          0.8419618232082821,
          0.7155440727874909,
          0.9505907343575905,
          0.8283886967830165,
          0.9851802084685899,
          0.9282827761182207,
          0.9910424423429598,
          0.9889047472644665,
          0.8658082038251027,
          0.9056366300625317,
          0.9457845396585294,
          0.8494203843969453,
          0.9389509171797227,
          0.879769206695592,
          0.7372802496765344,
          0.9494294825294135,
          0.9494370293603211,
          0.6885299887459033,
          0.7591376360349309,
          0.9132327273501064,
          0.6958452335254189,
          0.8380479640596877,
          0.9302587629399568,
          0.9171246046370809,
          0.8304805905655015,
          0.823581175160861,
          1,
          0.824713670616996,
          0.7138348613975213,
          0.9820746435696132,
          0.8513267583967391,
          1.0369151879059522,
          0.8351033970666374,
          0.88428563958765,
          0.7041160178681316,
          0.9746557881114333,
          0.9074741385966905,
          0.669792557199766,
          0.9310751290539948,
          0.7062889444954795,
          0.723731623130889,
          0.9540791062412775,
          1.1175184828104034,
          1.0102522748319445,
          1.022427245476241,
          0.9913257940041326,
          0.8423916826567635,
          0.9147756146403022,
          0.6987385245479955,
          0.7038344199220264,
          0.7424475370601793,
          0.70945059676106,
          0.8237007899568897,
          0.8322592870243034,
          0.8831766010498926,
          0.7018101228083153,
          0.7325039276212449,
          0.9202185946706356,
          0.8223262935373601,
          0.947820313312771,
          0.904933512268539,
          0.957926642063426,
          0.9091932856007593,
          0.8122316672190621,
          0.9043760185947701,
          0.8822251436639506,
          1.070793935705954,
          0.9084245056495145,
          0.8923799126871093,
          0.8357134880822588,
          0.9509986595288957,
          0.9771414471890596,
          0.9190939011812097,
          1.024172247752388,
          0.9780025723863124,
          0.8913660043403384,
          1.0459446057767579,
          0.7898780755083983,
          1.027019601121078,
          0.7318964991528227,
          0.8489921631090656,
          0.9847318793823862,
          0.8291566410843502,
          0.9269694635842574,
          0.9631539353934151,
          0.7180770546516175,
          0.9565440628646531,
          0.912921142418172,
          0.8503271060684681,
          1.0572389735644943,
          0.8443692233780362,
          0.8906054047140748,
          1.0111264996452554,
          0.8318671397507248,
          0.7909581429989091,
          0.8297989186878283,
          0.8883280364474812,
          0.7115530887663141,
          0.9258235772084957,
          0.9430201702754126,
          0.8857615397025534,
          0.9167132214538023,
          0.8661144563779576,
          0.7614570991453914,
          0.9309157811589567,
          0.8559667534636399,
          0.9315546802647919,
          0.8942665149277639,
          0.7021299981652168,
          0.8121820558633451,
          0.719061539229797,
          0.9765445126265007,
          0.8724711958260504,
          0.9347320051768717,
          0.8663272541301014,
          0.9542821815709456,
          1.00759493805015,
          0.874625153997111,
          0.7609960137082838,
          0.9239617958649048,
          0.6986802575296585,
          0.7304491951609613,
          1.0417124229331574,
          0.8789162941711848,
          0.7444424756133464,
          0.9645929593420024,
          1,
          0.9423075414762563,
          0.9241215891177541,
          1.0642531890538447,
          1.0044587787885473,
          0.8333564148557152,
          0.8592913081522195,
          0.8278370305065876,
          0.7108966759352202,
          0.9477544668854897,
          0.7177652987134957,
          0.9436987686231261,
          0.933454155722327,
          0.7102800998166487,
          0.9105360924739987,
          0.9515327117822565,
          0.9042163442736584,
          0.8525608954580589,
          0.9156823105471669,
          0.9164025582891655,
          0.8477770218408733,
          0.8496074240378363,
          0.9245058739466852,
          0.9052265288297472,
          0.8426221174822068,
          0.7919772585001055,
          0.9961964033288853,
          0.8808074939100518,
          0.9658920137794723,
          0.9628164275749989,
          0.7133336146750138,
          0.6997312066626241,
          0.8216988269357196,
          0.7925410149370596,
          0.9298410662774486,
          1.0512632059951412,
          0.711790983283791,
          0.9938938578350066,
          0.7031272629939782,
          0.7883843824023553,
          0.8810822099421695,
          0.9606438734021321,
          0.7264582053602653,
          0.8837614677433703,
          0.8615506744104643,
          1.0811193821429734,
          0.9917942818265836,
          1.0941963865954396,
          1.03581687864148,
          0.9854029343064199,
          0.9411370736681217,
          0.8571691411909672,
          0.7232824671062503,
          0.8965594734000737,
          0.7699809329662805,
          0.7397701355057981,
          0.9914954534042344,
          0.9263160005964912,
          0.8496615121114054,
          0.8551319500172392,
          0.9109847511412923,
          1.071656525704804,
          0.8689734592612286,
          0.8119425552811436,
          0.8291344026035062,
          0.8778115206594506,
          0.9539461967041312,
          0.8475227160523751,
          0.8079920278724635,
          0.7222209124686917,
          0.8765160509999099,
          0.8628346140761473,
          0.7161604222957778,
          0.9197893847472967,
          0.816968686292607,
          0.8815953210148388,
          0.7431642753755755,
          0.71383118189461,
          0.8665854394673298,
          0.8434531978295137,
          0.8581054489195283,
          0.9189546729845182,
          0.8980034879671298,
          0.9023684936261043,
          0.7230209768258496,
          0.9383783626015936,
          0.9272226263633854,
          0.9583064973331571,
          0.9227494889981577,
          0.8988767190662816,
          0.745249999813865,
          1.0231429150102538,
          0.7751376878216695,
          1.0271263023047383,
          0.7395200670572428,
          0.8528318817322774,
          0.7700636560434924,
          0.9595596663320951,
          0.7309985051881296,
          0.7001304890457648,
          0.7070978234929975,
          0.7199339906050917,
          0.763987238874783,
          0.9261265744480104,
          0.7080248209085995,
          0.8869628130338258,
          0.8440290331393239,
          0.9054550504632386,
          1.0628712072581596,
          0.8507883219360877,
          1.043831585065968,
          0.9417331393322559,
          1.082200048220797,
          0.7669886086279769,
          0.9575109886193357,
          0.7547393987960664,
          0.9949105658167618,
          0.8431868835478288,
          0.9136288418874214,
          0.7221616844752385,
          1.0301038957851194,
          0.7187098470303102,
          0.9135522006968955,
          0.6883324539968616,
          0.9110918487048139,
          0.8351188814026782,
          1.0432240290908872,
          0.9189575100876967,
          0.8492047091407285,
          0.7688810665615455,
          1.0024000567380806,
          0.7285857014691137,
          0.9538982943806861,
          0.9301339037497368,
          0.9729867797727907,
          0.9035510192174088,
          0.9130258459751277,
          0.7604426304186915,
          0.7431106919370561,
          0.9889345225414163,
          0.7464666280954193,
          0.9555650181920214,
          0.7141844195450535,
          0.7382895317328191,
          0.9390900090221015,
          0.8778008724203776,
          0.8574717155243597,
          0.8459092286299941,
          0.9591482976721373,
          0.8400544730909982,
          0.8756927901652591,
          0.7293250005508288,
          0.7552292382617136,
          0.7393383009938237,
          0.9175699599491927,
          0.8333764116049476,
          0.9878061077710705,
          1.0848743152841074,
          0.9210883438290682,
          0.8757998705075954,
          1.0837735242570314,
          0.8990929955849098,
          0.8723354951490184,
          0.7390931406217256,
          0.8460051146017975,
          0.9468184033529179,
          0.9986932351431534,
          0.9619519020893765,
          0.8621354727180326,
          0.7896146163833583,
          0.7399201610716217,
          0.8879390741626383,
          0.9303757953547238,
          0.7522762705020932,
          0.7190553856998454,
          0.9836640645226855,
          0.9923258272672284,
          0.9252204788819556,
          1.0632328514379366,
          0.9471200091621723,
          0.7414744391340138,
          0.7231923886979259,
          0.8325989276828392,
          0.9707838791911,
          0.8539916393702462,
          1,
          0.9079992232636448,
          1.0044860477664186,
          0.8331804247228541,
          1.0309453816186602,
          0.97894791518837,
          0.7326819819323147,
          0.9573239333338088,
          1.0908423359351043,
          0.9795855731637697,
          0.8747055848818561,
          0.8389752537371825,
          0.9912593729542433,
          0.8273124911724908,
          0.8802901818223398,
          0.8922622224641639,
          0.7854849833127164,
          0.7308525672000377,
          0.8864297680715129,
          0.8934186327423579,
          0.7117404890026215,
          0.9343621284863372,
          1.0045408611407296,
          0.9777271647796231,
          0.9135017851493563,
          0.7323186594055145,
          0.8768572460934433,
          0.9266977252769221,
          0.8714115639845292,
          0.8461741587408494,
          0.9387387880497674,
          0.8779070748860337,
          0.9199711893622311,
          0.771086252093625,
          1.0314949751737073,
          0.8946829401515224,
          0.7334681687794776,
          1.0660931830800493,
          0.8615085870425575,
          1.0422474915211972,
          0.8660255715381284,
          0.7333479777354828,
          0.9908382016320729,
          0.9344234511114937,
          0.9426177697428881,
          1.019351733321387,
          0.9158578084870468,
          0.9263117503859327,
          1.055956493134787,
          0.9185655062239308,
          0.7234292780172293,
          0.937282708582311,
          0.8956098818108456,
          0.7301518977461712,
          0.9208152307311165,
          0.8893064961083424,
          0.7748967874089023,
          0.7474375887398643,
          0.9905209881548962,
          0.7874066800818478,
          0.874176447371673,
          0.8220441374854449,
          0.8213540410274905,
          0.966855957927904,
          0.9962062789643168,
          1.0254477649487324,
          0.8877193388345743,
          1.0123805284268494,
          0.955243322278364,
          1.017234803371985,
          0.8645631552200566,
          0.9367062846461015,
          0.8862046862798685,
          0.9475801847978809,
          0.9275164171096874,
          0.8930909684401489,
          0.907240861946801,
          0.7386895802900052,
          0.8702598322060725,
          0.958011980244382,
          0.9326336347054994,
          0.734248372499219,
          0.8750552071175676,
          0.8625731457628543,
          0.8961206136124431,
          0.900471193933814,
          0.9630661787894483,
          0.861449873493235,
          0.9866365962137842,
          0.9554293165391144,
          0.735039295341538,
          0.8718483645456747,
          0.9003730086538132,
          0.9366799538865777,
          0.9122686740293855,
          0.921615352515781,
          1,
          0.9282778263004454,
          0.7796367826846007,
          0.9424882690451212,
          0.9274314759832237,
          0.9263857112618874,
          0.8203411047076032,
          0.7386489881114884,
          0.99021711882736,
          0.9070701559195906,
          1,
          0.841420466719832,
          0.7294636087029026,
          0.8663326358196575,
          0.737002515859071,
          0.8676805067376995,
          0.7497267651451183,
          0.9068639949714653,
          0.8504584456575301,
          0.9023053968706566,
          0.734155424391745,
          0.8982316816484358,
          0.8755094669314788,
          0.8982981921390024,
          0.8856992775739425,
          0.9381254183280385,
          0.8797916820030598,
          1,
          0.9044801156149497,
          1.0532252473064134,
          0.9453642480374363,
          1.028308188716431,
          0.8659855938204775,
          0.7463017826963227,
          0.9988867754700823,
          0.8339402969272005,
          0.8758751138268869,
          0.9495327549566434,
          0.960856660725854,
          0.7628390790884848,
          0.8221758639552974,
          0.8713755365549504,
          0.7513706592616316,
          1.0103733866461047,
          0.7437886815429526,
          1.0742232068158528,
          1.021759349441294,
          0.77764525769104,
          0.8258345021665742,
          0.8481565468186512,
          0.8621777840087549,
          0.7618935240389386,
          0.9009576653683105,
          0.9173854986406595,
          0.8780504079335433,
          0.9343983045429722,
          0.8815575215838856,
          0.867106993124106,
          1.0394783549353188,
          0.8868629989319152,
          0.8482004518784088,
          0.8241902685993371,
          0.9718206860416229,
          0.874316304270944,
          0.8973927284422681,
          0.883646089688711,
          0.9494020824709127,
          0.9459568497099684,
          1.006647030222796,
          0.9880552299416056,
          0.7649758810953213,
          0.9201209435911359,
          0.8712880147304659,
          1.0387205117926037,
          0.9154441186009986,
          1.0180395291873374,
          0.9183065429589236,
          0.7407443139002889,
          1.1039567887493489,
          0.8789004185240149,
          0.9683585098195895,
          0.7176593634694599,
          1.0055939162102527,
          0.8162162872555069,
          0.9521532877065365,
          0.9014242056091818,
          0.7502280691690967,
          0.9235691416495464,
          0.8607782069733515,
          0.7385902888345427,
          0.741654163161938,
          0.9097019212055841,
          0.8776435031706715,
          0.9672072077062117,
          0.8849586900288964,
          0.8934811280351841,
          0.7474452658129356,
          0.8551495906349502,
          0.7574050123248299,
          0.746756147622636,
          0.8091331286163893,
          0.9204843914773381,
          0.740999471735446,
          0.8977833465332136,
          0.9688338607108189,
          0.8970481478266721,
          0.7496844664876703,
          0.7563486783418478,
          0.8814119942817754,
          1,
          0.8895467390827044,
          0.9505710602875105,
          0.8949667871876335,
          0.7474107164159037,
          0.9310750624513351,
          0.9338041308425602,
          0.8945464372366445,
          0.9031031941167939,
          0.8968330871511925,
          0.9056215188384376,
          0.9264756846465146,
          1.0119749068340158,
          0.8669787406745022,
          0.7570171962478114,
          0.7497988935826113,
          0.9663190335892096,
          0.9269284550788986,
          0.9209948848716059,
          0.8928704292513118,
          1.0192542972971215,
          0.7498185590154463,
          1.0577828664835107,
          1.0124512883806556,
          1.0182260954027278,
          0.917532989925365,
          0.7511120696083495,
          0.9060096707716848,
          1.0547935860436992,
          0.8918525683007366,
          0.9290482586535769,
          0.8703477922494166,
          0.940289556469138,
          0.7701216359010955,
          1.0398722983961957,
          0.8922571268094636,
          0.7659927551088641,
          0.9719456830535058,
          0.8971334834533176,
          0.8663831186618034,
          0.9268245630662748,
          0.8805731432906827,
          0.9719884321076468,
          0.7757583641556771,
          0.9186648106682079,
          0.978392761696728,
          0.9112657581865615,
          0.7523040368984517,
          0.8717117008684784,
          0.7447010408973093,
          0.8813446266231639,
          0.7723871180019843,
          0.8800227358277652,
          0.9052688293569096,
          0.8267514135610341,
          1.0819376230500508,
          0.9516450514780945,
          0.8979993599536307,
          0.752674179978107,
          0.9365232467627846,
          0.8866586916855124,
          0.8942728090927309,
          0.8692770712098413,
          0.8497286593107325,
          0.869620315727885,
          0.9780205577764483,
          0.8373734789830061,
          0.7580851188521815,
          0.7593775522366717,
          0.8780788659230248,
          0.9786109745812153,
          0.8864360738763075,
          0.8682553118201125,
          0.8039560087136409,
          1.0006797109875425,
          1.072933012466435,
          0.9692383667843167,
          1.008123681247303,
          0.7609847889763982,
          0.9069493221330192,
          0.7501148401540149,
          0.7518754500127934,
          0.844538383243409,
          0.7604787279490315,
          0.9807097975615179,
          0.924355819343885,
          1,
          0.7655669483992472,
          0.7443164435284702,
          0.979209788550357,
          1.0334103966202124,
          0.9314109934594603,
          1.0046153902047892,
          0.9921694480340897,
          0.9762748465026468,
          1.0038955307727273,
          0.8944651306518501,
          0.8805749550781297,
          0.9808910253679715,
          0.8222991367624178,
          1.0059302796119673,
          0.7784660559611758,
          0.9591223086413834,
          0.8487564706282007,
          0.9906001722725403,
          0.7623197456241115,
          0.9187540413903658,
          0.992797792394458,
          0.9658303910470112,
          0.8295699597349875,
          0.9123649184311736,
          0.7548842126273918,
          0.8869181599176226,
          0.9439611146404963,
          0.8509601339135633,
          0.8679033536184394,
          1.0260334144743994,
          0.8810389018992428,
          0.7581673102762394,
          0.8587565735702922,
          0.9153811133277325,
          0.9027776130260344,
          0.8703950539546672,
          1.0171045068338898,
          0.8756564590005941,
          0.8961340865733788,
          0.9629452307848303,
          0.9584004437617495,
          0.9137336102304078,
          1.0012191247030324,
          0.940705619256887,
          0.9477879564134142,
          1,
          0.7556264394334691,
          1.0467862665019814,
          0.8557616634459112,
          0.946406562271549,
          0.9670120038495786,
          0.9423770841985837,
          0.9889552232054598,
          0.7762275204670956,
          0.8765162440111272,
          0.7515335613883807,
          0.9116042262358461,
          1.0221511724752184,
          0.9806085388455221,
          0.8795467319459883,
          0.7373859308028765,
          0.9366257106299043,
          0.9412128700859764,
          1.0232130216295485,
          0.8848755242225552,
          0.8703138631441032,
          0.7542236163374055,
          0.7684688128271165,
          0.97324454056524,
          0.872649681714917,
          0.8485780242826949,
          0.7841267056597492,
          0.9094116925875501,
          0.9347109692318245,
          0.7863597128810196,
          0.9264254340227311,
          0.8399652253293753,
          0.9672972450827364,
          0.8826503715339253,
          0.7614220657158199,
          0.7599011610869217,
          0.8124558601730998,
          0.8692536450882621,
          1.0091350835304642,
          0.909107597584695,
          0.8894811050852633,
          0.88596410725418,
          0.9190611674246759,
          0.8724665211999061,
          0.9315552263222878,
          0.9768595308862092,
          0.7629257900302198,
          0.7659205721992429,
          0.8995322303136906,
          0.8691388276481873,
          0.8778223540045069,
          0.8651890544676136,
          1.0170546222351928,
          0.8704289939468923,
          0.9556723281187975,
          0.8477769646722844,
          0.9369055139135092,
          1.0257133375822924,
          0.7781099494787316,
          0.9886745036039929,
          0.8777339899771686,
          0.8678140546553654,
          0.9249929123582411,
          1.0176311301352055,
          0.9110859745616691,
          0.8619522489087135,
          0.863413588789273,
          0.9187879532320702,
          1.0298213318177578,
          0.8401880887394186,
          0.9593778948823166,
          0.9488293504200228,
          0.8937665248488694,
          0.92110535960576,
          0.9765057136703436,
          0.8757296165160279,
          0.7599255221848843,
          0.9644303149877353,
          0.9718028589568452,
          0.9901375858606052,
          0.9638069945621015,
          0.9318992757250206,
          1.0150659921349405,
          0.9428874550772164,
          0.758961909949553,
          0.7768463782642284,
          1.0158277415467363,
          0.9410777546995377,
          0.7889283322746746,
          0.9554138240220307,
          1.050625711572152,
          1.0088492856600935,
          0.8576420389037753,
          0.9730633725600836,
          0.7860716821523154,
          0.9516478391912271,
          0.936023074601742,
          0.9365272179403532,
          0.8658077646445235,
          1.002206285307548,
          0.9159955986189321,
          0.9054493615632556,
          0.7914038162974354,
          0.9208621984582366,
          1.086539702029531,
          1.000926534187868,
          0.9537670002357188,
          0.7751978084163738,
          1.0234896430220597,
          0.9341690876436348,
          0.8969264370736947,
          0.9432020011633618,
          0.7859476924220986,
          0.7879519558263093,
          0.9893996679696719,
          0.8021330602189426,
          0.8970212800083712,
          0.8547165083147368,
          0.9748200290353426,
          0.8730838832157625,
          0.7780958088176743,
          0.9641119589147714,
          0.7811042199560431,
          0.8946261587303176,
          0.8113419930739939,
          0.9277978716837121,
          0.7908585903969132,
          0.782946226127285,
          0.7994954026472243,
          0.8879460807821052,
          0.795391794715015,
          0.9478330445276125,
          0.9167854043653245,
          0.766516992817089,
          0.7765830172825575,
          1.0285167056737459,
          0.8662715420052662,
          0.9589723245722707,
          0.8705949402140156,
          0.9013197892153012,
          0.8155766136194699,
          1.0226896558620944,
          0.9418745738550831,
          1.0171400068645458,
          0.944511332944103,
          0.8943374744382758,
          0.8729166930127548,
          0.9964762570233072,
          0.906160389247075,
          1.0202209921222472,
          1.0238893041835209,
          0.8969679395122541,
          0.946485360059936,
          0.9770005513758802,
          0.9277538003368987,
          0.9371982114711377,
          0.9414022534257851,
          0.9260197073657552,
          0.9408502545998495,
          0.8550097042253032,
          0.9017619672926835,
          0.994527285108739,
          1.0064947500215502,
          0.9968976780962407,
          0.9518911294802106,
          0.824075714296575,
          0.9220628156229413,
          1.0257085078138823,
          0.9807808322430029,
          0.8613256404942934,
          1.0534781015577188,
          0.9356775976319304,
          0.9634510225876769,
          0.7969500343808776,
          0.9024346632494906,
          0.8888916027666248,
          0.9978796449342049,
          0.9047224927564415,
          0.8838747509084643,
          0.8173001535050671,
          0.9230989513881023,
          0.9867192699747582,
          0.9427887302156231,
          0.8315239606107216,
          0.9141771670112491,
          0.9440084077855109,
          0.9194870154197732,
          0.9307068347538249,
          0.9331007105647267,
          0.9438735132425513,
          0.9526523259172142,
          0.7828562588488364,
          0.9029778877070344,
          0.8562121789723334,
          0.7966309370865893,
          0.8839630879124363,
          0.9180385335627748,
          0.9723293693494937,
          1.0761566956287563,
          0.7890708724192037,
          1,
          0.9819646197154757,
          0.9164032816390288,
          0.8523127595745762,
          0.9169110368556173,
          0.9194687940273827,
          0.952047855792632,
          0.8783307169891461,
          1.0203483244174758,
          0.9326668454180482,
          0.9282803321524951,
          0.8027683969004024,
          0.9980438851674547,
          1.0078378278941407,
          0.9752407939810367,
          0.9807635850051009,
          0.9165696823030598,
          0.9298543749530851,
          0.7975547414808528,
          0.791104570445738,
          0.9034631146313483,
          0.8134991228017902,
          0.942378652196632,
          0.8025997163229535,
          0.9084456428260935,
          0.9176842168651057,
          0.9091691712905906,
          0.916553733954019,
          0.9120701932773054,
          1.011332166429696,
          0.7953617559928051,
          0.8924755769170392,
          0.966071809683753,
          0.918058495922008,
          0.9971447050244275,
          0.9291828139737482,
          1.0029162430274217,
          1.0401985095127007,
          0.9273923168788307,
          0.963827850752558,
          0.9080617878181718,
          0.7950705064462825,
          0.8954109680808068,
          0.8983650110899125,
          0.9469259413770292,
          0.897264842461137,
          0.9919883019843136,
          1.0059873366085066,
          0.9080049873510633,
          0.9529349970624922,
          0.9262552536701787,
          0.9903532451520407,
          1.0554948448335477,
          0.9057686343592857,
          0.9740927030711886,
          0.7957078696695095,
          0.970016083712832,
          0.8759204155142495,
          0.883906907982094,
          0.8657730207162426,
          0.959876863072231,
          0.9185949010450449,
          0.9621598648603983,
          0.951499273082685,
          0.9459299634107661,
          0.8142742861139185,
          0.8925445041057448,
          0.9785579740669995,
          0.8106523476609427,
          0.9382743680308449,
          1.0563282525725226,
          1.042637156721514,
          0.8683926535725013,
          0.971584475321418,
          0.9544226221935884,
          0.9988610757711277,
          0.9166366623305005,
          0.8986590867787996,
          0.8851405712653707,
          0.8926723236911256,
          1.0145480434705096,
          0.8622333226603904,
          0.8102590608116349,
          0.8911090943498867,
          0.9481565355042542,
          0.8456745341645338,
          0.9450966403612683,
          0.8055842937781535,
          0.8184301421082414,
          0.9346559369854537,
          0.8917489049331834,
          0.9228438172433542,
          1.0246238448574552,
          0.9305032405146065,
          0.9357193737781818,
          0.8396120808661681,
          1.0613483854021069,
          0.9114798261677799,
          0.9625379304632733,
          0.9753108079923134,
          0.8974875680219142,
          0.9033274485514735,
          0.946217113135348,
          0.8830518477048968,
          0.9986137031895272,
          0.8196872380146748,
          0.9433303626874079,
          0.9601376378574766,
          1.014734905030175,
          0.9195553041003564,
          0.9533760611172688,
          0.8112305458399288,
          0.9335972669702948,
          0.8156063633099092,
          0.9598150965039003,
          0.9159123134168397,
          1.023121957551369,
          0.9842683782757284,
          0.9047594256581897,
          0.9087802470192495,
          0.7877332170146463,
          0.9427756289216911,
          1.0193765236844237,
          1.0140798606342354,
          0.9875587817414943,
          0.912274139981303,
          0.982091680035805,
          0.9233933005408745,
          1.0480350998496881,
          0.9614380514807959,
          1.0264641108993902,
          0.9470013684896756,
          0.9130446023484639,
          0.8836575814460262,
          0.9125326633735945,
          0.9558019822747865,
          0.8889622100290551,
          0.8760712219305465,
          0.9420911573684596,
          0.9092572198474853,
          0.9491681530233061,
          0.9618026183448514,
          0.9684683336590784,
          0.9459511469490739,
          0.9696909550098034,
          0.932914397352197,
          0.9500873163862028,
          0.9619426276666776,
          0.9183372191215382,
          1.0065631495353862,
          0.9236589013038269,
          0.9891808321260153,
          0.9565371334987144,
          0.9496600198998929,
          0.8854461970214058,
          0.9621640528487305,
          0.975763148267982,
          0.9417976818194711,
          0.9727951213302015,
          0.988107104664223,
          0.9821873340947525,
          0.832199449098418,
          1.0241982987731073,
          0.9205543666442615,
          0.8949084441356929,
          0.916543167549902,
          0.9347129095353427,
          0.9849048079122149,
          0.8303321645904438,
          0.9740320040767056,
          0.9340209270426856,
          1.013670809869081,
          0.935855477031218,
          0.922145689221445,
          0.8207361915755216,
          0.9358597768288123,
          0.9298456525391057,
          0.9245107207479486,
          0.9287346791282006,
          0.9437825399122728,
          0.9089284833268256,
          0.9371952861644884,
          0.97699312090977,
          0.875624954064587,
          0.9986653487303617,
          0.9283472734226379,
          0.9519899472967341,
          0.930966796721806,
          0.9287179414519647,
          0.8195568379291676,
          0.9454200063031889,
          0.9013388073644315,
          0.9089371499972289,
          0.9606128988319819,
          0.9171943191191181,
          0.9811916143440693,
          0.8909193527287982,
          0.945903129348079,
          0.9279992971560015,
          0.905307431511893,
          0.8462482023645068,
          0.9538802654578575,
          0.9343563740585495,
          0.9429533063383562,
          0.927460291364178,
          0.9056635202619349,
          0.9911387032533823,
          0.9268464697207481,
          0.9717244421349079,
          0.923569511268722,
          0.9152199342613374,
          1.037825429582473,
          0.9768874333772963,
          0.9557664238895389,
          0.9499100523500901,
          0.9013322509668544,
          0.9570401386997252,
          0.938844141696143,
          0.9750578788857449,
          0.835152064765774,
          0.8345425051582922,
          0.9249878625426895,
          0.9577819552679502,
          0.963486627036737,
          1,
          0.9240478777061094,
          0.9004470200801657,
          1,
          0.9541226681941057,
          0.9464505772192446,
          1.0498716326181834,
          0.9886497487049235,
          0.9742187239116312,
          0.926019413987414,
          0.8843793881179001,
          0.9180570370926696,
          0.9362495177778621,
          0.9450712553383318,
          0.9372838019124752,
          1,
          0.947122699676556,
          0.9776047808920589,
          0.9276935042915044,
          0.8340022500955938,
          0.962579404365582,
          0.8459140841527464,
          1,
          0.9573349627186656,
          0.9641831517030572,
          0.9541288969529289,
          0.9176400901707014,
          0.8372115525508261,
          0.9616869071565701,
          0.9311558605962036,
          0.912551486772341,
          0.947718883823545,
          0.9377368518407829,
          0.9654765535866756,
          0.9599709325662797,
          0.8552726612479954,
          0.9326896038102707,
          0.9629942026070812,
          1.01736630486702,
          0.9326093603732609,
          0.9520484181284218,
          0.9409610348594706,
          0.9289545805384466,
          0.9738085288843561,
          0.9376898174684611,
          0.9097836199450192,
          0.9298113358212537,
          0.9442302417810825,
          1.0179428662697165,
          0.9299487959279334,
          0.913988459865325,
          1.0362076425189226,
          0.9687171681606516,
          1,
          0.9961513301215573,
          1.0176132396471531,
          0.947169088247025,
          1.0126378094955317,
          0.9297162456574138,
          0.9405418128106028,
          0.93614411379641,
          0.9493456475035962,
          1,
          0.94615668333526,
          0.9415407050689114,
          0.9671124353070223,
          0.9150812053958037,
          0.9605175820492339,
          0.9653875936269548,
          0.9022644833323985,
          0.9349886049499252,
          1.0293740751350837,
          0.9473612646433778,
          0.9169810453255615,
          0.9603924694088722,
          0.9381274501392741,
          0.9348989876279764,
          0.9646292787947071,
          0.9391356543628572,
          0.9556686170922803,
          0.9399724666764045,
          1.0270233471881758,
          0.9762018129936179,
          0.864313777903261,
          0.9312801532194553,
          0.9324087180959699,
          0.9554517457908553,
          0.9614768789660051,
          0.8844561158149157,
          0.8986613794960314,
          0.9590636445566615,
          0.974174743521996,
          0.9168011125844525,
          0.9654115239869071,
          0.9497817779229639,
          0.9314562430937373,
          0.9640748070525459,
          1.0097962247541041,
          0.9693915196715686,
          0.9458602083503282,
          0.9488547287876321,
          0.8869560026109435,
          0.9414098485477704,
          0.8730162669001453,
          0.9511282448253402,
          0.978112129054804,
          0.9479839943262283,
          0.8893698578469279,
          0.9410881886356137,
          0.8877364151269259,
          0.8909936147101096,
          0.951347947090835,
          0.8763482779392221,
          0.9647942745069574,
          1.0049668772948486,
          0.8912815666123559,
          0.9242983450989031,
          0.8884346683034944,
          0.954988929284765,
          0.9831747095628416,
          1.0087163522065126,
          0.9708780715849326,
          0.8845611549336599,
          0.9621672135922492,
          0.9676183971749164,
          0.8921182853690112,
          0.9647138281698018,
          0.9105794417661555,
          0.954877693259541,
          0.9851252118872779,
          1.0682278634376545,
          0.9526123609524187,
          0.8893090799987838,
          0.9640034031443456,
          1,
          0.9746356096091088,
          0.9624084448507546,
          0.9750617791594844,
          0.9562600690198255,
          0.9773239710406034,
          0.9055175603167509,
          0.9926328792466407,
          0.9251263588047465,
          0.991812415095519,
          0.942544928927982,
          0.9386596755237265,
          0.9714355802852701,
          0.9923917018644756,
          0.9659612298469628,
          0.9847149284981442,
          1.011549864731567,
          0.9879111312016301,
          1
         ],
         "yaxis": "y"
        }
       ],
       "layout": {
        "legend": {
         "tracegroupgap": 0
        },
        "margin": {
         "t": 60
        },
        "template": {
         "data": {
          "bar": [
           {
            "error_x": {
             "color": "#2a3f5f"
            },
            "error_y": {
             "color": "#2a3f5f"
            },
            "marker": {
             "line": {
              "color": "#E5ECF6",
              "width": 0.5
             },
             "pattern": {
              "fillmode": "overlay",
              "size": 10,
              "solidity": 0.2
             }
            },
            "type": "bar"
           }
          ],
          "barpolar": [
           {
            "marker": {
             "line": {
              "color": "#E5ECF6",
              "width": 0.5
             },
             "pattern": {
              "fillmode": "overlay",
              "size": 10,
              "solidity": 0.2
             }
            },
            "type": "barpolar"
           }
          ],
          "carpet": [
           {
            "aaxis": {
             "endlinecolor": "#2a3f5f",
             "gridcolor": "white",
             "linecolor": "white",
             "minorgridcolor": "white",
             "startlinecolor": "#2a3f5f"
            },
            "baxis": {
             "endlinecolor": "#2a3f5f",
             "gridcolor": "white",
             "linecolor": "white",
             "minorgridcolor": "white",
             "startlinecolor": "#2a3f5f"
            },
            "type": "carpet"
           }
          ],
          "choropleth": [
           {
            "colorbar": {
             "outlinewidth": 0,
             "ticks": ""
            },
            "type": "choropleth"
           }
          ],
          "contour": [
           {
            "colorbar": {
             "outlinewidth": 0,
             "ticks": ""
            },
            "colorscale": [
             [
              0,
              "#0d0887"
             ],
             [
              0.1111111111111111,
              "#46039f"
             ],
             [
              0.2222222222222222,
              "#7201a8"
             ],
             [
              0.3333333333333333,
              "#9c179e"
             ],
             [
              0.4444444444444444,
              "#bd3786"
             ],
             [
              0.5555555555555556,
              "#d8576b"
             ],
             [
              0.6666666666666666,
              "#ed7953"
             ],
             [
              0.7777777777777778,
              "#fb9f3a"
             ],
             [
              0.8888888888888888,
              "#fdca26"
             ],
             [
              1,
              "#f0f921"
             ]
            ],
            "type": "contour"
           }
          ],
          "contourcarpet": [
           {
            "colorbar": {
             "outlinewidth": 0,
             "ticks": ""
            },
            "type": "contourcarpet"
           }
          ],
          "heatmap": [
           {
            "colorbar": {
             "outlinewidth": 0,
             "ticks": ""
            },
            "colorscale": [
             [
              0,
              "#0d0887"
             ],
             [
              0.1111111111111111,
              "#46039f"
             ],
             [
              0.2222222222222222,
              "#7201a8"
             ],
             [
              0.3333333333333333,
              "#9c179e"
             ],
             [
              0.4444444444444444,
              "#bd3786"
             ],
             [
              0.5555555555555556,
              "#d8576b"
             ],
             [
              0.6666666666666666,
              "#ed7953"
             ],
             [
              0.7777777777777778,
              "#fb9f3a"
             ],
             [
              0.8888888888888888,
              "#fdca26"
             ],
             [
              1,
              "#f0f921"
             ]
            ],
            "type": "heatmap"
           }
          ],
          "heatmapgl": [
           {
            "colorbar": {
             "outlinewidth": 0,
             "ticks": ""
            },
            "colorscale": [
             [
              0,
              "#0d0887"
             ],
             [
              0.1111111111111111,
              "#46039f"
             ],
             [
              0.2222222222222222,
              "#7201a8"
             ],
             [
              0.3333333333333333,
              "#9c179e"
             ],
             [
              0.4444444444444444,
              "#bd3786"
             ],
             [
              0.5555555555555556,
              "#d8576b"
             ],
             [
              0.6666666666666666,
              "#ed7953"
             ],
             [
              0.7777777777777778,
              "#fb9f3a"
             ],
             [
              0.8888888888888888,
              "#fdca26"
             ],
             [
              1,
              "#f0f921"
             ]
            ],
            "type": "heatmapgl"
           }
          ],
          "histogram": [
           {
            "marker": {
             "pattern": {
              "fillmode": "overlay",
              "size": 10,
              "solidity": 0.2
             }
            },
            "type": "histogram"
           }
          ],
          "histogram2d": [
           {
            "colorbar": {
             "outlinewidth": 0,
             "ticks": ""
            },
            "colorscale": [
             [
              0,
              "#0d0887"
             ],
             [
              0.1111111111111111,
              "#46039f"
             ],
             [
              0.2222222222222222,
              "#7201a8"
             ],
             [
              0.3333333333333333,
              "#9c179e"
             ],
             [
              0.4444444444444444,
              "#bd3786"
             ],
             [
              0.5555555555555556,
              "#d8576b"
             ],
             [
              0.6666666666666666,
              "#ed7953"
             ],
             [
              0.7777777777777778,
              "#fb9f3a"
             ],
             [
              0.8888888888888888,
              "#fdca26"
             ],
             [
              1,
              "#f0f921"
             ]
            ],
            "type": "histogram2d"
           }
          ],
          "histogram2dcontour": [
           {
            "colorbar": {
             "outlinewidth": 0,
             "ticks": ""
            },
            "colorscale": [
             [
              0,
              "#0d0887"
             ],
             [
              0.1111111111111111,
              "#46039f"
             ],
             [
              0.2222222222222222,
              "#7201a8"
             ],
             [
              0.3333333333333333,
              "#9c179e"
             ],
             [
              0.4444444444444444,
              "#bd3786"
             ],
             [
              0.5555555555555556,
              "#d8576b"
             ],
             [
              0.6666666666666666,
              "#ed7953"
             ],
             [
              0.7777777777777778,
              "#fb9f3a"
             ],
             [
              0.8888888888888888,
              "#fdca26"
             ],
             [
              1,
              "#f0f921"
             ]
            ],
            "type": "histogram2dcontour"
           }
          ],
          "mesh3d": [
           {
            "colorbar": {
             "outlinewidth": 0,
             "ticks": ""
            },
            "type": "mesh3d"
           }
          ],
          "parcoords": [
           {
            "line": {
             "colorbar": {
              "outlinewidth": 0,
              "ticks": ""
             }
            },
            "type": "parcoords"
           }
          ],
          "pie": [
           {
            "automargin": true,
            "type": "pie"
           }
          ],
          "scatter": [
           {
            "fillpattern": {
             "fillmode": "overlay",
             "size": 10,
             "solidity": 0.2
            },
            "type": "scatter"
           }
          ],
          "scatter3d": [
           {
            "line": {
             "colorbar": {
              "outlinewidth": 0,
              "ticks": ""
             }
            },
            "marker": {
             "colorbar": {
              "outlinewidth": 0,
              "ticks": ""
             }
            },
            "type": "scatter3d"
           }
          ],
          "scattercarpet": [
           {
            "marker": {
             "colorbar": {
              "outlinewidth": 0,
              "ticks": ""
             }
            },
            "type": "scattercarpet"
           }
          ],
          "scattergeo": [
           {
            "marker": {
             "colorbar": {
              "outlinewidth": 0,
              "ticks": ""
             }
            },
            "type": "scattergeo"
           }
          ],
          "scattergl": [
           {
            "marker": {
             "colorbar": {
              "outlinewidth": 0,
              "ticks": ""
             }
            },
            "type": "scattergl"
           }
          ],
          "scattermapbox": [
           {
            "marker": {
             "colorbar": {
              "outlinewidth": 0,
              "ticks": ""
             }
            },
            "type": "scattermapbox"
           }
          ],
          "scatterpolar": [
           {
            "marker": {
             "colorbar": {
              "outlinewidth": 0,
              "ticks": ""
             }
            },
            "type": "scatterpolar"
           }
          ],
          "scatterpolargl": [
           {
            "marker": {
             "colorbar": {
              "outlinewidth": 0,
              "ticks": ""
             }
            },
            "type": "scatterpolargl"
           }
          ],
          "scatterternary": [
           {
            "marker": {
             "colorbar": {
              "outlinewidth": 0,
              "ticks": ""
             }
            },
            "type": "scatterternary"
           }
          ],
          "surface": [
           {
            "colorbar": {
             "outlinewidth": 0,
             "ticks": ""
            },
            "colorscale": [
             [
              0,
              "#0d0887"
             ],
             [
              0.1111111111111111,
              "#46039f"
             ],
             [
              0.2222222222222222,
              "#7201a8"
             ],
             [
              0.3333333333333333,
              "#9c179e"
             ],
             [
              0.4444444444444444,
              "#bd3786"
             ],
             [
              0.5555555555555556,
              "#d8576b"
             ],
             [
              0.6666666666666666,
              "#ed7953"
             ],
             [
              0.7777777777777778,
              "#fb9f3a"
             ],
             [
              0.8888888888888888,
              "#fdca26"
             ],
             [
              1,
              "#f0f921"
             ]
            ],
            "type": "surface"
           }
          ],
          "table": [
           {
            "cells": {
             "fill": {
              "color": "#EBF0F8"
             },
             "line": {
              "color": "white"
             }
            },
            "header": {
             "fill": {
              "color": "#C8D4E3"
             },
             "line": {
              "color": "white"
             }
            },
            "type": "table"
           }
          ]
         },
         "layout": {
          "annotationdefaults": {
           "arrowcolor": "#2a3f5f",
           "arrowhead": 0,
           "arrowwidth": 1
          },
          "autotypenumbers": "strict",
          "coloraxis": {
           "colorbar": {
            "outlinewidth": 0,
            "ticks": ""
           }
          },
          "colorscale": {
           "diverging": [
            [
             0,
             "#8e0152"
            ],
            [
             0.1,
             "#c51b7d"
            ],
            [
             0.2,
             "#de77ae"
            ],
            [
             0.3,
             "#f1b6da"
            ],
            [
             0.4,
             "#fde0ef"
            ],
            [
             0.5,
             "#f7f7f7"
            ],
            [
             0.6,
             "#e6f5d0"
            ],
            [
             0.7,
             "#b8e186"
            ],
            [
             0.8,
             "#7fbc41"
            ],
            [
             0.9,
             "#4d9221"
            ],
            [
             1,
             "#276419"
            ]
           ],
           "sequential": [
            [
             0,
             "#0d0887"
            ],
            [
             0.1111111111111111,
             "#46039f"
            ],
            [
             0.2222222222222222,
             "#7201a8"
            ],
            [
             0.3333333333333333,
             "#9c179e"
            ],
            [
             0.4444444444444444,
             "#bd3786"
            ],
            [
             0.5555555555555556,
             "#d8576b"
            ],
            [
             0.6666666666666666,
             "#ed7953"
            ],
            [
             0.7777777777777778,
             "#fb9f3a"
            ],
            [
             0.8888888888888888,
             "#fdca26"
            ],
            [
             1,
             "#f0f921"
            ]
           ],
           "sequentialminus": [
            [
             0,
             "#0d0887"
            ],
            [
             0.1111111111111111,
             "#46039f"
            ],
            [
             0.2222222222222222,
             "#7201a8"
            ],
            [
             0.3333333333333333,
             "#9c179e"
            ],
            [
             0.4444444444444444,
             "#bd3786"
            ],
            [
             0.5555555555555556,
             "#d8576b"
            ],
            [
             0.6666666666666666,
             "#ed7953"
            ],
            [
             0.7777777777777778,
             "#fb9f3a"
            ],
            [
             0.8888888888888888,
             "#fdca26"
            ],
            [
             1,
             "#f0f921"
            ]
           ]
          },
          "colorway": [
           "#636efa",
           "#EF553B",
           "#00cc96",
           "#ab63fa",
           "#FFA15A",
           "#19d3f3",
           "#FF6692",
           "#B6E880",
           "#FF97FF",
           "#FECB52"
          ],
          "font": {
           "color": "#2a3f5f"
          },
          "geo": {
           "bgcolor": "white",
           "lakecolor": "white",
           "landcolor": "#E5ECF6",
           "showlakes": true,
           "showland": true,
           "subunitcolor": "white"
          },
          "hoverlabel": {
           "align": "left"
          },
          "hovermode": "closest",
          "mapbox": {
           "style": "light"
          },
          "paper_bgcolor": "white",
          "plot_bgcolor": "#E5ECF6",
          "polar": {
           "angularaxis": {
            "gridcolor": "white",
            "linecolor": "white",
            "ticks": ""
           },
           "bgcolor": "#E5ECF6",
           "radialaxis": {
            "gridcolor": "white",
            "linecolor": "white",
            "ticks": ""
           }
          },
          "scene": {
           "xaxis": {
            "backgroundcolor": "#E5ECF6",
            "gridcolor": "white",
            "gridwidth": 2,
            "linecolor": "white",
            "showbackground": true,
            "ticks": "",
            "zerolinecolor": "white"
           },
           "yaxis": {
            "backgroundcolor": "#E5ECF6",
            "gridcolor": "white",
            "gridwidth": 2,
            "linecolor": "white",
            "showbackground": true,
            "ticks": "",
            "zerolinecolor": "white"
           },
           "zaxis": {
            "backgroundcolor": "#E5ECF6",
            "gridcolor": "white",
            "gridwidth": 2,
            "linecolor": "white",
            "showbackground": true,
            "ticks": "",
            "zerolinecolor": "white"
           }
          },
          "shapedefaults": {
           "line": {
            "color": "#2a3f5f"
           }
          },
          "ternary": {
           "aaxis": {
            "gridcolor": "white",
            "linecolor": "white",
            "ticks": ""
           },
           "baxis": {
            "gridcolor": "white",
            "linecolor": "white",
            "ticks": ""
           },
           "bgcolor": "#E5ECF6",
           "caxis": {
            "gridcolor": "white",
            "linecolor": "white",
            "ticks": ""
           }
          },
          "title": {
           "x": 0.05
          },
          "xaxis": {
           "automargin": true,
           "gridcolor": "white",
           "linecolor": "white",
           "ticks": "",
           "title": {
            "standoff": 15
           },
           "zerolinecolor": "white",
           "zerolinewidth": 2
          },
          "yaxis": {
           "automargin": true,
           "gridcolor": "white",
           "linecolor": "white",
           "ticks": "",
           "title": {
            "standoff": 15
           },
           "zerolinecolor": "white",
           "zerolinewidth": 2
          }
         }
        },
        "xaxis": {
         "anchor": "y",
         "domain": [
          0,
          1
         ],
         "title": {
          "text": "dr_2020"
         }
        },
        "yaxis": {
         "anchor": "x",
         "domain": [
          0,
          1
         ],
         "title": {
          "text": "trend_score"
         }
        }
       }
      }
     },
     "metadata": {},
     "output_type": "display_data"
    }
   ],
   "source": [
    "import plotly.express as px\n",
    "px.scatter(data_frame=df_counties, x='dr_2020', y='trend_score', hover_data='county')"
   ]
  }
 ],
 "metadata": {
  "kernelspec": {
   "display_name": "Python 3",
   "language": "python",
   "name": "python3"
  },
  "language_info": {
   "codemirror_mode": {
    "name": "ipython",
    "version": 3
   },
   "file_extension": ".py",
   "mimetype": "text/x-python",
   "name": "python",
   "nbconvert_exporter": "python",
   "pygments_lexer": "ipython3",
   "version": "3.11.9"
  }
 },
 "nbformat": 4,
 "nbformat_minor": 2
}
